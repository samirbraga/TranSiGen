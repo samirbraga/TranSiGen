{
 "cells": [
  {
   "metadata": {
    "tags": [],
    "ExecuteTime": {
     "end_time": "2025-02-10T14:02:31.011859Z",
     "start_time": "2025-02-10T14:02:30.944613Z"
    }
   },
   "cell_type": "code",
   "source": [
    "from dataset import TranSiGenDataset\n",
    "from model import TranSiGen\n",
    "from utils import *\n",
    "import pickle\n",
    "import argparse\n",
    "import warnings\n",
    "import torch\n",
    "warnings.filterwarnings('ignore')\n",
    "import matplotlib.pyplot as plt"
   ],
   "id": "43e6d4c7-99f9-451d-89ea-d8b6792787f2",
   "outputs": [],
   "execution_count": 42
  },
  {
   "metadata": {
    "ExecuteTime": {
     "end_time": "2025-02-10T14:02:31.295698Z",
     "start_time": "2025-02-10T14:02:31.266367Z"
    }
   },
   "cell_type": "code",
   "source": [
    "%load_ext autoreload\n",
    "%autoreload 2"
   ],
   "id": "7c23042fffac5a26",
   "outputs": [
    {
     "name": "stdout",
     "output_type": "stream",
     "text": [
      "The autoreload extension is already loaded. To reload it, use:\n",
      "  %reload_ext autoreload\n"
     ]
    }
   ],
   "execution_count": 43
  },
  {
   "cell_type": "code",
   "id": "6f6a3770-52b2-4ed4-bf88-909605a4e307",
   "metadata": {
    "tags": [],
    "ExecuteTime": {
     "end_time": "2025-02-10T14:02:31.456490Z",
     "start_time": "2025-02-10T14:02:31.428049Z"
    }
   },
   "source": [
    "dev = torch.device(\"cuda\" if torch.cuda.is_available() else \"cpu\")"
   ],
   "outputs": [],
   "execution_count": 44
  },
  {
   "cell_type": "markdown",
   "id": "741b5fac-b987-4788-91d2-1918389fbb38",
   "metadata": {},
   "source": [
    "## Carregamento dos dados"
   ]
  },
  {
   "cell_type": "markdown",
   "id": "4f07e182-b0fe-4469-9304-278ec6033d2c",
   "metadata": {},
   "source": [
    "Os dados são carregados a partir de um arquivo `.h5`:"
   ]
  },
  {
   "cell_type": "code",
   "id": "12173e34-cf50-404b-a0dd-39e273810c2e",
   "metadata": {
    "tags": [],
    "ExecuteTime": {
     "end_time": "2025-02-10T14:02:32.141942Z",
     "start_time": "2025-02-10T14:02:32.117395Z"
    }
   },
   "source": [
    "data_path = '../data/LINCS2020/data_example/processed_data_id.h5'"
   ],
   "outputs": [],
   "execution_count": 45
  },
  {
   "cell_type": "code",
   "id": "81de094c-4fff-47de-81bf-f4ca69884ca1",
   "metadata": {
    "tags": [],
    "ExecuteTime": {
     "end_time": "2025-02-10T14:02:32.406967Z",
     "start_time": "2025-02-10T14:02:32.363492Z"
    }
   },
   "source": [
    "data = load_from_HDF(data_path)"
   ],
   "outputs": [],
   "execution_count": 46
  },
  {
   "cell_type": "markdown",
   "id": "617fe057-26e0-4a6d-a11e-cf1482a19735",
   "metadata": {},
   "source": [
    "O conteúdo do arquivo é um dicionário contendo as seguintes informações:"
   ]
  },
  {
   "cell_type": "code",
   "id": "58a050cb-6f03-41c7-8196-e9baa1d37ab9",
   "metadata": {
    "tags": [],
    "ExecuteTime": {
     "end_time": "2025-02-10T14:02:32.780482Z",
     "start_time": "2025-02-10T14:02:32.747065Z"
    }
   },
   "source": [
    "print(\", \".join(data.keys()))"
   ],
   "outputs": [
    {
     "name": "stdout",
     "output_type": "stream",
     "text": [
      "LINCS_index, canonical_smiles, cid, sig\n"
     ]
    }
   ],
   "execution_count": 47
  },
  {
   "cell_type": "markdown",
   "id": "46dc0c3d-6e66-45be-b6d3-d80b0bd3c969",
   "metadata": {},
   "source": [
    "- **LINCS_index**: \n",
    "- **canonical_smiles**: ids das moléculas dos compostos químicos. Esse id é convertido para o padrão Smiles usando o vetor `idx2smi` definido posteriormente.\n",
    "- **cid**: cell line identifier\n",
    "- **sig**: signature\n",
    "\n",
    "Esse conjunto é, em resumo, um ponteiro para os dados. Os dados em si serão carregados mais à frente pela classe `TranSiGenDataset`."
   ]
  },
  {
   "cell_type": "markdown",
   "id": "6967a1b4-595c-4c78-bc99-ddd8ce91a279",
   "metadata": {},
   "source": [
    "## Definição das configurações gerais\n",
    "Observações:\n",
    "- `cell_count`: número de linhagens celulares. Usado apenas para identificar o modelo salvo.\n",
    "- `feat_type`: tipo de representação das moléculas. Para o uso no modelo, o código Smiles é convertido para uma outra representação da molécula. Essa conversão pode ser feita tanto para um embedding pelo modelo pré-treinado KPGT, ou pela impressão digital molecular (*molecular fingerprint*) ECFP4.\n",
    "- `split_type`: define como os dados serão dividos em treino, validação e teste. Os possíveis valores são\n",
    "    - `random_split`: essa divisão é feita de forma aleatória.\n",
    "    - `cell_split`: os conjuntos são dividos considerando uma mesma linhagem celular, para que não haja o risco de todos os dados de uma célula (ou boa parte deles) fiquem apenas em um dos conjuntos.\n",
    "- `features_dim`: tamanho do vetor que representa a molécula. No caso do KPGT, esse valor é 2304. No caso do ECFP4, o valor é 2048."
   ]
  },
  {
   "cell_type": "code",
   "id": "0ec7069c-fe3b-4a52-8785-6e22f1d320d9",
   "metadata": {
    "tags": [],
    "ExecuteTime": {
     "end_time": "2025-02-10T14:02:33.587817Z",
     "start_time": "2025-02-10T14:02:33.562046Z"
    }
   },
   "source": [
    "cell_count = len(set(data['cid']))\n",
    "feat_type = 'KPGT'\n",
    "batch_size = 64\n",
    "learning_rate = 1e-3\n",
    "beta = 0.1\n",
    "dropout = 0.1\n",
    "weight_decay = 1e-5\n",
    "n_folds = 5\n",
    "random_seed = 364039\n",
    "split_type = 'smiles_split'\n",
    "features_dim = 2304\n",
    "features_embed_dim = [400]\n",
    "n_latent = 100\n",
    "init_mode = 'pretrain_shRNA'\n",
    "# init_mode = 'random'\n",
    "n_epochs = 300\n",
    "molecule_path = '../data/LINCS2020/idx2smi.pickle'"
   ],
   "outputs": [],
   "execution_count": 48
  },
  {
   "cell_type": "code",
   "id": "160ef299-49dc-4693-8f1d-4bf77aeccfe2",
   "metadata": {
    "tags": [],
    "ExecuteTime": {
     "end_time": "2025-02-10T14:02:33.864569Z",
     "start_time": "2025-02-10T14:02:33.838225Z"
    }
   },
   "source": [
    "local_out = '../results/trained_models_{}_cell_{}/{}/feature_{}_init_{}/'.format(cell_count, split_type, random_seed, feat_type, init_mode)"
   ],
   "outputs": [],
   "execution_count": 49
  },
  {
   "cell_type": "markdown",
   "id": "62ed0efd-6159-4f5e-a069-4281a2da83a3",
   "metadata": {},
   "source": [
    "Abaixo é carregador o vetor `idx2smi`, responsável por converter os índices das moléculas carregadas acima nos respectivos códigos Smiles."
   ]
  },
  {
   "cell_type": "code",
   "id": "a694b540-38aa-4493-bb08-313971d2b725",
   "metadata": {
    "tags": [],
    "ExecuteTime": {
     "end_time": "2025-02-10T14:02:34.956451Z",
     "start_time": "2025-02-10T14:02:34.391827Z"
    }
   },
   "source": [
    "with open(molecule_path, 'rb') as f:\n",
    "    idx2smi = pickle.load(f)"
   ],
   "outputs": [],
   "execution_count": 50
  },
  {
   "cell_type": "markdown",
   "id": "ec66385d-f435-43c8-b517-af6dd5dd98f4",
   "metadata": {},
   "source": [
    "Exemplo:"
   ]
  },
  {
   "cell_type": "code",
   "id": "93cbc822-0c44-4248-80ba-3e43fc3b9c8d",
   "metadata": {
    "tags": [],
    "ExecuteTime": {
     "end_time": "2025-02-10T14:02:35.149962Z",
     "start_time": "2025-02-10T14:02:35.120233Z"
    }
   },
   "source": [
    "idx2smi[2]"
   ],
   "outputs": [
    {
     "data": {
      "text/plain": [
       "np.str_('BrCC(=O)NCCc1ccc2ccccc2c1')"
      ]
     },
     "execution_count": 51,
     "metadata": {},
     "output_type": "execute_result"
    }
   ],
   "execution_count": 51
  },
  {
   "cell_type": "markdown",
   "id": "b2a1c83e-df27-4e69-8b9e-5102e676e503",
   "metadata": {},
   "source": [
    "## Divisão de treino e teste"
   ]
  },
  {
   "cell_type": "code",
   "id": "8c2d21ad-e3d6-4c29-b8c4-75df8238c404",
   "metadata": {
    "ExecuteTime": {
     "end_time": "2025-02-10T14:02:35.801035Z",
     "start_time": "2025-02-10T14:02:35.769237Z"
    }
   },
   "source": [
    "pair, pairv, pairt = split_data(data, n_folds=n_folds, split_type=split_type, rnds=random_seed)"
   ],
   "outputs": [],
   "execution_count": 52
  },
  {
   "cell_type": "code",
   "id": "5820a600-8842-4546-8847-7b26bb0844d6",
   "metadata": {
    "tags": [],
    "ExecuteTime": {
     "end_time": "2025-02-10T14:02:37.340670Z",
     "start_time": "2025-02-10T14:02:36.032336Z"
    }
   },
   "source": [
    "train = TranSiGenDataset(\n",
    "    LINCS_index=pair['LINCS_index'],\n",
    "    mol_feature_type=feat_type,\n",
    "    mol_id=pair['canonical_smiles'],\n",
    "    cid=pair['cid']\n",
    ")\n",
    "\n",
    "valid = TranSiGenDataset(\n",
    "    LINCS_index=pairv['LINCS_index'],\n",
    "    mol_feature_type=feat_type,\n",
    "    mol_id=pairv['canonical_smiles'],\n",
    "    cid=pairv['cid']\n",
    ")\n",
    "\n",
    "test = TranSiGenDataset(\n",
    "    LINCS_index=pairt['LINCS_index'],\n",
    "    mol_feature_type=feat_type,\n",
    "    mol_id=pairt['canonical_smiles'],\n",
    "    cid=pairt['cid']\n",
    ")\n",
    "\n",
    "train_loader = torch.utils.data.DataLoader(dataset=train, batch_size=batch_size, shuffle=True, drop_last=False, num_workers=4, worker_init_fn=seed_worker)\n",
    "valid_loader = torch.utils.data.DataLoader(dataset=valid, batch_size=batch_size, shuffle=True, drop_last=False, num_workers=4, worker_init_fn=seed_worker)\n",
    "test_loader = torch.utils.data.DataLoader(dataset=test, batch_size=batch_size, shuffle=True, drop_last=False, num_workers=4, worker_init_fn=seed_worker)"
   ],
   "outputs": [],
   "execution_count": 53
  },
  {
   "cell_type": "markdown",
   "id": "c0c6aef5-5300-44e7-a38c-084f914f4f6c",
   "metadata": {
    "tags": []
   },
   "source": [
    "## Criação do Modelo"
   ]
  },
  {
   "cell_type": "code",
   "id": "cd82803d-58fc-4a3b-8086-2a85c1c5c0d1",
   "metadata": {
    "tags": [],
    "ExecuteTime": {
     "end_time": "2025-02-10T14:02:40.928812Z",
     "start_time": "2025-02-10T14:02:40.840655Z"
    }
   },
   "source": [
    "model = TranSiGen(\n",
    "    n_genes=978,\n",
    "    n_latent=n_latent,\n",
    "    n_en_hidden=[1200],\n",
    "    n_de_hidden=[800],\n",
    "    features_dim=features_dim,\n",
    "    features_embed_dim=features_embed_dim,\n",
    "    init_w=True,\n",
    "    beta=beta,\n",
    "    device=dev,\n",
    "    dropout=dropout,\n",
    "    path_model=local_out,\n",
    "    random_seed=random_seed\n",
    ")"
   ],
   "outputs": [],
   "execution_count": 54
  },
  {
   "metadata": {
    "ExecuteTime": {
     "end_time": "2025-02-10T14:02:44.104551Z",
     "start_time": "2025-02-10T14:02:44.040881Z"
    }
   },
   "cell_type": "code",
   "source": "_ = model.to(dev)",
   "id": "d3129d16242c29f",
   "outputs": [],
   "execution_count": 55
  },
  {
   "cell_type": "markdown",
   "id": "0857502d-25ef-4116-95c5-78bd82ba17b8",
   "metadata": {},
   "source": [
    "### Arquitetura do Modelo\n",
    "Arquitetura dos codificadores do $X_1$ e do $X_2$ (são iguais):"
   ]
  },
  {
   "cell_type": "code",
   "id": "a2429602-2790-4490-b42b-577cee434d80",
   "metadata": {
    "tags": [],
    "ExecuteTime": {
     "end_time": "2025-02-10T14:02:45.019409Z",
     "start_time": "2025-02-10T14:02:44.988163Z"
    }
   },
   "source": [
    "model.encoder_x1"
   ],
   "outputs": [
    {
     "data": {
      "text/plain": [
       "Sequential(\n",
       "  (0): Linear(in_features=978, out_features=1200, bias=True)\n",
       "  (1): BatchNorm1d(1200, eps=1e-05, momentum=0.1, affine=True, track_running_stats=True)\n",
       "  (2): ReLU()\n",
       "  (3): Dropout(p=0.1, inplace=False)\n",
       ")"
      ]
     },
     "execution_count": 56,
     "metadata": {},
     "output_type": "execute_result"
    }
   ],
   "execution_count": 56
  },
  {
   "cell_type": "markdown",
   "id": "1434303f-071e-470a-9c3c-f41e94070f2f",
   "metadata": {},
   "source": [
    "Arquitetura dos decodificadores do $X_1$ e do $X_2$ (também são iguais):"
   ]
  },
  {
   "cell_type": "code",
   "id": "c6482e22-f46f-4d5e-8a1e-230fcc99e184",
   "metadata": {
    "tags": [],
    "ExecuteTime": {
     "end_time": "2025-02-10T14:02:45.952734Z",
     "start_time": "2025-02-10T14:02:45.927372Z"
    }
   },
   "source": [
    "model.decoder_x2"
   ],
   "outputs": [
    {
     "data": {
      "text/plain": [
       "Sequential(\n",
       "  (0): Linear(in_features=100, out_features=800, bias=True)\n",
       "  (1): BatchNorm1d(800, eps=1e-05, momentum=0.1, affine=True, track_running_stats=True)\n",
       "  (2): ReLU()\n",
       "  (3): Dropout(p=0.1, inplace=False)\n",
       "  (4): Linear(in_features=800, out_features=978, bias=True)\n",
       "  (5): ReLU()\n",
       ")"
      ]
     },
     "execution_count": 57,
     "metadata": {},
     "output_type": "execute_result"
    }
   ],
   "execution_count": 57
  },
  {
   "cell_type": "markdown",
   "id": "0bb7dbe8-68b6-4104-aa0f-0e0e7c3514bd",
   "metadata": {},
   "source": [
    "Arquitetura do embedder da molécula:"
   ]
  },
  {
   "cell_type": "code",
   "id": "4682f557-fa5a-49d3-b69e-5ff064c0cf72",
   "metadata": {
    "tags": [],
    "ExecuteTime": {
     "end_time": "2025-02-10T14:02:46.758960Z",
     "start_time": "2025-02-10T14:02:46.732064Z"
    }
   },
   "source": [
    "model.feat_embeddings"
   ],
   "outputs": [
    {
     "data": {
      "text/plain": [
       "Sequential(\n",
       "  (0): Linear(in_features=2304, out_features=400, bias=True)\n",
       "  (1): BatchNorm1d(400, eps=1e-05, momentum=0.1, affine=True, track_running_stats=True)\n",
       "  (2): ReLU()\n",
       "  (3): Dropout(p=0.1, inplace=False)\n",
       ")"
      ]
     },
     "execution_count": 58,
     "metadata": {},
     "output_type": "execute_result"
    }
   ],
   "execution_count": 58
  },
  {
   "cell_type": "markdown",
   "id": "7d100118-bf7f-4fa8-a9d3-823361903d81",
   "metadata": {
    "tags": []
   },
   "source": [
    "## Treinamento/Carregamento do Modelo"
   ]
  },
  {
   "cell_type": "code",
   "id": "4c501287-52a3-4329-b504-74c1c07aaa2d",
   "metadata": {
    "tags": [],
    "ExecuteTime": {
     "end_time": "2025-02-10T14:02:48.915658Z",
     "start_time": "2025-02-10T14:02:48.701376Z"
    }
   },
   "source": [
    "if init_mode == 'pretrain_shRNA':\n",
    "    # Carregando modelo pré-treinado\n",
    "    print('=====load vae for x1 and x2=======')\n",
    "    model_dict = model.state_dict()\n",
    "    filename = '../results/trained_model_shRNA_vae_x1/best_model.pt'\n",
    "    model_base_x1 = torch.load(filename, map_location='cpu')\n",
    "    model_base_x1_dict = model_base_x1.state_dict()\n",
    "    for k in model_dict.keys():\n",
    "        if k in model_base_x1_dict.keys():\n",
    "            model_dict[k] = model_base_x1_dict[k]\n",
    "    filename = '../results/trained_model_shRNA_vae_x2/best_model.pt'\n",
    "    model_base_x2 = torch.load(filename, map_location='cpu')\n",
    "    model_base_x2_dict = model_base_x2.state_dict()\n",
    "    for k in model_dict.keys():\n",
    "        if k in model_base_x2_dict.keys():\n",
    "            model_dict[k] = model_base_x2_dict[k]\n",
    "    model.load_state_dict(model_dict)\n",
    "    del model_base_x1, model_base_x2\n",
    "else:\n",
    "    epoch_hist, best_epoch = model.train_model(\n",
    "        train_loader=train_loader,\n",
    "        test_loader=valid_loader,\n",
    "        n_epochs=n_epochs,\n",
    "        learning_rate=learning_rate,\n",
    "        weight_decay=weight_decay,\n",
    "        save_model=False\n",
    "    )"
   ],
   "outputs": [
    {
     "name": "stdout",
     "output_type": "stream",
     "text": [
      "=====load vae for x1 and x2=======\n"
     ]
    }
   ],
   "execution_count": 59
  },
  {
   "cell_type": "markdown",
   "id": "ca090944-eb92-449f-bee3-2f83da6e49d7",
   "metadata": {},
   "source": [
    "## Avaliação do Modelo no Conjunto Teste"
   ]
  },
  {
   "cell_type": "code",
   "id": "efcb6c6c-036b-416f-ad18-161ea87060ac",
   "metadata": {
    "tags": [],
    "ExecuteTime": {
     "end_time": "2025-02-10T14:03:11.078085Z",
     "start_time": "2025-02-10T14:03:09.798727Z"
    }
   },
   "source": [
    "_, _, test_metrics_dict_ls = model.test_model(loader=test_loader, metrics_func=['pearson'])\n",
    "\n",
    "for name, rec_dict_value in zip(['test'], [test_metrics_dict_ls]):\n",
    "    df_rec = pd.DataFrame.from_dict(rec_dict_value)\n",
    "    smi_ls = []\n",
    "    for smi_id in df_rec['cp_id']:\n",
    "        smi_ls.append(idx2smi[smi_id])\n",
    "    df_rec['canonical_smiles'] = smi_ls"
   ],
   "outputs": [],
   "execution_count": 60
  },
  {
   "cell_type": "code",
   "id": "e3d14d32-fa41-4218-966b-beafb48d4781",
   "metadata": {
    "tags": [],
    "ExecuteTime": {
     "end_time": "2025-02-10T14:03:11.162066Z",
     "start_time": "2025-02-10T14:03:11.097277Z"
    }
   },
   "source": "df_rec",
   "outputs": [
    {
     "data": {
      "text/plain": [
       "    x1_rec_pearson  x2_rec_pearson  x2_pred_pearson  DEG_rec_pearson  \\\n",
       "0         0.977669        0.964104         0.803589         0.561124   \n",
       "1         0.967655        0.981851         0.848939         0.552822   \n",
       "2         0.975305        0.974306         0.628056         0.688416   \n",
       "3         0.957094        0.967181         0.772312         0.687505   \n",
       "4         0.974583        0.982083         0.844031         0.468299   \n",
       "5         0.966004        0.966937         0.839300         0.614072   \n",
       "6         0.954278        0.977408         0.829878         0.602793   \n",
       "7         0.961352        0.975592         0.650044         0.577168   \n",
       "8         0.973674        0.966812         0.851971         0.431136   \n",
       "9         0.963402        0.973458         0.799977         0.419056   \n",
       "10        0.948261        0.964105         0.704355         0.642085   \n",
       "11        0.930039        0.960118         0.817830         0.512928   \n",
       "12        0.978462        0.980344         0.773530         0.538593   \n",
       "13        0.905032        0.948391         0.723123         0.636461   \n",
       "14        0.973799        0.979635         0.838081         0.439687   \n",
       "15        0.954045        0.969051         0.650613         0.600617   \n",
       "16        0.973089        0.982318         0.871299         0.631837   \n",
       "\n",
       "    DEG_pred_pearson  cp_id   cid      sig  \\\n",
       "0           0.221309      9  A549   A549_9   \n",
       "1           0.168256      6   PC3    PC3_6   \n",
       "2           0.252797      9  A375   A375_9   \n",
       "3           0.244974      9  MCF7   MCF7_9   \n",
       "4           0.166315      6  HT29   HT29_6   \n",
       "5           0.184055      9   PC3    PC3_9   \n",
       "6           0.253246     13  HA1E  HA1E_13   \n",
       "7           0.271229      9  HA1E   HA1E_9   \n",
       "8           0.261810      9  HT29   HT29_9   \n",
       "9           0.168240      6  HA1E   HA1E_6   \n",
       "10          0.187070     13   ASC   ASC_13   \n",
       "11          0.243698      6  VCAP   VCAP_6   \n",
       "12          0.179179      6  A549   A549_6   \n",
       "13          0.269525      9  VCAP   VCAP_9   \n",
       "14          0.096583      6  A375   A375_6   \n",
       "15          0.252535     13  A549  A549_13   \n",
       "16          0.047813      6  MCF7   MCF7_6   \n",
       "\n",
       "                                            canonical_smiles  \n",
       "0                    Brc1ccc(CSc2nnc(c3ccccn3)n2Cc4ccco4)cc1  \n",
       "1                          Brc1c[nH]c2nc(SCc3ccccc3C#N)nc2c1  \n",
       "2                    Brc1ccc(CSc2nnc(c3ccccn3)n2Cc4ccco4)cc1  \n",
       "3                    Brc1ccc(CSc2nnc(c3ccccn3)n2Cc4ccco4)cc1  \n",
       "4                          Brc1c[nH]c2nc(SCc3ccccc3C#N)nc2c1  \n",
       "5                    Brc1ccc(CSc2nnc(c3ccccn3)n2Cc4ccco4)cc1  \n",
       "6   Brc1ccc(NC(=O)N2NC(=O)[C@H]([C@@H]2c2ccccc2)c2ccccc2)cc1  \n",
       "7                    Brc1ccc(CSc2nnc(c3ccccn3)n2Cc4ccco4)cc1  \n",
       "8                    Brc1ccc(CSc2nnc(c3ccccn3)n2Cc4ccco4)cc1  \n",
       "9                          Brc1c[nH]c2nc(SCc3ccccc3C#N)nc2c1  \n",
       "10  Brc1ccc(NC(=O)N2NC(=O)[C@H]([C@@H]2c2ccccc2)c2ccccc2)cc1  \n",
       "11                         Brc1c[nH]c2nc(SCc3ccccc3C#N)nc2c1  \n",
       "12                         Brc1c[nH]c2nc(SCc3ccccc3C#N)nc2c1  \n",
       "13                   Brc1ccc(CSc2nnc(c3ccccn3)n2Cc4ccco4)cc1  \n",
       "14                         Brc1c[nH]c2nc(SCc3ccccc3C#N)nc2c1  \n",
       "15  Brc1ccc(NC(=O)N2NC(=O)[C@H]([C@@H]2c2ccccc2)c2ccccc2)cc1  \n",
       "16                         Brc1c[nH]c2nc(SCc3ccccc3C#N)nc2c1  "
      ],
      "text/html": [
       "<div>\n",
       "<style scoped>\n",
       "    .dataframe tbody tr th:only-of-type {\n",
       "        vertical-align: middle;\n",
       "    }\n",
       "\n",
       "    .dataframe tbody tr th {\n",
       "        vertical-align: top;\n",
       "    }\n",
       "\n",
       "    .dataframe thead th {\n",
       "        text-align: right;\n",
       "    }\n",
       "</style>\n",
       "<table border=\"1\" class=\"dataframe\">\n",
       "  <thead>\n",
       "    <tr style=\"text-align: right;\">\n",
       "      <th></th>\n",
       "      <th>x1_rec_pearson</th>\n",
       "      <th>x2_rec_pearson</th>\n",
       "      <th>x2_pred_pearson</th>\n",
       "      <th>DEG_rec_pearson</th>\n",
       "      <th>DEG_pred_pearson</th>\n",
       "      <th>cp_id</th>\n",
       "      <th>cid</th>\n",
       "      <th>sig</th>\n",
       "      <th>canonical_smiles</th>\n",
       "    </tr>\n",
       "  </thead>\n",
       "  <tbody>\n",
       "    <tr>\n",
       "      <th>0</th>\n",
       "      <td>0.977669</td>\n",
       "      <td>0.964104</td>\n",
       "      <td>0.803589</td>\n",
       "      <td>0.561124</td>\n",
       "      <td>0.221309</td>\n",
       "      <td>9</td>\n",
       "      <td>A549</td>\n",
       "      <td>A549_9</td>\n",
       "      <td>Brc1ccc(CSc2nnc(c3ccccn3)n2Cc4ccco4)cc1</td>\n",
       "    </tr>\n",
       "    <tr>\n",
       "      <th>1</th>\n",
       "      <td>0.967655</td>\n",
       "      <td>0.981851</td>\n",
       "      <td>0.848939</td>\n",
       "      <td>0.552822</td>\n",
       "      <td>0.168256</td>\n",
       "      <td>6</td>\n",
       "      <td>PC3</td>\n",
       "      <td>PC3_6</td>\n",
       "      <td>Brc1c[nH]c2nc(SCc3ccccc3C#N)nc2c1</td>\n",
       "    </tr>\n",
       "    <tr>\n",
       "      <th>2</th>\n",
       "      <td>0.975305</td>\n",
       "      <td>0.974306</td>\n",
       "      <td>0.628056</td>\n",
       "      <td>0.688416</td>\n",
       "      <td>0.252797</td>\n",
       "      <td>9</td>\n",
       "      <td>A375</td>\n",
       "      <td>A375_9</td>\n",
       "      <td>Brc1ccc(CSc2nnc(c3ccccn3)n2Cc4ccco4)cc1</td>\n",
       "    </tr>\n",
       "    <tr>\n",
       "      <th>3</th>\n",
       "      <td>0.957094</td>\n",
       "      <td>0.967181</td>\n",
       "      <td>0.772312</td>\n",
       "      <td>0.687505</td>\n",
       "      <td>0.244974</td>\n",
       "      <td>9</td>\n",
       "      <td>MCF7</td>\n",
       "      <td>MCF7_9</td>\n",
       "      <td>Brc1ccc(CSc2nnc(c3ccccn3)n2Cc4ccco4)cc1</td>\n",
       "    </tr>\n",
       "    <tr>\n",
       "      <th>4</th>\n",
       "      <td>0.974583</td>\n",
       "      <td>0.982083</td>\n",
       "      <td>0.844031</td>\n",
       "      <td>0.468299</td>\n",
       "      <td>0.166315</td>\n",
       "      <td>6</td>\n",
       "      <td>HT29</td>\n",
       "      <td>HT29_6</td>\n",
       "      <td>Brc1c[nH]c2nc(SCc3ccccc3C#N)nc2c1</td>\n",
       "    </tr>\n",
       "    <tr>\n",
       "      <th>5</th>\n",
       "      <td>0.966004</td>\n",
       "      <td>0.966937</td>\n",
       "      <td>0.839300</td>\n",
       "      <td>0.614072</td>\n",
       "      <td>0.184055</td>\n",
       "      <td>9</td>\n",
       "      <td>PC3</td>\n",
       "      <td>PC3_9</td>\n",
       "      <td>Brc1ccc(CSc2nnc(c3ccccn3)n2Cc4ccco4)cc1</td>\n",
       "    </tr>\n",
       "    <tr>\n",
       "      <th>6</th>\n",
       "      <td>0.954278</td>\n",
       "      <td>0.977408</td>\n",
       "      <td>0.829878</td>\n",
       "      <td>0.602793</td>\n",
       "      <td>0.253246</td>\n",
       "      <td>13</td>\n",
       "      <td>HA1E</td>\n",
       "      <td>HA1E_13</td>\n",
       "      <td>Brc1ccc(NC(=O)N2NC(=O)[C@H]([C@@H]2c2ccccc2)c2ccccc2)cc1</td>\n",
       "    </tr>\n",
       "    <tr>\n",
       "      <th>7</th>\n",
       "      <td>0.961352</td>\n",
       "      <td>0.975592</td>\n",
       "      <td>0.650044</td>\n",
       "      <td>0.577168</td>\n",
       "      <td>0.271229</td>\n",
       "      <td>9</td>\n",
       "      <td>HA1E</td>\n",
       "      <td>HA1E_9</td>\n",
       "      <td>Brc1ccc(CSc2nnc(c3ccccn3)n2Cc4ccco4)cc1</td>\n",
       "    </tr>\n",
       "    <tr>\n",
       "      <th>8</th>\n",
       "      <td>0.973674</td>\n",
       "      <td>0.966812</td>\n",
       "      <td>0.851971</td>\n",
       "      <td>0.431136</td>\n",
       "      <td>0.261810</td>\n",
       "      <td>9</td>\n",
       "      <td>HT29</td>\n",
       "      <td>HT29_9</td>\n",
       "      <td>Brc1ccc(CSc2nnc(c3ccccn3)n2Cc4ccco4)cc1</td>\n",
       "    </tr>\n",
       "    <tr>\n",
       "      <th>9</th>\n",
       "      <td>0.963402</td>\n",
       "      <td>0.973458</td>\n",
       "      <td>0.799977</td>\n",
       "      <td>0.419056</td>\n",
       "      <td>0.168240</td>\n",
       "      <td>6</td>\n",
       "      <td>HA1E</td>\n",
       "      <td>HA1E_6</td>\n",
       "      <td>Brc1c[nH]c2nc(SCc3ccccc3C#N)nc2c1</td>\n",
       "    </tr>\n",
       "    <tr>\n",
       "      <th>10</th>\n",
       "      <td>0.948261</td>\n",
       "      <td>0.964105</td>\n",
       "      <td>0.704355</td>\n",
       "      <td>0.642085</td>\n",
       "      <td>0.187070</td>\n",
       "      <td>13</td>\n",
       "      <td>ASC</td>\n",
       "      <td>ASC_13</td>\n",
       "      <td>Brc1ccc(NC(=O)N2NC(=O)[C@H]([C@@H]2c2ccccc2)c2ccccc2)cc1</td>\n",
       "    </tr>\n",
       "    <tr>\n",
       "      <th>11</th>\n",
       "      <td>0.930039</td>\n",
       "      <td>0.960118</td>\n",
       "      <td>0.817830</td>\n",
       "      <td>0.512928</td>\n",
       "      <td>0.243698</td>\n",
       "      <td>6</td>\n",
       "      <td>VCAP</td>\n",
       "      <td>VCAP_6</td>\n",
       "      <td>Brc1c[nH]c2nc(SCc3ccccc3C#N)nc2c1</td>\n",
       "    </tr>\n",
       "    <tr>\n",
       "      <th>12</th>\n",
       "      <td>0.978462</td>\n",
       "      <td>0.980344</td>\n",
       "      <td>0.773530</td>\n",
       "      <td>0.538593</td>\n",
       "      <td>0.179179</td>\n",
       "      <td>6</td>\n",
       "      <td>A549</td>\n",
       "      <td>A549_6</td>\n",
       "      <td>Brc1c[nH]c2nc(SCc3ccccc3C#N)nc2c1</td>\n",
       "    </tr>\n",
       "    <tr>\n",
       "      <th>13</th>\n",
       "      <td>0.905032</td>\n",
       "      <td>0.948391</td>\n",
       "      <td>0.723123</td>\n",
       "      <td>0.636461</td>\n",
       "      <td>0.269525</td>\n",
       "      <td>9</td>\n",
       "      <td>VCAP</td>\n",
       "      <td>VCAP_9</td>\n",
       "      <td>Brc1ccc(CSc2nnc(c3ccccn3)n2Cc4ccco4)cc1</td>\n",
       "    </tr>\n",
       "    <tr>\n",
       "      <th>14</th>\n",
       "      <td>0.973799</td>\n",
       "      <td>0.979635</td>\n",
       "      <td>0.838081</td>\n",
       "      <td>0.439687</td>\n",
       "      <td>0.096583</td>\n",
       "      <td>6</td>\n",
       "      <td>A375</td>\n",
       "      <td>A375_6</td>\n",
       "      <td>Brc1c[nH]c2nc(SCc3ccccc3C#N)nc2c1</td>\n",
       "    </tr>\n",
       "    <tr>\n",
       "      <th>15</th>\n",
       "      <td>0.954045</td>\n",
       "      <td>0.969051</td>\n",
       "      <td>0.650613</td>\n",
       "      <td>0.600617</td>\n",
       "      <td>0.252535</td>\n",
       "      <td>13</td>\n",
       "      <td>A549</td>\n",
       "      <td>A549_13</td>\n",
       "      <td>Brc1ccc(NC(=O)N2NC(=O)[C@H]([C@@H]2c2ccccc2)c2ccccc2)cc1</td>\n",
       "    </tr>\n",
       "    <tr>\n",
       "      <th>16</th>\n",
       "      <td>0.973089</td>\n",
       "      <td>0.982318</td>\n",
       "      <td>0.871299</td>\n",
       "      <td>0.631837</td>\n",
       "      <td>0.047813</td>\n",
       "      <td>6</td>\n",
       "      <td>MCF7</td>\n",
       "      <td>MCF7_6</td>\n",
       "      <td>Brc1c[nH]c2nc(SCc3ccccc3C#N)nc2c1</td>\n",
       "    </tr>\n",
       "  </tbody>\n",
       "</table>\n",
       "</div>"
      ]
     },
     "execution_count": 61,
     "metadata": {},
     "output_type": "execute_result"
    }
   ],
   "execution_count": 61
  },
  {
   "metadata": {},
   "cell_type": "code",
   "outputs": [],
   "execution_count": null,
   "source": "",
   "id": "39dfed5611a733b"
  }
 ],
 "metadata": {
  "kernelspec": {
   "display_name": "Python 3 (ipykernel)",
   "language": "python",
   "name": "python3"
  },
  "language_info": {
   "codemirror_mode": {
    "name": "ipython",
    "version": 3
   },
   "file_extension": ".py",
   "mimetype": "text/x-python",
   "name": "python",
   "nbconvert_exporter": "python",
   "pygments_lexer": "ipython3",
   "version": "3.11.7"
  }
 },
 "nbformat": 4,
 "nbformat_minor": 5
}

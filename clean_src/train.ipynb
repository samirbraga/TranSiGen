{
 "cells": [
  {
   "metadata": {
    "tags": [],
    "ExecuteTime": {
     "end_time": "2025-02-10T11:12:26.742422Z",
     "start_time": "2025-02-10T11:12:23.633174Z"
    }
   },
   "cell_type": "code",
   "source": [
    "import math\n",
    "import pickle\n",
    "import warnings\n",
    "import torch\n",
    "import matplotlib.pyplot as plt\n",
    "from bayes_opt import BayesianOptimization\n",
    "from utils import *\n",
    "from model import TranSiGen\n",
    "from dataset import TranSiGenDataset"
   ],
   "id": "43e6d4c7-99f9-451d-89ea-d8b6792787f2",
   "outputs": [],
   "execution_count": 1
  },
  {
   "metadata": {
    "ExecuteTime": {
     "end_time": "2025-02-10T11:12:26.749183Z",
     "start_time": "2025-02-10T11:12:26.746416Z"
    }
   },
   "cell_type": "code",
   "source": "warnings.filterwarnings('ignore')",
   "id": "f69b31e0f2615bad",
   "outputs": [],
   "execution_count": 2
  },
  {
   "metadata": {
    "ExecuteTime": {
     "end_time": "2025-02-10T11:12:27.095338Z",
     "start_time": "2025-02-10T11:12:27.079281Z"
    }
   },
   "cell_type": "code",
   "source": [
    "%load_ext autoreload\n",
    "%autoreload 2"
   ],
   "id": "7c23042fffac5a26",
   "outputs": [],
   "execution_count": 3
  },
  {
   "cell_type": "code",
   "id": "6f6a3770-52b2-4ed4-bf88-909605a4e307",
   "metadata": {
    "tags": [],
    "ExecuteTime": {
     "end_time": "2025-02-10T11:12:27.192063Z",
     "start_time": "2025-02-10T11:12:27.126243Z"
    }
   },
   "source": [
    "dev = torch.device(\"cuda\" if torch.cuda.is_available() else \"cpu\")"
   ],
   "outputs": [],
   "execution_count": 4
  },
  {
   "cell_type": "markdown",
   "id": "741b5fac-b987-4788-91d2-1918389fbb38",
   "metadata": {},
   "source": [
    "## Carregamento dos dados"
   ]
  },
  {
   "cell_type": "markdown",
   "id": "4f07e182-b0fe-4469-9304-278ec6033d2c",
   "metadata": {},
   "source": [
    "Os dados são carregados a partir de um arquivo `.h5`:"
   ]
  },
  {
   "cell_type": "code",
   "id": "12173e34-cf50-404b-a0dd-39e273810c2e",
   "metadata": {
    "tags": [],
    "ExecuteTime": {
     "end_time": "2025-02-10T11:12:27.264201Z",
     "start_time": "2025-02-10T11:12:27.251341Z"
    }
   },
   "source": [
    "data_path = '../data/LINCS2020/data_example/processed_data_id.h5'"
   ],
   "outputs": [],
   "execution_count": 5
  },
  {
   "cell_type": "code",
   "id": "81de094c-4fff-47de-81bf-f4ca69884ca1",
   "metadata": {
    "tags": [],
    "ExecuteTime": {
     "end_time": "2025-02-10T11:12:27.316128Z",
     "start_time": "2025-02-10T11:12:27.295580Z"
    }
   },
   "source": [
    "data = load_from_HDF(data_path)"
   ],
   "outputs": [],
   "execution_count": 6
  },
  {
   "cell_type": "code",
   "id": "0ec7069c-fe3b-4a52-8785-6e22f1d320d9",
   "metadata": {
    "tags": [],
    "ExecuteTime": {
     "end_time": "2025-02-10T11:12:27.358102Z",
     "start_time": "2025-02-10T11:12:27.345100Z"
    }
   },
   "source": [
    "cell_count = len(set(data['cid']))\n",
    "feat_type = 'KPGT'\n",
    "batch_size = 64\n",
    "learning_rate = 1e-3\n",
    "beta = 0.1\n",
    "dropout = 0.1\n",
    "weight_decay = 1e-5\n",
    "n_folds = 5\n",
    "random_seed = 364039\n",
    "split_type = 'smiles_split'\n",
    "features_dim = 2304\n",
    "features_embed_dim = [400]\n",
    "n_latent = 100\n",
    "# init_mode = 'pretrain_shRNA'\n",
    "init_mode = 'random'\n",
    "n_epochs = 300\n",
    "molecule_path = '../data/LINCS2020/idx2smi.pickle'"
   ],
   "outputs": [],
   "execution_count": 7
  },
  {
   "cell_type": "code",
   "id": "160ef299-49dc-4693-8f1d-4bf77aeccfe2",
   "metadata": {
    "tags": [],
    "ExecuteTime": {
     "end_time": "2025-02-10T11:12:27.408039Z",
     "start_time": "2025-02-10T11:12:27.395471Z"
    }
   },
   "source": "local_out = './results/trained_models_{}_cell_{}/{}/feature_{}_init_{}/'.format(cell_count, split_type, random_seed, feat_type, init_mode)",
   "outputs": [],
   "execution_count": 8
  },
  {
   "cell_type": "code",
   "id": "a694b540-38aa-4493-bb08-313971d2b725",
   "metadata": {
    "tags": [],
    "ExecuteTime": {
     "end_time": "2025-02-10T11:12:27.822569Z",
     "start_time": "2025-02-10T11:12:27.445030Z"
    }
   },
   "source": [
    "with open(molecule_path, 'rb') as f:\n",
    "    idx2smi = pickle.load(f)"
   ],
   "outputs": [],
   "execution_count": 9
  },
  {
   "cell_type": "markdown",
   "id": "b2a1c83e-df27-4e69-8b9e-5102e676e503",
   "metadata": {},
   "source": [
    "## Divisão de treino e teste"
   ]
  },
  {
   "cell_type": "code",
   "id": "8c2d21ad-e3d6-4c29-b8c4-75df8238c404",
   "metadata": {
    "ExecuteTime": {
     "end_time": "2025-02-10T11:12:27.851255Z",
     "start_time": "2025-02-10T11:12:27.837626Z"
    }
   },
   "source": [
    "pair, pairv, pairt = split_data(data, n_folds=n_folds, split_type=split_type, rnds=random_seed)"
   ],
   "outputs": [],
   "execution_count": 10
  },
  {
   "cell_type": "code",
   "id": "5820a600-8842-4546-8847-7b26bb0844d6",
   "metadata": {
    "tags": [],
    "ExecuteTime": {
     "end_time": "2025-02-10T11:12:28.999849Z",
     "start_time": "2025-02-10T11:12:27.885729Z"
    }
   },
   "source": [
    "train = TranSiGenDataset(\n",
    "    LINCS_index=pair['LINCS_index'],\n",
    "    mol_feature_type=feat_type,\n",
    "    mol_id=pair['canonical_smiles'],\n",
    "    cid=pair['cid']\n",
    ")\n",
    "\n",
    "valid = TranSiGenDataset(\n",
    "    LINCS_index=pairv['LINCS_index'],\n",
    "    mol_feature_type=feat_type,\n",
    "    mol_id=pairv['canonical_smiles'],\n",
    "    cid=pairv['cid']\n",
    ")\n",
    "\n",
    "test = TranSiGenDataset(\n",
    "    LINCS_index=pairt['LINCS_index'],\n",
    "    mol_feature_type=feat_type,\n",
    "    mol_id=pairt['canonical_smiles'],\n",
    "    cid=pairt['cid']\n",
    ")\n",
    "\n",
    "train_loader = torch.utils.data.DataLoader(dataset=train, batch_size=batch_size, shuffle=True, drop_last=False, num_workers=4, worker_init_fn=seed_worker)\n",
    "valid_loader = torch.utils.data.DataLoader(dataset=valid, batch_size=batch_size, shuffle=True, drop_last=False, num_workers=4, worker_init_fn=seed_worker)\n",
    "test_loader = torch.utils.data.DataLoader(dataset=test, batch_size=batch_size, shuffle=True, drop_last=False, num_workers=4, worker_init_fn=seed_worker)"
   ],
   "outputs": [],
   "execution_count": 11
  },
  {
   "cell_type": "markdown",
   "id": "c0c6aef5-5300-44e7-a38c-084f914f4f6c",
   "metadata": {
    "tags": []
   },
   "source": [
    "## Criação do Modelo"
   ]
  },
  {
   "metadata": {
    "ExecuteTime": {
     "end_time": "2025-02-10T11:12:31.882652Z",
     "start_time": "2025-02-10T11:12:31.866658Z"
    }
   },
   "cell_type": "code",
   "source": [
    "pbounds = {\n",
    "    'n_latent': (10, 600), # dimensão do espaço latente Z1, Z2\n",
    "    'dropout': (0, 0.9),   # fator de dropout aplicado às redes de enc e dec\n",
    "    'beta': (0, 1),        # hiperparâmetro beta que multiplica o termo KL na loss do VAE\n",
    "    'features_embed_dim': (100, 1000) # dimensão do embedding da molécula dentro da rede\n",
    "}"
   ],
   "id": "31e1a39805c01d0a",
   "outputs": [],
   "execution_count": 13
  },
  {
   "metadata": {
    "ExecuteTime": {
     "end_time": "2025-02-10T12:13:19.225267Z",
     "start_time": "2025-02-10T12:13:19.196894Z"
    }
   },
   "cell_type": "code",
   "source": [
    "def train_model(n_latent, dropout, beta, features_embed_dim, is_best=False):\n",
    "    path_model = f'./results/nl={round(n_latent)}-dp={dropout:.4f}-bt={beta:.4f}-fd={round(features_embed_dim)}--'\n",
    "    if is_best:\n",
    "        path_model = './results/'\n",
    "    model = TranSiGen(\n",
    "        n_genes=978,\n",
    "        n_latent=round(n_latent),\n",
    "        n_en_hidden=[1200],\n",
    "        n_de_hidden=[800],\n",
    "        features_dim=features_dim,\n",
    "        features_embed_dim=[round(features_embed_dim)],\n",
    "        init_w=True,\n",
    "        beta=beta,\n",
    "        device=dev,\n",
    "        dropout=dropout,\n",
    "        path_model=path_model,\n",
    "        random_seed=random_seed\n",
    "    ).to(dev)\n",
    "    \n",
    "    epoch_hist, best_epoch = model.train_model(\n",
    "        train_loader=train_loader,\n",
    "        test_loader=valid_loader,\n",
    "        n_epochs=400,\n",
    "        learning_rate=learning_rate,\n",
    "        weight_decay=weight_decay,\n",
    "        save_model=True,\n",
    "        verbose=True\n",
    "    )\n",
    "    \n",
    "    return -epoch_hist['valid_loss'][best_epoch]"
   ],
   "id": "54ec049f225a5790",
   "outputs": [],
   "execution_count": 21
  },
  {
   "metadata": {
    "ExecuteTime": {
     "end_time": "2025-02-10T11:12:39.960021Z",
     "start_time": "2025-02-10T11:12:39.942175Z"
    }
   },
   "cell_type": "code",
   "source": [
    "optimizer = BayesianOptimization(\n",
    "    f=train_model,\n",
    "    pbounds=pbounds,\n",
    "    random_state=random_seed,\n",
    ")"
   ],
   "id": "e0f240991a4021b8",
   "outputs": [],
   "execution_count": 16
  },
  {
   "metadata": {},
   "cell_type": "code",
   "source": "optimizer.maximize(init_points=0, n_iter=20)",
   "id": "54494b94b138498b",
   "outputs": [
    {
     "name": "stdout",
     "output_type": "stream",
     "text": [
      "[Epoch 50] | loss: 2191081.331, mse_x1_rec: 1967.900, mse_x2_rec: 2071258.592, mse_pert: 43807.536, kld_x1: 275.930, kld_x2: 144986.681, kld_pert: 158.804| valid_loss: 12577014.222, valid_mse_x1_rec: 1867.470, valid_mse_x2_rec: 12421649.778, valid_mse_pert: 46403.326, valid_kld_x1: 326.970, valid_kld_x2: 209825.722, valid_kld_pert: 168.979|\n",
      "[Epoch 60] | loss: 2830848.356, mse_x1_rec: 3732.533, mse_x2_rec: 2666516.421, mse_pert: 45938.900, kld_x1: 280.417, kld_x2: 224715.978, kld_pert: 185.941| valid_loss: 1981456.444, valid_mse_x1_rec: 1985.725, valid_mse_x2_rec: 1836876.889, valid_mse_pert: 47753.903, valid_kld_x1: 393.437, valid_kld_x2: 185677.028, valid_kld_pert: 185.780|\n",
      "[Epoch 70] | loss: 496207.618, mse_x1_rec: 1880.119, mse_x2_rec: 430209.499, mse_pert: 43433.997, kld_x1: 282.737, kld_x2: 40202.179, kld_pert: 136.486| valid_loss: 308384.167, valid_mse_x1_rec: 1804.393, valid_mse_x2_rec: 242801.833, valid_mse_pert: 47722.896, valid_kld_x1: 327.172, valid_kld_x2: 31067.556, valid_kld_pert: 135.895|\n",
      "[Epoch 80] | loss: 105054.561, mse_x1_rec: 1569.522, mse_x2_rec: 57248.648, mse_pert: 39704.787, kld_x1: 294.514, kld_x2: 12380.097, kld_pert: 152.852| valid_loss: 106063.090, valid_mse_x1_rec: 1738.292, valid_mse_x2_rec: 53887.771, valid_mse_pert: 44075.312, valid_kld_x1: 330.569, valid_kld_x2: 12016.785, valid_kld_pert: 146.462|\n",
      "[Epoch 90] | loss: 52215.688, mse_x1_rec: 1894.023, mse_x2_rec: 13641.021, mse_pert: 34619.987, kld_x1: 307.709, kld_x2: 3598.272, kld_pert: 140.961| valid_loss: 56757.347, valid_mse_x1_rec: 2739.256, valid_mse_x2_rec: 12621.781, valid_mse_pert: 39517.747, valid_kld_x1: 337.985, valid_kld_x2: 3219.571, valid_kld_pert: 131.765|\n",
      "[Epoch 100] | loss: 39747.318, mse_x1_rec: 1868.506, mse_x2_rec: 7050.245, mse_pert: 29538.176, kld_x1: 356.684, kld_x2: 2045.266, kld_pert: 132.253| valid_loss: 44743.840, valid_mse_x1_rec: 1307.516, valid_mse_x2_rec: 10785.364, valid_mse_pert: 31294.358, valid_kld_x1: 472.456, valid_kld_x2: 2062.908, valid_kld_pert: 128.882|\n",
      "[Epoch 110] | loss: 31427.127, mse_x1_rec: 1199.903, mse_x2_rec: 3854.984, mse_pert: 25664.718, kld_x1: 383.140, kld_x2: 882.677, kld_pert: 123.692| valid_loss: 35212.594, valid_mse_x1_rec: 1104.788, valid_mse_x2_rec: 5223.115, valid_mse_pert: 28242.076, valid_kld_x1: 470.382, valid_kld_x2: 671.312, valid_kld_pert: 120.339|\n",
      "[Epoch 120] | loss: 26968.850, mse_x1_rec: 1088.082, mse_x2_rec: 2380.974, mse_pert: 22707.620, kld_x1: 391.884, kld_x2: 1030.198, kld_pert: 133.676| valid_loss: 30845.316, valid_mse_x1_rec: 1103.777, valid_mse_x2_rec: 3650.743, valid_mse_pert: 25380.656, valid_kld_x1: 484.836, valid_kld_x2: 782.093, valid_kld_pert: 127.718|\n",
      "[Epoch 130] | loss: 27671.611, mse_x1_rec: 1608.934, mse_x2_rec: 3124.979, mse_pert: 22132.689, kld_x1: 398.824, kld_x2: 1030.117, kld_pert: 152.017| valid_loss: 27595.939, valid_mse_x1_rec: 1139.670, valid_mse_x2_rec: 3371.184, valid_mse_pert: 22321.486, valid_kld_x1: 522.393, valid_kld_x2: 839.023, valid_kld_pert: 138.220|\n",
      "[Epoch 140] | loss: 27046.660, mse_x1_rec: 1905.651, mse_x2_rec: 3316.346, mse_pert: 21025.155, kld_x1: 407.934, kld_x2: 983.320, kld_pert: 178.900| valid_loss: 26631.616, valid_mse_x1_rec: 1103.434, valid_mse_x2_rec: 3173.404, valid_mse_pert: 21638.170, valid_kld_x1: 533.272, valid_kld_x2: 725.549, valid_kld_pert: 148.532|\n",
      "[Epoch 150] | loss: 24211.392, mse_x1_rec: 1297.290, mse_x2_rec: 3240.236, mse_pert: 18913.812, kld_x1: 424.447, kld_x2: 885.125, kld_pert: 183.100| valid_loss: 26899.012, valid_mse_x1_rec: 1880.781, valid_mse_x2_rec: 1980.215, valid_mse_pert: 22407.641, valid_kld_x1: 474.903, valid_kld_x2: 615.536, valid_kld_pert: 147.560|\n",
      "[Epoch 160] | loss: 24937.348, mse_x1_rec: 1776.822, mse_x2_rec: 3394.068, mse_pert: 19060.400, kld_x1: 401.431, kld_x2: 792.850, kld_pert: 192.349| valid_loss: 25941.038, valid_mse_x1_rec: 1823.863, valid_mse_x2_rec: 1786.896, valid_mse_pert: 21723.934, valid_kld_x1: 495.550, valid_kld_x2: 538.561, valid_kld_pert: 156.695|\n",
      "[Epoch 170] | loss: 21872.402, mse_x1_rec: 1466.194, mse_x2_rec: 3221.848, mse_pert: 16466.557, kld_x1: 455.054, kld_x2: 751.568, kld_pert: 203.077| valid_loss: 20517.764, valid_mse_x1_rec: 1190.887, valid_mse_x2_rec: 1825.354, valid_mse_pert: 16845.194, valid_kld_x1: 585.244, valid_kld_x2: 535.323, valid_kld_pert: 168.400|\n",
      "[Epoch 180] | loss: 19225.864, mse_x1_rec: 1183.860, mse_x2_rec: 2109.739, mse_pert: 15252.609, kld_x1: 473.646, kld_x2: 653.170, kld_pert: 207.964| valid_loss: 21334.655, valid_mse_x1_rec: 1184.776, valid_mse_x2_rec: 1809.316, valid_mse_pert: 17685.497, valid_kld_x1: 572.194, valid_kld_x2: 531.230, valid_kld_pert: 183.066|\n",
      "[Epoch 190] | loss: 18065.375, mse_x1_rec: 1057.778, mse_x2_rec: 1633.846, mse_pert: 14709.592, kld_x1: 482.632, kld_x2: 616.449, kld_pert: 205.264| valid_loss: 21422.488, valid_mse_x1_rec: 1574.836, valid_mse_x2_rec: 1690.826, valid_mse_pert: 17522.674, valid_kld_x1: 577.832, valid_kld_x2: 491.818, valid_kld_pert: 175.765|\n",
      "[Epoch 200] | loss: 18192.651, mse_x1_rec: 1096.460, mse_x2_rec: 2519.699, mse_pert: 13898.355, kld_x1: 490.619, kld_x2: 633.955, kld_pert: 207.226| valid_loss: 17852.290, valid_mse_x1_rec: 682.015, valid_mse_x2_rec: 1443.140, valid_mse_pert: 15065.469, valid_kld_x1: 632.646, valid_kld_x2: 491.872, valid_kld_pert: 174.926|\n",
      "[Epoch 210] | loss: 18585.083, mse_x1_rec: 1789.443, mse_x2_rec: 2452.497, mse_pert: 13699.137, kld_x1: 451.521, kld_x2: 613.922, kld_pert: 199.326| valid_loss: 19565.863, valid_mse_x1_rec: 1662.095, valid_mse_x2_rec: 1909.220, valid_mse_pert: 15359.458, valid_kld_x1: 579.105, valid_kld_x2: 497.445, valid_kld_pert: 170.703|\n",
      "[Epoch 220] | loss: 16432.755, mse_x1_rec: 1184.274, mse_x2_rec: 2238.339, mse_pert: 12347.546, kld_x1: 504.709, kld_x2: 596.237, kld_pert: 200.329| valid_loss: 15979.017, valid_mse_x1_rec: 812.080, valid_mse_x2_rec: 1813.899, valid_mse_pert: 12696.916, valid_kld_x1: 651.262, valid_kld_x2: 471.462, valid_kld_pert: 165.842|\n",
      "[Epoch 230] | loss: 14775.790, mse_x1_rec: 799.406, mse_x2_rec: 1943.582, mse_pert: 11378.897, kld_x1: 524.060, kld_x2: 564.420, kld_pert: 195.728| valid_loss: 16341.604, valid_mse_x1_rec: 623.462, valid_mse_x2_rec: 1765.460, valid_mse_pert: 13299.049, valid_kld_x1: 640.673, valid_kld_x2: 472.375, valid_kld_pert: 170.627|\n",
      "[Epoch 240] | loss: 13515.945, mse_x1_rec: 880.761, mse_x2_rec: 1647.871, mse_pert: 10334.486, kld_x1: 556.995, kld_x2: 537.581, kld_pert: 187.516| valid_loss: 17194.139, valid_mse_x1_rec: 1247.421, valid_mse_x2_rec: 1555.602, valid_mse_pert: 13723.579, valid_kld_x1: 658.194, valid_kld_x2: 477.197, valid_kld_pert: 175.586|\n",
      "[Epoch 250] | loss: 13701.012, mse_x1_rec: 1213.104, mse_x2_rec: 1656.680, mse_pert: 10183.958, kld_x1: 551.521, kld_x2: 527.812, kld_pert: 191.840| valid_loss: 14638.141, valid_mse_x1_rec: 886.073, valid_mse_x2_rec: 1821.035, valid_mse_pert: 11241.484, valid_kld_x1: 697.438, valid_kld_x2: 480.015, valid_kld_pert: 176.755|\n",
      "[Epoch 260] | loss: 14752.734, mse_x1_rec: 1447.500, mse_x2_rec: 1864.531, mse_pert: 10812.784, kld_x1: 530.428, kld_x2: 519.074, kld_pert: 183.669| valid_loss: 15761.483, valid_mse_x1_rec: 1658.162, valid_mse_x2_rec: 1407.571, valid_mse_pert: 12032.982, valid_kld_x1: 662.490, valid_kld_x2: 470.465, valid_kld_pert: 168.659|\n",
      "[Epoch 270] | loss: 14187.124, mse_x1_rec: 1524.716, mse_x2_rec: 1363.875, mse_pert: 10706.367, kld_x1: 501.255, kld_x2: 494.694, kld_pert: 167.009| valid_loss: 16267.500, valid_mse_x1_rec: 1460.944, valid_mse_x2_rec: 1554.911, valid_mse_pert: 12628.258, valid_kld_x1: 620.411, valid_kld_x2: 451.267, valid_kld_pert: 152.596|\n",
      "[Epoch 280] | loss: 12717.711, mse_x1_rec: 1113.665, mse_x2_rec: 1390.759, mse_pert: 9620.088, kld_x1: 521.545, kld_x2: 483.718, kld_pert: 159.725| valid_loss: 14355.973, valid_mse_x1_rec: 1486.712, valid_mse_x2_rec: 1133.649, valid_mse_pert: 11130.752, valid_kld_x1: 622.469, valid_kld_x2: 424.410, valid_kld_pert: 141.010|\n",
      "[Epoch 290] | loss: 11405.707, mse_x1_rec: 926.483, mse_x2_rec: 1337.907, mse_pert: 8557.623, kld_x1: 524.156, kld_x2: 470.381, kld_pert: 151.780| valid_loss: 12400.595, valid_mse_x1_rec: 833.825, valid_mse_x2_rec: 1263.647, valid_mse_pert: 9698.221, valid_kld_x1: 627.359, valid_kld_x2: 427.987, valid_kld_pert: 132.627|\n",
      "| \u001B[39m19       \u001B[39m | \u001B[39m-1.196e+0\u001B[39m | \u001B[39m0.5092   \u001B[39m | \u001B[39m0.5939   \u001B[39m | \u001B[39m157.7    \u001B[39m | \u001B[39m62.96    \u001B[39m |\n",
      "[Epoch 0] | loss: nan, mse_x1_rec: 37774190.485, mse_x2_rec: 75490968.062, mse_pert: nan, kld_x1: 25861269.292, kld_x2: 32848908.431, kld_pert: inf| valid_loss: nan, valid_mse_x1_rec: 43565408.000, valid_mse_x2_rec: 71076181.333, valid_mse_pert: nan, valid_kld_x1: 32654837.333, valid_kld_x2: 59474837.333, valid_kld_pert: inf|\n",
      "[Epoch 10] | loss: inf, mse_x1_rec: 3265871.719, mse_x2_rec: 3526895.030, mse_pert: inf, kld_x1: 55306.810, kld_x2: 41502.526, kld_pert: inf| valid_loss: 13183248992806838272.000, valid_mse_x1_rec: 1557084.556, valid_mse_x2_rec: 2206057.333, valid_mse_pert: 13089862827877392384.000, valid_kld_x1: 59944.174, valid_kld_x2: 47370.576, valid_kld_pert: 1661245521336991744.000|\n",
      "[Epoch 20] | loss: 33349395.484, mse_x1_rec: 196421.600, mse_x2_rec: 446782.236, mse_pert: 32679157.231, kld_x1: 2967.160, kld_x2: 5746.620, kld_pert: 472244.667| valid_loss: 1719492.556, valid_mse_x1_rec: 240238.944, valid_mse_x2_rec: 236553.028, valid_mse_pert: 1231023.111, valid_kld_x1: 3436.421, valid_kld_x2: 3141.147, valid_kld_pert: 201151.417|\n",
      "[Epoch 30] | loss: 124407550.031, mse_x1_rec: 656084.008, mse_x2_rec: 1359270.600, mse_pert: 122309315.938, kld_x1: 5263.272, kld_x2: 9490.916, kld_pert: 1459587.938| valid_loss: 5634028.444, valid_mse_x1_rec: 259717.222, valid_mse_x2_rec: 562493.000, valid_mse_pert: 4792442.667, valid_kld_x1: 3423.274, valid_kld_x2: 3265.296, valid_kld_pert: 337979.194|\n",
      "[Epoch 40] | loss: 2327833.010, mse_x1_rec: 41012.312, mse_x2_rec: 2276896.872, mse_pert: 8806.357, kld_x1: 877.645, kld_x2: 13926.068, kld_pert: 5075.293| valid_loss: 1061181.222, valid_mse_x1_rec: 41354.299, valid_mse_x2_rec: 1012344.667, valid_mse_pert: 6018.158, valid_kld_x1: 1003.769, valid_kld_x2: 7951.460, valid_kld_pert: 17089.030|\n",
      "[Epoch 50] | loss: 459796.415, mse_x1_rec: 101543.614, mse_x2_rec: 43635.743, mse_pert: 312535.775, kld_x1: 2161.869, kld_x2: 1165.978, kld_pert: 33696.095| valid_loss: 8176455.111, valid_mse_x1_rec: 271480.944, valid_mse_x2_rec: 40936.326, valid_mse_pert: 7830875.556, valid_kld_x1: 3944.458, valid_kld_x2: 1380.223, valid_kld_pert: 584623.556|\n",
      "[Epoch 60] | loss: 30637.396, mse_x1_rec: 5800.076, mse_x2_rec: 10007.781, mse_pert: 4570.866, kld_x1: 698.923, kld_x2: 704.078, kld_pert: 181088.137| valid_loss: 35754.622, valid_mse_x1_rec: 13611.796, valid_mse_x2_rec: 12796.325, valid_mse_pert: 3464.172, valid_kld_x1: 934.970, valid_kld_x2: 838.434, valid_kld_pert: 102867.139|\n",
      "[Epoch 70] | loss: 10919.318, mse_x1_rec: 1950.049, mse_x2_rec: 4546.778, mse_pert: 4243.754, kld_x1: 652.497, kld_x2: 628.752, kld_pert: 1898.301| valid_loss: 12815.614, valid_mse_x1_rec: 2472.902, valid_mse_x2_rec: 5601.445, valid_mse_pert: 4526.323, valid_kld_x1: 828.799, valid_kld_x2: 733.679, valid_kld_pert: 2261.139|\n",
      "[Epoch 80] | loss: 8500.304, mse_x1_rec: 1364.028, mse_x2_rec: 2483.689, mse_pert: 4500.018, kld_x1: 610.263, kld_x2: 574.288, kld_pert: 1529.469| valid_loss: 10677.740, valid_mse_x1_rec: 1339.509, valid_mse_x2_rec: 3138.495, valid_mse_pert: 6005.381, valid_kld_x1: 771.650, valid_kld_x2: 670.000, valid_kld_pert: 2015.692|\n",
      "[Epoch 90] | loss: 8250.480, mse_x1_rec: 1170.759, mse_x2_rec: 1488.564, mse_pert: 5464.237, kld_x1: 570.655, kld_x2: 567.109, kld_pert: 1119.996| valid_loss: 13001.561, valid_mse_x1_rec: 1595.018, valid_mse_x2_rec: 1832.418, valid_mse_pert: 9439.490, valid_kld_x1: 632.023, valid_kld_x2: 595.990, valid_kld_pert: 1167.016|\n",
      "[Epoch 100] | loss: 6690.035, mse_x1_rec: 1022.110, mse_x2_rec: 1625.592, mse_pert: 3909.641, kld_x1: 678.540, kld_x2: 623.544, kld_pert: 1058.394| valid_loss: 10717.922, valid_mse_x1_rec: 1587.408, valid_mse_x2_rec: 1740.418, valid_mse_pert: 7243.608, valid_kld_x1: 759.698, valid_kld_x2: 681.112, valid_kld_pert: 1165.075|\n",
      "[Epoch 110] | loss: 7790.123, mse_x1_rec: 1467.913, mse_x2_rec: 1494.459, mse_pert: 4698.548, kld_x1: 679.619, kld_x2: 637.729, kld_pert: 981.038| valid_loss: 8595.698, valid_mse_x1_rec: 883.433, valid_mse_x2_rec: 1501.702, valid_mse_pert: 6064.616, valid_kld_x1: 842.167, valid_kld_x2: 679.748, valid_kld_pert: 1074.328|\n",
      "[Epoch 120] | loss: 6939.997, mse_x1_rec: 1092.261, mse_x2_rec: 1360.636, mse_pert: 4355.459, kld_x1: 742.971, kld_x2: 679.791, kld_pert: 918.988| valid_loss: 10378.363, valid_mse_x1_rec: 1474.567, valid_mse_x2_rec: 1629.269, valid_mse_pert: 7129.586, valid_kld_x1: 812.750, valid_kld_x2: 755.718, valid_kld_pert: 1009.872|\n",
      "[Epoch 130] | loss: 6872.923, mse_x1_rec: 1163.887, mse_x2_rec: 1167.110, mse_pert: 4413.556, kld_x1: 750.371, kld_x2: 676.967, kld_pert: 856.237| valid_loss: 7774.349, valid_mse_x1_rec: 935.669, valid_mse_x2_rec: 1216.962, valid_mse_pert: 5480.236, valid_kld_x1: 902.668, valid_kld_x2: 731.459, valid_kld_pert: 882.706|\n",
      "[Epoch 140] | loss: 7183.498, mse_x1_rec: 1198.482, mse_x2_rec: 1251.867, mse_pert: 4605.107, kld_x1: 767.256, kld_x2: 695.069, kld_pert: 815.414| valid_loss: 9375.931, valid_mse_x1_rec: 1523.462, valid_mse_x2_rec: 1396.614, valid_mse_pert: 6320.557, valid_kld_x1: 919.379, valid_kld_x2: 720.762, valid_kld_pert: 766.686|\n",
      "[Epoch 150] | loss: 8298.663, mse_x1_rec: 1428.162, mse_x2_rec: 1923.206, mse_pert: 4808.586, kld_x1: 830.631, kld_x2: 757.531, kld_pert: 879.326| valid_loss: 10039.056, valid_mse_x1_rec: 1401.867, valid_mse_x2_rec: 964.744, valid_mse_pert: 7523.325, valid_kld_x1: 1026.767, valid_kld_x2: 781.944, valid_kld_pert: 843.986|\n",
      "[Epoch 160] | loss: 7473.655, mse_x1_rec: 1271.903, mse_x2_rec: 1177.774, mse_pert: 4894.918, kld_x1: 801.575, kld_x2: 732.632, kld_pert: 761.632| valid_loss: 10482.583, valid_mse_x1_rec: 1702.972, valid_mse_x2_rec: 1163.450, valid_mse_pert: 7482.011, valid_kld_x1: 915.920, valid_kld_x2: 742.445, valid_kld_pert: 728.035|\n",
      "[Epoch 170] | loss: 5588.115, mse_x1_rec: 796.564, mse_x2_rec: 1047.588, mse_pert: 3608.946, kld_x1: 953.959, kld_x2: 732.924, kld_pert: 714.919| valid_loss: 6903.816, valid_mse_x1_rec: 778.600, valid_mse_x2_rec: 1246.569, valid_mse_pert: 4735.751, valid_kld_x1: 1119.592, valid_kld_x2: 732.645, valid_kld_pert: 689.746|\n",
      "[Epoch 180] | loss: 5921.784, mse_x1_rec: 786.485, mse_x2_rec: 1457.491, mse_pert: 3529.786, kld_x1: 985.111, kld_x2: 854.609, kld_pert: 793.425| valid_loss: 7826.241, valid_mse_x1_rec: 788.633, valid_mse_x2_rec: 1610.758, valid_mse_pert: 5261.201, valid_kld_x1: 1138.243, valid_kld_x2: 937.643, valid_kld_pert: 870.837|\n",
      "[Epoch 190] | loss: 6824.568, mse_x1_rec: 1351.948, mse_x2_rec: 861.823, mse_pert: 4470.465, kld_x1: 965.195, kld_x2: 811.047, kld_pert: 720.130| valid_loss: 7457.671, valid_mse_x1_rec: 664.324, valid_mse_x2_rec: 1041.458, valid_mse_pert: 5593.690, valid_kld_x1: 1179.979, valid_kld_x2: 875.915, valid_kld_pert: 758.287|\n",
      "[Epoch 200] | loss: 5812.208, mse_x1_rec: 988.868, mse_x2_rec: 1126.657, mse_pert: 3549.317, kld_x1: 1023.048, kld_x2: 872.197, kld_pert: 726.251| valid_loss: 5336.192, valid_mse_x1_rec: 576.277, valid_mse_x2_rec: 843.817, valid_mse_pert: 3756.065, valid_kld_x1: 1247.507, valid_kld_x2: 881.940, valid_kld_pert: 717.393|\n",
      "[Epoch 210] | loss: 5938.131, mse_x1_rec: 895.992, mse_x2_rec: 1451.620, mse_pert: 3438.051, kld_x1: 1074.577, kld_x2: 929.017, kld_pert: 708.642| valid_loss: 6069.230, valid_mse_x1_rec: 808.865, valid_mse_x2_rec: 1143.157, valid_mse_pert: 3951.305, valid_kld_x1: 1299.783, valid_kld_x2: 928.529, valid_kld_pert: 722.936|\n",
      "[Epoch 220] | loss: 5911.551, mse_x1_rec: 915.410, mse_x2_rec: 1178.099, mse_pert: 3669.949, kld_x1: 1068.083, kld_x2: 914.539, kld_pert: 651.787| valid_loss: 7574.583, valid_mse_x1_rec: 1220.171, valid_mse_x2_rec: 1010.226, valid_mse_pert: 5185.468, valid_kld_x1: 1257.775, valid_kld_x2: 914.268, valid_kld_pert: 651.401|\n",
      "[Epoch 230] | loss: 5387.002, mse_x1_rec: 832.306, mse_x2_rec: 954.891, mse_pert: 3454.549, kld_x1: 1061.569, kld_x2: 904.683, kld_pert: 617.698| valid_loss: 7082.125, valid_mse_x1_rec: 969.854, valid_mse_x2_rec: 677.319, valid_mse_pert: 5282.299, valid_kld_x1: 1163.263, valid_kld_x2: 932.652, valid_kld_pert: 619.595|\n",
      "[Epoch 240] | loss: 5222.525, mse_x1_rec: 713.834, mse_x2_rec: 936.605, mse_pert: 3421.436, kld_x1: 1107.333, kld_x2: 948.807, kld_pert: 623.782| valid_loss: 6476.489, valid_mse_x1_rec: 597.585, valid_mse_x2_rec: 1033.259, valid_mse_pert: 4683.297, valid_kld_x1: 1226.758, valid_kld_x2: 1000.819, valid_kld_pert: 660.441|\n",
      "[Epoch 250] | loss: 4389.104, mse_x1_rec: 704.130, mse_x2_rec: 945.420, mse_pert: 2587.890, kld_x1: 1154.725, kld_x2: 949.862, kld_pert: 593.361| valid_loss: 5559.449, valid_mse_x1_rec: 699.533, valid_mse_x2_rec: 876.604, valid_mse_pert: 3818.865, valid_kld_x1: 1303.318, valid_kld_x2: 1000.635, valid_kld_pert: 621.381|\n",
      "[Epoch 260] | loss: 4607.150, mse_x1_rec: 772.869, mse_x2_rec: 914.140, mse_pert: 2767.138, kld_x1: 1179.385, kld_x2: 967.452, kld_pert: 574.926| valid_loss: 5519.943, valid_mse_x1_rec: 748.961, valid_mse_x2_rec: 951.162, valid_mse_pert: 3651.800, valid_kld_x1: 1362.983, valid_kld_x2: 1013.159, valid_kld_pert: 612.755|\n",
      "[Epoch 270] | loss: 4429.422, mse_x1_rec: 854.122, mse_x2_rec: 685.995, mse_pert: 2736.507, kld_x1: 1219.364, kld_x2: 952.066, kld_pert: 546.701| valid_loss: 5725.254, valid_mse_x1_rec: 1135.740, valid_mse_x2_rec: 821.741, valid_mse_pert: 3611.736, valid_kld_x1: 1320.384, valid_kld_x2: 923.544, valid_kld_pert: 531.803|\n",
      "[Epoch 280] | loss: 4425.303, mse_x1_rec: 717.417, mse_x2_rec: 869.819, mse_pert: 2679.853, kld_x1: 1238.123, kld_x2: 1007.643, kld_pert: 568.701| valid_loss: 5427.648, valid_mse_x1_rec: 654.325, valid_mse_x2_rec: 712.201, valid_mse_pert: 3890.591, valid_kld_x1: 1418.889, valid_kld_x2: 1010.230, valid_kld_pert: 604.449|\n",
      "[Epoch 290] | loss: 4197.417, mse_x1_rec: 657.402, mse_x2_rec: 788.643, mse_pert: 2589.741, kld_x1: 1223.394, kld_x2: 1070.333, kld_pert: 581.517| valid_loss: 4121.265, valid_mse_x1_rec: 507.775, valid_mse_x2_rec: 690.792, valid_mse_pert: 2748.756, valid_kld_x1: 1400.161, valid_kld_x2: 1080.494, valid_kld_pert: 613.595|\n",
      "| \u001B[39m20       \u001B[39m | \u001B[39m-3.55e+03\u001B[39m | \u001B[39m0.05621  \u001B[39m | \u001B[39m0.4653   \u001B[39m | \u001B[39m152.0    \u001B[39m | \u001B[39m93.34    \u001B[39m |\n",
      "[Epoch 0] | loss: nan, mse_x1_rec: 8836637.396, mse_x2_rec: 7390349.862, mse_pert: nan, kld_x1: 4060613.338, kld_x2: 5988503.969, kld_pert: inf| valid_loss: nan, valid_mse_x1_rec: 3420782.667, valid_mse_x2_rec: 19265543.111, valid_mse_pert: nan, valid_kld_x1: 2852185.333, valid_kld_x2: 8291633.778, valid_kld_pert: inf|\n",
      "[Epoch 10] | loss: 1562019050485385805143474176.000, mse_x1_rec: 1228175.140, mse_x2_rec: 4437042.008, mse_pert: 1097157430912406756517740544.000, kld_x1: 20663.207, kld_x2: 160334.783, kld_pert: 907736409364261124616224768.000| valid_loss: 4413694061226.667, valid_mse_x1_rec: 567741.667, valid_mse_x2_rec: 19951239.111, valid_mse_pert: 4349112964437.333, valid_kld_x1: 18420.587, valid_kld_x2: 315292.889, valid_kld_pert: 126067962311.111|\n",
      "[Epoch 20] | loss: 6911416.231, mse_x1_rec: 29624.857, mse_x2_rec: 6815448.092, mse_pert: 10022.060, kld_x1: 1036.383, kld_x2: 99487.734, kld_pert: 9454.401| valid_loss: 9957918.222, valid_mse_x1_rec: 38002.354, valid_mse_x2_rec: 9817401.778, valid_mse_pert: 8008.634, valid_kld_x1: 1202.498, valid_kld_x2: 181619.042, valid_kld_pert: 1717.536|\n",
      "[Epoch 30] | loss: 1236471.441, mse_x1_rec: 29322.263, mse_x2_rec: 1189938.093, mse_pert: 8133.979, kld_x1: 703.057, kld_x2: 15769.522, kld_pert: 1252.314| valid_loss: 2281920.444, valid_mse_x1_rec: 50341.823, valid_mse_x2_rec: 2215570.667, valid_mse_pert: 3657.226, valid_kld_x1: 1004.247, valid_kld_x2: 22061.531, valid_kld_pert: 1051.595|\n",
      "[Epoch 40] | loss: 752296.699, mse_x1_rec: 11124.112, mse_x2_rec: 726188.225, mse_pert: 9141.668, kld_x1: 556.340, kld_x2: 9888.827, kld_pert: 963.987| valid_loss: 1170510.111, valid_mse_x1_rec: 7798.095, valid_mse_x2_rec: 1142203.889, valid_mse_pert: 13620.792, valid_kld_x1: 606.389, valid_kld_x2: 12211.772, valid_kld_pert: 630.680|\n",
      "[Epoch 50] | loss: 442935.511, mse_x1_rec: 5520.077, mse_x2_rec: 415131.968, mse_pert: 17226.801, kld_x1: 456.766, kld_x2: 9036.327, kld_pert: 381.041| valid_loss: 636653.778, valid_mse_x1_rec: 4475.696, valid_mse_x2_rec: 607099.722, valid_mse_pert: 18667.571, valid_kld_x1: 604.195, valid_kld_x2: 11581.717, valid_kld_pert: 332.466|\n",
      "[Epoch 60] | loss: 188363.756, mse_x1_rec: 2175.817, mse_x2_rec: 161681.194, mse_pert: 20955.132, kld_x1: 455.875, kld_x2: 6141.136, kld_pert: 338.237| valid_loss: 260948.722, valid_mse_x1_rec: 2008.391, valid_mse_x2_rec: 232213.417, valid_mse_pert: 22054.512, valid_kld_x1: 566.996, valid_kld_x2: 8143.311, valid_kld_pert: 413.537|\n",
      "[Epoch 70] | loss: 51674.846, mse_x1_rec: 3886.817, mse_x2_rec: 27378.300, mse_pert: 18709.647, kld_x1: 466.008, kld_x2: 2339.014, kld_pert: 514.735| valid_loss: 60224.771, valid_mse_x1_rec: 3786.015, valid_mse_x2_rec: 40047.878, valid_mse_pert: 14086.382, valid_kld_x1: 685.002, valid_kld_x2: 2856.409, valid_kld_pert: 958.586|\n",
      "[Epoch 80] | loss: 29156.545, mse_x1_rec: 2309.867, mse_x2_rec: 8923.647, mse_pert: 16820.917, kld_x1: 418.480, kld_x2: 1290.267, kld_pert: 443.351| valid_loss: 28426.747, valid_mse_x1_rec: 1505.703, valid_mse_x2_rec: 7979.262, valid_mse_pert: 17648.747, valid_kld_x1: 564.212, valid_kld_x2: 1344.958, valid_kld_pert: 615.742|\n",
      "[Epoch 90] | loss: 20198.536, mse_x1_rec: 2136.285, mse_x2_rec: 5351.728, mse_pert: 11802.894, kld_x1: 478.433, kld_x2: 984.135, kld_pert: 309.762| valid_loss: 15801.762, valid_mse_x1_rec: 2157.576, valid_mse_x2_rec: 3337.645, valid_mse_pert: 9414.264, valid_kld_x1: 702.596, valid_kld_x2: 750.984, valid_kld_pert: 288.769|\n",
      "[Epoch 100] | loss: 16502.459, mse_x1_rec: 1409.925, mse_x2_rec: 3223.414, mse_pert: 11148.285, kld_x1: 455.704, kld_x2: 684.406, kld_pert: 267.464| valid_loss: 16183.767, valid_mse_x1_rec: 1354.625, valid_mse_x2_rec: 2083.469, valid_mse_pert: 12026.285, valid_kld_x1: 585.840, valid_kld_x2: 557.203, valid_kld_pert: 261.708|\n",
      "[Epoch 110] | loss: 15620.077, mse_x1_rec: 2029.468, mse_x2_rec: 2249.210, mse_pert: 10670.462, kld_x1: 442.531, kld_x2: 595.180, kld_pert: 272.430| valid_loss: 13412.104, valid_mse_x1_rec: 1122.822, valid_mse_x2_rec: 1813.643, valid_mse_pert: 9763.507, valid_kld_x1: 599.632, valid_kld_x2: 526.615, valid_kld_pert: 264.334|\n",
      "[Epoch 120] | loss: 12539.543, mse_x1_rec: 1585.855, mse_x2_rec: 1696.273, mse_pert: 8596.648, kld_x1: 510.206, kld_x2: 530.401, kld_pert: 249.674| valid_loss: 9715.631, valid_mse_x1_rec: 962.121, valid_mse_x2_rec: 1623.831, valid_mse_pert: 6424.918, valid_kld_x1: 693.603, valid_kld_x2: 444.075, valid_kld_pert: 238.508|\n",
      "[Epoch 130] | loss: 9957.916, mse_x1_rec: 1122.497, mse_x2_rec: 1664.204, mse_pert: 6516.560, kld_x1: 544.347, kld_x2: 500.366, kld_pert: 233.631| valid_loss: 11415.793, valid_mse_x1_rec: 1104.341, valid_mse_x2_rec: 1702.269, valid_mse_pert: 7904.934, valid_kld_x1: 700.537, valid_kld_x2: 446.388, valid_kld_pert: 228.266|\n",
      "[Epoch 140] | loss: 8847.697, mse_x1_rec: 1179.527, mse_x2_rec: 1508.605, mse_pert: 5549.773, kld_x1: 517.106, kld_x2: 459.335, kld_pert: 214.300| valid_loss: 10339.447, valid_mse_x1_rec: 1255.339, valid_mse_x2_rec: 1867.975, valid_mse_pert: 6514.233, valid_kld_x1: 678.658, valid_kld_x2: 467.192, valid_kld_pert: 224.752|\n",
      "[Epoch 150] | loss: 8742.641, mse_x1_rec: 1412.132, mse_x2_rec: 1214.804, mse_pert: 5509.538, kld_x1: 545.039, kld_x2: 435.234, kld_pert: 203.391| valid_loss: 9056.783, valid_mse_x1_rec: 1264.067, valid_mse_x2_rec: 1628.504, valid_mse_pert: 5487.739, valid_kld_x1: 727.681, valid_kld_x2: 398.796, valid_kld_pert: 194.476|\n",
      "[Epoch 160] | loss: 7072.146, mse_x1_rec: 803.350, mse_x2_rec: 1380.943, mse_pert: 4274.396, kld_x1: 546.122, kld_x2: 459.226, kld_pert: 192.551| valid_loss: 9080.852, valid_mse_x1_rec: 890.314, valid_mse_x2_rec: 1728.953, valid_mse_pert: 5806.116, valid_kld_x1: 672.528, valid_kld_x2: 424.090, valid_kld_pert: 183.315|\n",
      "[Epoch 170] | loss: 6797.164, mse_x1_rec: 887.929, mse_x2_rec: 1312.910, mse_pert: 3986.391, kld_x1: 555.148, kld_x2: 447.502, kld_pert: 188.370| valid_loss: 8558.835, valid_mse_x1_rec: 1026.253, valid_mse_x2_rec: 1253.916, valid_mse_pert: 5635.399, valid_kld_x1: 683.941, valid_kld_x2: 403.775, valid_kld_pert: 168.392|\n",
      "[Epoch 180] | loss: 7163.744, mse_x1_rec: 1182.082, mse_x2_rec: 1115.465, mse_pert: 4304.411, kld_x1: 518.974, kld_x2: 410.417, kld_pert: 167.609| valid_loss: 10261.394, valid_mse_x1_rec: 1406.218, valid_mse_x2_rec: 1698.332, valid_mse_pert: 6540.016, valid_kld_x1: 634.156, valid_kld_x2: 411.972, valid_kld_pert: 158.352|\n",
      "[Epoch 190] | loss: 5459.720, mse_x1_rec: 880.639, mse_x2_rec: 1066.463, mse_pert: 2916.297, kld_x1: 599.350, kld_x2: 403.764, kld_pert: 161.324| valid_loss: 5318.406, valid_mse_x1_rec: 747.625, valid_mse_x2_rec: 1209.618, valid_mse_pert: 2653.089, valid_kld_x1: 802.787, valid_kld_x2: 419.028, valid_kld_pert: 160.845|\n",
      "[Epoch 200] | loss: 4754.139, mse_x1_rec: 726.253, mse_x2_rec: 1027.497, mse_pert: 2388.494, kld_x1: 613.704, kld_x2: 422.269, kld_pert: 158.875| valid_loss: 5681.173, valid_mse_x1_rec: 733.627, valid_mse_x2_rec: 1088.307, valid_mse_pert: 3153.875, valid_kld_x1: 777.623, valid_kld_x2: 440.380, valid_kld_pert: 159.363|\n",
      "[Epoch 210] | loss: 5466.714, mse_x1_rec: 976.879, mse_x2_rec: 938.841, mse_pert: 2963.861, kld_x1: 586.150, kld_x2: 406.959, kld_pert: 153.387| valid_loss: 5508.489, valid_mse_x1_rec: 700.545, valid_mse_x2_rec: 1003.943, valid_mse_pert: 3100.598, valid_kld_x1: 770.425, valid_kld_x2: 444.456, valid_kld_pert: 158.655|\n",
      "[Epoch 220] | loss: 6021.199, mse_x1_rec: 1253.802, mse_x2_rec: 973.441, mse_pert: 3232.651, kld_x1: 577.196, kld_x2: 373.049, kld_pert: 145.817| valid_loss: 7749.810, valid_mse_x1_rec: 1372.490, valid_mse_x2_rec: 1777.782, valid_mse_pert: 3957.704, valid_kld_x1: 734.038, valid_kld_x2: 378.581, valid_kld_pert: 140.692|\n",
      "[Epoch 230] | loss: 6067.387, mse_x1_rec: 1425.907, mse_x2_rec: 803.279, mse_pert: 3297.381, kld_x1: 520.938, kld_x2: 394.831, kld_pert: 140.292| valid_loss: 6577.414, valid_mse_x1_rec: 1450.804, valid_mse_x2_rec: 939.282, valid_mse_pert: 3552.099, valid_kld_x1: 684.369, valid_kld_x2: 417.233, valid_kld_pert: 138.815|\n",
      "[Epoch 240] | loss: 4578.007, mse_x1_rec: 830.589, mse_x2_rec: 957.683, mse_pert: 2223.740, kld_x1: 575.340, kld_x2: 394.482, kld_pert: 135.395| valid_loss: 5450.870, valid_mse_x1_rec: 825.331, valid_mse_x2_rec: 1224.108, valid_mse_pert: 2715.172, valid_kld_x1: 764.672, valid_kld_x2: 435.259, valid_kld_pert: 140.127|\n",
      "[Epoch 250] | loss: 4919.035, mse_x1_rec: 1040.165, mse_x2_rec: 973.142, mse_pert: 2367.332, kld_x1: 539.200, kld_x2: 387.732, kld_pert: 124.394| valid_loss: 5599.227, valid_mse_x1_rec: 1138.818, valid_mse_x2_rec: 1081.561, valid_mse_pert: 2734.846, valid_kld_x1: 701.625, valid_kld_x2: 424.998, valid_kld_pert: 130.921|\n",
      "[Epoch 260] | loss: 4228.996, mse_x1_rec: 896.693, mse_x2_rec: 791.156, mse_pert: 1994.503, kld_x1: 564.203, kld_x2: 380.533, kld_pert: 122.698| valid_loss: 4725.983, valid_mse_x1_rec: 566.215, valid_mse_x2_rec: 1000.698, valid_mse_pert: 2517.683, valid_kld_x1: 729.286, valid_kld_x2: 399.992, valid_kld_pert: 123.160|\n",
      "[Epoch 270] | loss: 4538.576, mse_x1_rec: 1131.281, mse_x2_rec: 865.457, mse_pert: 2007.822, kld_x1: 548.031, kld_x2: 373.137, kld_pert: 121.607| valid_loss: 7030.519, valid_mse_x1_rec: 1384.280, valid_mse_x2_rec: 1205.564, valid_mse_pert: 3828.513, valid_kld_x1: 674.393, valid_kld_x2: 402.262, valid_kld_pert: 118.716|\n",
      "[Epoch 280] | loss: 3687.480, mse_x1_rec: 771.757, mse_x2_rec: 847.913, mse_pert: 1519.766, kld_x1: 572.760, kld_x2: 374.832, kld_pert: 122.576| valid_loss: 5249.705, valid_mse_x1_rec: 691.229, valid_mse_x2_rec: 1280.373, valid_mse_pert: 2648.538, valid_kld_x1: 735.624, valid_kld_x2: 377.701, valid_kld_pert: 116.028|\n",
      "[Epoch 290] | loss: 4360.733, mse_x1_rec: 982.376, mse_x2_rec: 713.109, mse_pert: 2078.926, kld_x1: 613.058, kld_x2: 396.554, kld_pert: 135.300| valid_loss: 4013.649, valid_mse_x1_rec: 801.118, valid_mse_x2_rec: 891.690, valid_mse_pert: 1616.416, valid_kld_x1: 827.665, valid_kld_x2: 414.466, valid_kld_pert: 133.400|\n",
      "| \u001B[39m21       \u001B[39m | \u001B[39m-3.739e+0\u001B[39m | \u001B[39m0.5121   \u001B[39m | \u001B[39m0.5044   \u001B[39m | \u001B[39m169.5    \u001B[39m | \u001B[39m111.4    \u001B[39m |\n",
      "=========================================================================\n"
     ]
    }
   ],
   "execution_count": 17
  },
  {
   "metadata": {
    "ExecuteTime": {
     "end_time": "2025-02-10T11:58:05.292120Z",
     "start_time": "2025-02-10T11:58:04.930619Z"
    }
   },
   "cell_type": "code",
   "source": "optimizer.max",
   "id": "440e7a194b03993",
   "outputs": [
    {
     "data": {
      "text/plain": [
       "{'target': np.float64(-2686.9559461805557),\n",
       " 'params': {'beta': np.float64(0.6542363348175738),\n",
       "  'dropout': np.float64(0.08043982573185449),\n",
       "  'features_embed_dim': np.float64(173.03576615467415),\n",
       "  'n_latent': np.float64(79.53801414895078)}}"
      ]
     },
     "execution_count": 18,
     "metadata": {},
     "output_type": "execute_result"
    }
   ],
   "execution_count": 18
  },
  {
   "cell_type": "markdown",
   "id": "7d100118-bf7f-4fa8-a9d3-823361903d81",
   "metadata": {
    "tags": []
   },
   "source": "## Treinamento do Modelo"
  },
  {
   "metadata": {
    "ExecuteTime": {
     "end_time": "2025-02-10T12:19:20.346779Z",
     "start_time": "2025-02-10T12:19:20.269873Z"
    }
   },
   "cell_type": "code",
   "source": [
    "model = TranSiGen(\n",
    "    n_genes=978,\n",
    "    n_latent=80,\n",
    "    n_en_hidden=[1200],\n",
    "    n_de_hidden=[800],\n",
    "    features_dim=features_dim,\n",
    "    features_embed_dim=[173],\n",
    "    init_w=True,\n",
    "    beta=0.6542363348175738,\n",
    "    device=dev,\n",
    "    dropout=0.08043982573185449,\n",
    "    path_model='',\n",
    "    random_seed=random_seed\n",
    ").to(dev)"
   ],
   "id": "450467d014c3efd5",
   "outputs": [],
   "execution_count": 24
  },
  {
   "cell_type": "code",
   "id": "4c501287-52a3-4329-b504-74c1c07aaa2d",
   "metadata": {
    "tags": [],
    "ExecuteTime": {
     "end_time": "2025-02-10T12:16:15.900573Z",
     "start_time": "2025-02-10T12:13:22.271835Z"
    }
   },
   "source": "train_model(**optimizer.max['params'], is_best=True)",
   "outputs": [
    {
     "name": "stdout",
     "output_type": "stream",
     "text": [
      "[Epoch 0] | loss: nan, mse_x1_rec: 12369726605.785, mse_x2_rec: 5125201.427, mse_pert: nan, kld_x1: 5086023506.708, kld_x2: 2361606.735, kld_pert: inf| valid_loss: nan, valid_mse_x1_rec: 5487286499.556, valid_mse_x2_rec: 7469121.778, valid_mse_pert: nan, valid_kld_x1: 4047532487.111, valid_kld_x2: 2936835.778, valid_kld_pert: inf|\n",
      "[Epoch 10] | loss: 1546883.388, mse_x1_rec: 56555.530, mse_x2_rec: 715337.479, mse_pert: 24970.572, kld_x1: 2390.581, kld_x2: 10877.541, kld_pert: 1133136.900| valid_loss: 1783892.444, valid_mse_x1_rec: 88785.174, valid_mse_x2_rec: 633000.556, valid_mse_pert: 9738.804, valid_kld_x1: 3093.194, valid_kld_x2: 11583.564, valid_kld_pert: 1593867.333|\n",
      "[Epoch 20] | loss: 554135.116, mse_x1_rec: 186737.786, mse_x2_rec: 193460.092, mse_pert: 95054.077, kld_x1: 2647.781, kld_x2: 2541.327, kld_pert: 115383.779| valid_loss: 719811.722, valid_mse_x1_rec: 231110.806, valid_mse_x2_rec: 295983.611, valid_mse_pert: 103029.715, valid_kld_x1: 2734.417, valid_kld_x2: 3307.986, valid_kld_pert: 131044.972|\n",
      "[Epoch 30] | loss: 163451.605, mse_x1_rec: 38305.537, mse_x2_rec: 87743.095, mse_pert: 31749.365, kld_x1: 1495.990, kld_x2: 4469.189, kld_pert: 2676.356| valid_loss: 186113.014, valid_mse_x1_rec: 48581.819, valid_mse_x2_rec: 110918.882, valid_mse_pert: 19132.479, valid_kld_x1: 1613.740, valid_kld_x2: 3521.089, valid_kld_pert: 6298.118|\n",
      "[Epoch 40] | loss: 28479.147, mse_x1_rec: 4528.299, mse_x2_rec: 15250.194, mse_pert: 3163.217, kld_x1: 950.561, kld_x2: 1213.162, kld_pert: 6300.246| valid_loss: 20284.224, valid_mse_x1_rec: 6047.518, valid_mse_x2_rec: 10000.955, valid_mse_pert: 2458.880, valid_kld_x1: 1092.520, valid_kld_x2: 1170.257, valid_kld_pert: 453.172|\n",
      "[Epoch 50] | loss: 20341.032, mse_x1_rec: 8504.147, mse_x2_rec: 3810.825, mse_pert: 5640.625, kld_x1: 581.205, kld_x2: 548.531, kld_pert: 2516.401| valid_loss: 9929.340, valid_mse_x1_rec: 2109.924, valid_mse_x2_rec: 3385.167, valid_mse_pert: 3160.947, valid_kld_x1: 821.432, valid_kld_x2: 661.153, valid_kld_pert: 463.657|\n",
      "[Epoch 60] | loss: 10976.886, mse_x1_rec: 1551.649, mse_x2_rec: 3310.032, mse_pert: 1577.294, kld_x1: 517.360, kld_x2: 394.156, kld_pert: 6024.678| valid_loss: 9878.463, valid_mse_x1_rec: 1725.219, valid_mse_x2_rec: 2674.257, valid_mse_pert: 4004.385, valid_kld_x1: 581.709, valid_kld_x2: 473.872, valid_kld_pert: 1198.347|\n",
      "[Epoch 70] | loss: 5993.434, mse_x1_rec: 2159.986, mse_x2_rec: 1693.102, mse_pert: 1517.383, kld_x1: 413.610, kld_x2: 343.223, kld_pert: 195.363| valid_loss: 6919.896, valid_mse_x1_rec: 2271.142, valid_mse_x2_rec: 1726.547, valid_mse_pert: 2203.164, valid_kld_x1: 517.366, valid_kld_x2: 364.215, valid_kld_pert: 217.476|\n",
      "[Epoch 80] | loss: 6142.703, mse_x1_rec: 1655.156, mse_x2_rec: 2662.629, mse_pert: 1330.182, kld_x1: 330.512, kld_x2: 275.411, kld_pert: 150.281| valid_loss: 8562.258, valid_mse_x1_rec: 2024.888, valid_mse_x2_rec: 1768.752, valid_mse_pert: 4184.357, valid_kld_x1: 383.541, valid_kld_x2: 317.680, valid_kld_pert: 191.822|\n",
      "[Epoch 90] | loss: 3890.916, mse_x1_rec: 981.100, mse_x2_rec: 1182.121, mse_pert: 1222.391, kld_x1: 350.803, kld_x2: 308.686, kld_pert: 112.869| valid_loss: 5943.890, valid_mse_x1_rec: 1276.497, valid_mse_x2_rec: 1817.474, valid_mse_pert: 2283.304, valid_kld_x1: 419.632, valid_kld_x2: 295.498, valid_kld_pert: 150.939|\n",
      "[Epoch 100] | loss: 5720.487, mse_x1_rec: 2229.501, mse_x2_rec: 1402.458, mse_pert: 1629.802, kld_x1: 324.994, kld_x2: 266.477, kld_pert: 109.691| valid_loss: 5986.781, valid_mse_x1_rec: 2553.155, valid_mse_x2_rec: 1362.715, valid_mse_pert: 1504.775, valid_kld_x1: 442.841, valid_kld_x2: 290.786, valid_kld_pert: 131.712|\n",
      "[Epoch 110] | loss: 4940.516, mse_x1_rec: 1152.142, mse_x2_rec: 2133.111, mse_pert: 1244.988, kld_x1: 300.538, kld_x2: 224.323, kld_pert: 102.243| valid_loss: 6537.136, valid_mse_x1_rec: 1219.590, valid_mse_x2_rec: 2636.852, valid_mse_pert: 2221.046, valid_kld_x1: 375.019, valid_kld_x2: 215.770, valid_kld_pert: 111.783|\n",
      "[Epoch 120] | loss: 3844.008, mse_x1_rec: 1108.171, mse_x2_rec: 1089.658, mse_pert: 1214.645, kld_x1: 313.812, kld_x2: 257.404, kld_pert: 88.381| valid_loss: 6796.782, valid_mse_x1_rec: 1343.197, valid_mse_x2_rec: 1869.938, valid_mse_pert: 3125.658, valid_kld_x1: 342.315, valid_kld_x2: 214.990, valid_kld_pert: 142.731|\n",
      "[Epoch 130] | loss: 4276.321, mse_x1_rec: 1469.016, mse_x2_rec: 1090.103, mse_pert: 1306.694, kld_x1: 308.932, kld_x2: 240.227, kld_pert: 78.301| valid_loss: 5201.451, valid_mse_x1_rec: 1751.208, valid_mse_x2_rec: 1427.592, valid_mse_pert: 1571.056, valid_kld_x1: 374.457, valid_kld_x2: 214.713, valid_kld_pert: 101.094|\n",
      "[Epoch 140] | loss: 4250.429, mse_x1_rec: 1308.087, mse_x2_rec: 1366.725, mse_pert: 1203.725, kld_x1: 271.863, kld_x2: 217.567, kld_pert: 79.007| valid_loss: 6923.051, valid_mse_x1_rec: 1077.176, valid_mse_x2_rec: 2918.762, valid_mse_pert: 2548.812, valid_kld_x1: 314.366, valid_kld_x2: 171.196, valid_kld_pert: 92.671|\n",
      "[Epoch 150] | loss: 4988.045, mse_x1_rec: 1792.515, mse_x2_rec: 1569.162, mse_pert: 1256.727, kld_x1: 281.599, kld_x2: 213.945, kld_pert: 69.453| valid_loss: 4718.283, valid_mse_x1_rec: 1429.074, valid_mse_x2_rec: 1207.710, valid_mse_pert: 1609.379, valid_kld_x1: 365.368, valid_kld_x2: 220.966, valid_kld_pert: 135.300|\n",
      "[Epoch 160] | loss: 3682.950, mse_x1_rec: 795.611, mse_x2_rec: 1489.402, mse_pert: 1012.516, kld_x1: 277.140, kld_x2: 217.004, kld_pert: 94.972| valid_loss: 6028.138, valid_mse_x1_rec: 1050.528, valid_mse_x2_rec: 1542.284, valid_mse_pert: 2892.437, valid_kld_x1: 313.330, valid_kld_x2: 249.105, valid_kld_pert: 267.372|\n",
      "[Epoch 170] | loss: 3505.263, mse_x1_rec: 1138.767, mse_x2_rec: 920.360, mse_pert: 1121.731, kld_x1: 236.771, kld_x2: 197.359, kld_pert: 61.723| valid_loss: 7483.668, valid_mse_x1_rec: 1608.835, valid_mse_x2_rec: 1267.718, valid_mse_pert: 4196.659, valid_kld_x1: 274.836, valid_kld_x2: 191.562, valid_kld_pert: 160.981|\n",
      "[Epoch 180] | loss: 4381.905, mse_x1_rec: 1817.969, mse_x2_rec: 919.586, mse_pert: 1297.804, kld_x1: 269.383, kld_x2: 190.164, kld_pert: 70.149| valid_loss: 5161.704, valid_mse_x1_rec: 2257.663, valid_mse_x2_rec: 1295.549, valid_mse_pert: 1179.503, valid_kld_x1: 353.396, valid_kld_x2: 178.893, valid_kld_pert: 123.421|\n",
      "[Epoch 190] | loss: 2995.987, mse_x1_rec: 864.006, mse_x2_rec: 849.812, mse_pert: 955.102, kld_x1: 250.787, kld_x2: 187.663, kld_pert: 61.471| valid_loss: 7778.290, valid_mse_x1_rec: 1744.828, valid_mse_x2_rec: 1700.128, valid_mse_pert: 3974.173, valid_kld_x1: 261.458, valid_kld_x2: 170.763, valid_kld_pert: 116.755|\n",
      "[Epoch 200] | loss: 3364.976, mse_x1_rec: 768.308, mse_x2_rec: 1374.127, mse_pert: 900.659, kld_x1: 258.931, kld_x2: 168.789, kld_pert: 64.276| valid_loss: 4461.008, valid_mse_x1_rec: 797.291, valid_mse_x2_rec: 1236.384, valid_mse_pert: 2014.676, valid_kld_x1: 309.706, valid_kld_x2: 176.947, valid_kld_pert: 144.092|\n",
      "[Epoch 210] | loss: 2630.788, mse_x1_rec: 705.661, mse_x2_rec: 747.171, mse_pert: 844.024, kld_x1: 246.589, kld_x2: 196.874, kld_pert: 66.951| valid_loss: 5282.985, valid_mse_x1_rec: 1005.259, valid_mse_x2_rec: 1005.355, valid_mse_pert: 2840.412, valid_kld_x1: 268.728, valid_kld_x2: 189.270, valid_kld_pert: 202.250|\n",
      "[Epoch 220] | loss: 3036.404, mse_x1_rec: 861.318, mse_x2_rec: 917.854, mse_pert: 944.812, kld_x1: 245.826, kld_x2: 173.196, kld_pert: 58.511| valid_loss: 3839.576, valid_mse_x1_rec: 637.613, valid_mse_x2_rec: 1094.060, valid_mse_pert: 1720.539, valid_kld_x1: 290.467, valid_kld_x2: 177.738, valid_kld_pert: 123.880|\n",
      "[Epoch 230] | loss: 2413.593, mse_x1_rec: 562.296, mse_x2_rec: 831.062, mse_pert: 704.631, kld_x1: 250.675, kld_x2: 177.087, kld_pert: 54.638| valid_loss: 3792.269, valid_mse_x1_rec: 634.187, valid_mse_x2_rec: 999.207, valid_mse_pert: 1746.449, valid_kld_x1: 289.516, valid_kld_x2: 184.106, valid_kld_pert: 156.770|\n",
      "[Epoch 240] | loss: 3376.221, mse_x1_rec: 1245.765, mse_x2_rec: 699.609, mse_pert: 1116.350, kld_x1: 221.615, kld_x2: 181.451, kld_pert: 77.642| valid_loss: 4835.939, valid_mse_x1_rec: 931.130, valid_mse_x2_rec: 942.875, valid_mse_pert: 2573.583, valid_kld_x1: 255.730, valid_kld_x2: 164.549, valid_kld_pert: 173.317|\n",
      "[Epoch 250] | loss: 2165.079, mse_x1_rec: 467.841, mse_x2_rec: 712.388, mse_pert: 678.178, kld_x1: 244.621, kld_x2: 167.523, kld_pert: 56.605| valid_loss: 4552.647, valid_mse_x1_rec: 696.516, valid_mse_x2_rec: 1180.730, valid_mse_pert: 2314.563, valid_kld_x1: 269.555, valid_kld_x2: 153.727, valid_kld_pert: 128.258|\n",
      "[Epoch 260] | loss: 2612.950, mse_x1_rec: 536.498, mse_x2_rec: 1103.666, mse_pert: 683.364, kld_x1: 230.659, kld_x2: 150.629, kld_pert: 61.095| valid_loss: 3923.237, valid_mse_x1_rec: 594.037, valid_mse_x2_rec: 1007.171, valid_mse_pert: 1980.003, valid_kld_x1: 259.678, valid_kld_x2: 149.977, valid_kld_pert: 113.132|\n",
      "[Epoch 270] | loss: 2811.824, mse_x1_rec: 849.940, mse_x2_rec: 655.597, mse_pert: 992.509, kld_x1: 232.911, kld_x2: 175.225, kld_pert: 71.475| valid_loss: 3418.615, valid_mse_x1_rec: 610.351, valid_mse_x2_rec: 836.933, valid_mse_pert: 1593.817, valid_kld_x1: 265.837, valid_kld_x2: 167.500, valid_kld_pert: 143.694|\n",
      "[Epoch 280] | loss: 2151.277, mse_x1_rec: 496.178, mse_x2_rec: 709.885, mse_pert: 649.238, kld_x1: 230.278, kld_x2: 167.927, kld_pert: 54.194| valid_loss: 4558.817, valid_mse_x1_rec: 756.120, valid_mse_x2_rec: 1241.825, valid_mse_pert: 2226.938, valid_kld_x1: 244.818, valid_kld_x2: 155.916, valid_kld_pert: 109.686|\n",
      "[Epoch 290] | loss: 2182.180, mse_x1_rec: 659.550, mse_x2_rec: 522.784, mse_pert: 705.538, kld_x1: 233.182, kld_x2: 162.592, kld_pert: 54.076| valid_loss: 3364.061, valid_mse_x1_rec: 729.671, valid_mse_x2_rec: 939.991, valid_mse_pert: 1354.748, valid_kld_x1: 266.002, valid_kld_x2: 149.916, valid_kld_pert: 103.240|\n",
      "[Epoch 300] | loss: 2102.180, mse_x1_rec: 513.669, mse_x2_rec: 637.628, mse_pert: 657.158, kld_x1: 235.145, kld_x2: 156.659, kld_pert: 57.155| valid_loss: 2772.379, valid_mse_x1_rec: 492.301, valid_mse_x2_rec: 863.900, valid_mse_pert: 1070.246, valid_kld_x1: 261.198, valid_kld_x2: 152.406, valid_kld_pert: 115.154|\n",
      "[Epoch 310] | loss: 1965.798, mse_x1_rec: 473.157, mse_x2_rec: 603.754, mse_pert: 592.338, kld_x1: 236.602, kld_x2: 160.950, kld_pert: 55.724| valid_loss: 4135.849, valid_mse_x1_rec: 746.468, valid_mse_x2_rec: 1119.728, valid_mse_pert: 1932.371, valid_kld_x1: 243.584, valid_kld_x2: 146.929, valid_kld_pert: 125.023|\n",
      "[Epoch 320] | loss: 1854.781, mse_x1_rec: 402.631, mse_x2_rec: 631.692, mse_pert: 508.392, kld_x1: 235.110, kld_x2: 178.762, kld_pert: 63.122| valid_loss: 3275.368, valid_mse_x1_rec: 631.972, valid_mse_x2_rec: 788.451, valid_mse_pert: 1495.812, valid_kld_x1: 249.700, valid_kld_x2: 160.763, valid_kld_pert: 138.471|\n",
      "[Epoch 330] | loss: 1698.125, mse_x1_rec: 347.273, mse_x2_rec: 561.774, mse_pert: 486.510, kld_x1: 237.557, kld_x2: 163.741, kld_pert: 61.178| valid_loss: 3751.433, valid_mse_x1_rec: 662.730, valid_mse_x2_rec: 1011.013, valid_mse_pert: 1736.496, valid_kld_x1: 244.693, valid_kld_x2: 153.293, valid_kld_pert: 123.528|\n",
      "[Epoch 340] | loss: 1929.008, mse_x1_rec: 485.401, mse_x2_rec: 527.729, mse_pert: 606.507, kld_x1: 237.925, kld_x2: 172.575, kld_pert: 62.372| valid_loss: 3638.167, valid_mse_x1_rec: 807.831, valid_mse_x2_rec: 735.865, valid_mse_pert: 1739.728, valid_kld_x1: 235.693, valid_kld_x2: 154.655, valid_kld_pert: 151.877|\n",
      "[Epoch 350] | loss: 1940.842, mse_x1_rec: 358.661, mse_x2_rec: 730.268, mse_pert: 555.452, kld_x1: 244.597, kld_x2: 150.902, kld_pert: 57.641| valid_loss: 3052.162, valid_mse_x1_rec: 483.117, valid_mse_x2_rec: 880.700, valid_mse_pert: 1349.333, valid_kld_x1: 252.724, valid_kld_x2: 142.335, valid_kld_pert: 123.121|\n",
      "[Epoch 360] | loss: 1990.032, mse_x1_rec: 525.596, mse_x2_rec: 619.566, mse_pert: 559.007, kld_x1: 224.357, kld_x2: 153.931, kld_pert: 58.653| valid_loss: 3499.462, valid_mse_x1_rec: 532.495, valid_mse_x2_rec: 708.545, valid_mse_pert: 1907.831, valid_kld_x1: 230.171, valid_kld_x2: 150.791, valid_kld_pert: 154.914|\n",
      "[Epoch 370] | loss: 2610.321, mse_x1_rec: 891.915, mse_x2_rec: 521.853, mse_pert: 887.989, kld_x1: 212.336, kld_x2: 172.578, kld_pert: 86.726| valid_loss: 3593.774, valid_mse_x1_rec: 640.145, valid_mse_x2_rec: 787.486, valid_mse_pert: 1778.468, valid_kld_x1: 222.345, valid_kld_x2: 158.444, valid_kld_pert: 211.773|\n",
      "[Epoch 380] | loss: 2093.853, mse_x1_rec: 744.818, mse_x2_rec: 448.140, mse_pert: 601.567, kld_x1: 228.316, kld_x2: 161.439, kld_pert: 67.768| valid_loss: 3395.994, valid_mse_x1_rec: 947.225, valid_mse_x2_rec: 832.340, valid_mse_pert: 1271.862, valid_kld_x1: 238.716, valid_kld_x2: 143.400, valid_kld_pert: 144.553|\n",
      "[Epoch 390] | loss: 1890.423, mse_x1_rec: 378.380, mse_x2_rec: 772.057, mse_pert: 456.629, kld_x1: 231.768, kld_x2: 141.286, kld_pert: 60.056| valid_loss: 3881.749, valid_mse_x1_rec: 620.264, valid_mse_x2_rec: 1183.801, valid_mse_pert: 1758.444, valid_kld_x1: 229.551, valid_kld_x2: 135.472, valid_kld_pert: 122.935|\n"
     ]
    },
    {
     "data": {
      "text/plain": [
       "-2444.4021267361113"
      ]
     },
     "execution_count": 22,
     "metadata": {},
     "output_type": "execute_result"
    }
   ],
   "execution_count": 22
  },
  {
   "metadata": {
    "ExecuteTime": {
     "end_time": "2025-02-10T12:20:32.115501Z",
     "start_time": "2025-02-10T12:20:32.021983Z"
    }
   },
   "cell_type": "code",
   "source": "model = torch.load('results/best_model.pt')",
   "id": "53ff537811d56e87",
   "outputs": [],
   "execution_count": 28
  },
  {
   "cell_type": "markdown",
   "id": "ca090944-eb92-449f-bee3-2f83da6e49d7",
   "metadata": {},
   "source": [
    "## Avaliação do Modelo no Conjunto Teste"
   ]
  },
  {
   "cell_type": "code",
   "id": "efcb6c6c-036b-416f-ad18-161ea87060ac",
   "metadata": {
    "tags": [],
    "ExecuteTime": {
     "end_time": "2025-02-10T12:20:38.931545Z",
     "start_time": "2025-02-10T12:20:38.723648Z"
    }
   },
   "source": [
    "_, _, test_metrics_dict_ls = model.test_model(loader=test_loader, metrics_func=['pearson'])\n",
    "\n",
    "for name, rec_dict_value in zip(['test'], [test_metrics_dict_ls]):\n",
    "    df_rec = pd.DataFrame.from_dict(rec_dict_value)\n",
    "    smi_ls = []\n",
    "    for smi_id in df_rec['cp_id']:\n",
    "        smi_ls.append(idx2smi[smi_id])\n",
    "    df_rec['canonical_smiles'] = smi_ls"
   ],
   "outputs": [],
   "execution_count": 29
  },
  {
   "cell_type": "code",
   "id": "e3d14d32-fa41-4218-966b-beafb48d4781",
   "metadata": {
    "tags": [],
    "ExecuteTime": {
     "end_time": "2025-02-10T12:20:42.521246Z",
     "start_time": "2025-02-10T12:20:42.487210Z"
    }
   },
   "source": "df_rec",
   "outputs": [
    {
     "data": {
      "text/plain": [
       "    x1_rec_pearson  x2_rec_pearson  x2_pred_pearson  DEG_rec_pearson  \\\n",
       "0         0.944225        0.926119         0.922537         0.199172   \n",
       "1         0.844968        0.853367         0.849935         0.163265   \n",
       "2         0.942965        0.918368         0.897666         0.295777   \n",
       "3         0.977116        0.955755         0.947049         0.571797   \n",
       "4         0.972269        0.954420         0.945741         0.421421   \n",
       "5         0.986818        0.971507         0.966324         0.396427   \n",
       "6         0.957665        0.950882         0.941815         0.342316   \n",
       "7         0.942791        0.963365         0.952109         0.578217   \n",
       "8         0.911938        0.942710         0.932689         0.604693   \n",
       "9         0.942084        0.927439         0.921694         0.175447   \n",
       "10        0.958020        0.948465         0.939718         0.351578   \n",
       "11        0.971669        0.974655         0.969768         0.472617   \n",
       "12        0.940027        0.915709         0.895734         0.260475   \n",
       "13        0.970566        0.964246         0.952676         0.192355   \n",
       "14        0.944730        0.967610         0.958345         0.568555   \n",
       "15        0.847590        0.850345         0.838883         0.217950   \n",
       "16        0.949790        0.946038         0.940710         0.515014   \n",
       "\n",
       "    DEG_pred_pearson  cp_id   cid      sig  \\\n",
       "0           0.166481      6  A375   A375_6   \n",
       "1           0.171045      6  HT29   HT29_6   \n",
       "2           0.269045      9  A549   A549_9   \n",
       "3           0.529164     13   ASC   ASC_13   \n",
       "4           0.303794      9   PC3    PC3_9   \n",
       "5           0.387523     13  HA1E  HA1E_13   \n",
       "6           0.271578      6  HA1E   HA1E_6   \n",
       "7           0.486590     13  A549  A549_13   \n",
       "8           0.549577      9  VCAP   VCAP_9   \n",
       "9           0.146525      6  A549   A549_6   \n",
       "10          0.313490      9  HA1E   HA1E_9   \n",
       "11          0.364271      6  MCF7   MCF7_6   \n",
       "12          0.195718      9  A375   A375_9   \n",
       "13          0.057990      6   PC3    PC3_6   \n",
       "14          0.491133      6  VCAP   VCAP_6   \n",
       "15          0.173296      9  HT29   HT29_9   \n",
       "16          0.428247      9  MCF7   MCF7_9   \n",
       "\n",
       "                                     canonical_smiles  \n",
       "0                   Brc1c[nH]c2nc(SCc3ccccc3C#N)nc2c1  \n",
       "1                   Brc1c[nH]c2nc(SCc3ccccc3C#N)nc2c1  \n",
       "2             Brc1ccc(CSc2nnc(c3ccccn3)n2Cc4ccco4)cc1  \n",
       "3   Brc1ccc(NC(=O)N2NC(=O)[C@H]([C@@H]2c2ccccc2)c2...  \n",
       "4             Brc1ccc(CSc2nnc(c3ccccn3)n2Cc4ccco4)cc1  \n",
       "5   Brc1ccc(NC(=O)N2NC(=O)[C@H]([C@@H]2c2ccccc2)c2...  \n",
       "6                   Brc1c[nH]c2nc(SCc3ccccc3C#N)nc2c1  \n",
       "7   Brc1ccc(NC(=O)N2NC(=O)[C@H]([C@@H]2c2ccccc2)c2...  \n",
       "8             Brc1ccc(CSc2nnc(c3ccccn3)n2Cc4ccco4)cc1  \n",
       "9                   Brc1c[nH]c2nc(SCc3ccccc3C#N)nc2c1  \n",
       "10            Brc1ccc(CSc2nnc(c3ccccn3)n2Cc4ccco4)cc1  \n",
       "11                  Brc1c[nH]c2nc(SCc3ccccc3C#N)nc2c1  \n",
       "12            Brc1ccc(CSc2nnc(c3ccccn3)n2Cc4ccco4)cc1  \n",
       "13                  Brc1c[nH]c2nc(SCc3ccccc3C#N)nc2c1  \n",
       "14                  Brc1c[nH]c2nc(SCc3ccccc3C#N)nc2c1  \n",
       "15            Brc1ccc(CSc2nnc(c3ccccn3)n2Cc4ccco4)cc1  \n",
       "16            Brc1ccc(CSc2nnc(c3ccccn3)n2Cc4ccco4)cc1  "
      ],
      "text/html": [
       "<div>\n",
       "<style scoped>\n",
       "    .dataframe tbody tr th:only-of-type {\n",
       "        vertical-align: middle;\n",
       "    }\n",
       "\n",
       "    .dataframe tbody tr th {\n",
       "        vertical-align: top;\n",
       "    }\n",
       "\n",
       "    .dataframe thead th {\n",
       "        text-align: right;\n",
       "    }\n",
       "</style>\n",
       "<table border=\"1\" class=\"dataframe\">\n",
       "  <thead>\n",
       "    <tr style=\"text-align: right;\">\n",
       "      <th></th>\n",
       "      <th>x1_rec_pearson</th>\n",
       "      <th>x2_rec_pearson</th>\n",
       "      <th>x2_pred_pearson</th>\n",
       "      <th>DEG_rec_pearson</th>\n",
       "      <th>DEG_pred_pearson</th>\n",
       "      <th>cp_id</th>\n",
       "      <th>cid</th>\n",
       "      <th>sig</th>\n",
       "      <th>canonical_smiles</th>\n",
       "    </tr>\n",
       "  </thead>\n",
       "  <tbody>\n",
       "    <tr>\n",
       "      <th>0</th>\n",
       "      <td>0.944225</td>\n",
       "      <td>0.926119</td>\n",
       "      <td>0.922537</td>\n",
       "      <td>0.199172</td>\n",
       "      <td>0.166481</td>\n",
       "      <td>6</td>\n",
       "      <td>A375</td>\n",
       "      <td>A375_6</td>\n",
       "      <td>Brc1c[nH]c2nc(SCc3ccccc3C#N)nc2c1</td>\n",
       "    </tr>\n",
       "    <tr>\n",
       "      <th>1</th>\n",
       "      <td>0.844968</td>\n",
       "      <td>0.853367</td>\n",
       "      <td>0.849935</td>\n",
       "      <td>0.163265</td>\n",
       "      <td>0.171045</td>\n",
       "      <td>6</td>\n",
       "      <td>HT29</td>\n",
       "      <td>HT29_6</td>\n",
       "      <td>Brc1c[nH]c2nc(SCc3ccccc3C#N)nc2c1</td>\n",
       "    </tr>\n",
       "    <tr>\n",
       "      <th>2</th>\n",
       "      <td>0.942965</td>\n",
       "      <td>0.918368</td>\n",
       "      <td>0.897666</td>\n",
       "      <td>0.295777</td>\n",
       "      <td>0.269045</td>\n",
       "      <td>9</td>\n",
       "      <td>A549</td>\n",
       "      <td>A549_9</td>\n",
       "      <td>Brc1ccc(CSc2nnc(c3ccccn3)n2Cc4ccco4)cc1</td>\n",
       "    </tr>\n",
       "    <tr>\n",
       "      <th>3</th>\n",
       "      <td>0.977116</td>\n",
       "      <td>0.955755</td>\n",
       "      <td>0.947049</td>\n",
       "      <td>0.571797</td>\n",
       "      <td>0.529164</td>\n",
       "      <td>13</td>\n",
       "      <td>ASC</td>\n",
       "      <td>ASC_13</td>\n",
       "      <td>Brc1ccc(NC(=O)N2NC(=O)[C@H]([C@@H]2c2ccccc2)c2...</td>\n",
       "    </tr>\n",
       "    <tr>\n",
       "      <th>4</th>\n",
       "      <td>0.972269</td>\n",
       "      <td>0.954420</td>\n",
       "      <td>0.945741</td>\n",
       "      <td>0.421421</td>\n",
       "      <td>0.303794</td>\n",
       "      <td>9</td>\n",
       "      <td>PC3</td>\n",
       "      <td>PC3_9</td>\n",
       "      <td>Brc1ccc(CSc2nnc(c3ccccn3)n2Cc4ccco4)cc1</td>\n",
       "    </tr>\n",
       "    <tr>\n",
       "      <th>5</th>\n",
       "      <td>0.986818</td>\n",
       "      <td>0.971507</td>\n",
       "      <td>0.966324</td>\n",
       "      <td>0.396427</td>\n",
       "      <td>0.387523</td>\n",
       "      <td>13</td>\n",
       "      <td>HA1E</td>\n",
       "      <td>HA1E_13</td>\n",
       "      <td>Brc1ccc(NC(=O)N2NC(=O)[C@H]([C@@H]2c2ccccc2)c2...</td>\n",
       "    </tr>\n",
       "    <tr>\n",
       "      <th>6</th>\n",
       "      <td>0.957665</td>\n",
       "      <td>0.950882</td>\n",
       "      <td>0.941815</td>\n",
       "      <td>0.342316</td>\n",
       "      <td>0.271578</td>\n",
       "      <td>6</td>\n",
       "      <td>HA1E</td>\n",
       "      <td>HA1E_6</td>\n",
       "      <td>Brc1c[nH]c2nc(SCc3ccccc3C#N)nc2c1</td>\n",
       "    </tr>\n",
       "    <tr>\n",
       "      <th>7</th>\n",
       "      <td>0.942791</td>\n",
       "      <td>0.963365</td>\n",
       "      <td>0.952109</td>\n",
       "      <td>0.578217</td>\n",
       "      <td>0.486590</td>\n",
       "      <td>13</td>\n",
       "      <td>A549</td>\n",
       "      <td>A549_13</td>\n",
       "      <td>Brc1ccc(NC(=O)N2NC(=O)[C@H]([C@@H]2c2ccccc2)c2...</td>\n",
       "    </tr>\n",
       "    <tr>\n",
       "      <th>8</th>\n",
       "      <td>0.911938</td>\n",
       "      <td>0.942710</td>\n",
       "      <td>0.932689</td>\n",
       "      <td>0.604693</td>\n",
       "      <td>0.549577</td>\n",
       "      <td>9</td>\n",
       "      <td>VCAP</td>\n",
       "      <td>VCAP_9</td>\n",
       "      <td>Brc1ccc(CSc2nnc(c3ccccn3)n2Cc4ccco4)cc1</td>\n",
       "    </tr>\n",
       "    <tr>\n",
       "      <th>9</th>\n",
       "      <td>0.942084</td>\n",
       "      <td>0.927439</td>\n",
       "      <td>0.921694</td>\n",
       "      <td>0.175447</td>\n",
       "      <td>0.146525</td>\n",
       "      <td>6</td>\n",
       "      <td>A549</td>\n",
       "      <td>A549_6</td>\n",
       "      <td>Brc1c[nH]c2nc(SCc3ccccc3C#N)nc2c1</td>\n",
       "    </tr>\n",
       "    <tr>\n",
       "      <th>10</th>\n",
       "      <td>0.958020</td>\n",
       "      <td>0.948465</td>\n",
       "      <td>0.939718</td>\n",
       "      <td>0.351578</td>\n",
       "      <td>0.313490</td>\n",
       "      <td>9</td>\n",
       "      <td>HA1E</td>\n",
       "      <td>HA1E_9</td>\n",
       "      <td>Brc1ccc(CSc2nnc(c3ccccn3)n2Cc4ccco4)cc1</td>\n",
       "    </tr>\n",
       "    <tr>\n",
       "      <th>11</th>\n",
       "      <td>0.971669</td>\n",
       "      <td>0.974655</td>\n",
       "      <td>0.969768</td>\n",
       "      <td>0.472617</td>\n",
       "      <td>0.364271</td>\n",
       "      <td>6</td>\n",
       "      <td>MCF7</td>\n",
       "      <td>MCF7_6</td>\n",
       "      <td>Brc1c[nH]c2nc(SCc3ccccc3C#N)nc2c1</td>\n",
       "    </tr>\n",
       "    <tr>\n",
       "      <th>12</th>\n",
       "      <td>0.940027</td>\n",
       "      <td>0.915709</td>\n",
       "      <td>0.895734</td>\n",
       "      <td>0.260475</td>\n",
       "      <td>0.195718</td>\n",
       "      <td>9</td>\n",
       "      <td>A375</td>\n",
       "      <td>A375_9</td>\n",
       "      <td>Brc1ccc(CSc2nnc(c3ccccn3)n2Cc4ccco4)cc1</td>\n",
       "    </tr>\n",
       "    <tr>\n",
       "      <th>13</th>\n",
       "      <td>0.970566</td>\n",
       "      <td>0.964246</td>\n",
       "      <td>0.952676</td>\n",
       "      <td>0.192355</td>\n",
       "      <td>0.057990</td>\n",
       "      <td>6</td>\n",
       "      <td>PC3</td>\n",
       "      <td>PC3_6</td>\n",
       "      <td>Brc1c[nH]c2nc(SCc3ccccc3C#N)nc2c1</td>\n",
       "    </tr>\n",
       "    <tr>\n",
       "      <th>14</th>\n",
       "      <td>0.944730</td>\n",
       "      <td>0.967610</td>\n",
       "      <td>0.958345</td>\n",
       "      <td>0.568555</td>\n",
       "      <td>0.491133</td>\n",
       "      <td>6</td>\n",
       "      <td>VCAP</td>\n",
       "      <td>VCAP_6</td>\n",
       "      <td>Brc1c[nH]c2nc(SCc3ccccc3C#N)nc2c1</td>\n",
       "    </tr>\n",
       "    <tr>\n",
       "      <th>15</th>\n",
       "      <td>0.847590</td>\n",
       "      <td>0.850345</td>\n",
       "      <td>0.838883</td>\n",
       "      <td>0.217950</td>\n",
       "      <td>0.173296</td>\n",
       "      <td>9</td>\n",
       "      <td>HT29</td>\n",
       "      <td>HT29_9</td>\n",
       "      <td>Brc1ccc(CSc2nnc(c3ccccn3)n2Cc4ccco4)cc1</td>\n",
       "    </tr>\n",
       "    <tr>\n",
       "      <th>16</th>\n",
       "      <td>0.949790</td>\n",
       "      <td>0.946038</td>\n",
       "      <td>0.940710</td>\n",
       "      <td>0.515014</td>\n",
       "      <td>0.428247</td>\n",
       "      <td>9</td>\n",
       "      <td>MCF7</td>\n",
       "      <td>MCF7_9</td>\n",
       "      <td>Brc1ccc(CSc2nnc(c3ccccn3)n2Cc4ccco4)cc1</td>\n",
       "    </tr>\n",
       "  </tbody>\n",
       "</table>\n",
       "</div>"
      ]
     },
     "execution_count": 30,
     "metadata": {},
     "output_type": "execute_result"
    }
   ],
   "execution_count": 30
  }
 ],
 "metadata": {
  "kernelspec": {
   "display_name": "Python 3 (ipykernel)",
   "language": "python",
   "name": "python3"
  },
  "language_info": {
   "codemirror_mode": {
    "name": "ipython",
    "version": 3
   },
   "file_extension": ".py",
   "mimetype": "text/x-python",
   "name": "python",
   "nbconvert_exporter": "python",
   "pygments_lexer": "ipython3",
   "version": "3.11.7"
  }
 },
 "nbformat": 4,
 "nbformat_minor": 5
}

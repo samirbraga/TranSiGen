{
 "cells": [
  {
   "metadata": {
    "tags": [],
    "ExecuteTime": {
     "end_time": "2025-02-10T10:18:12.586531Z",
     "start_time": "2025-02-10T10:18:12.568002Z"
    }
   },
   "cell_type": "code",
   "source": [
    "import math\n",
    "import pickle\n",
    "import warnings\n",
    "import torch\n",
    "import matplotlib.pyplot as plt\n",
    "from bayes_opt import BayesianOptimization\n",
    "from utils import *\n",
    "from model import TranSiGen\n",
    "from dataset import TranSiGenDataset"
   ],
   "id": "43e6d4c7-99f9-451d-89ea-d8b6792787f2",
   "outputs": [],
   "execution_count": 69
  },
  {
   "metadata": {
    "ExecuteTime": {
     "end_time": "2025-02-10T10:18:12.900046Z",
     "start_time": "2025-02-10T10:18:12.880648Z"
    }
   },
   "cell_type": "code",
   "source": "warnings.filterwarnings('ignore')",
   "id": "f69b31e0f2615bad",
   "outputs": [],
   "execution_count": 70
  },
  {
   "metadata": {
    "ExecuteTime": {
     "end_time": "2025-02-10T10:18:13.045679Z",
     "start_time": "2025-02-10T10:18:13.024493Z"
    }
   },
   "cell_type": "code",
   "source": [
    "%load_ext autoreload\n",
    "%autoreload 2"
   ],
   "id": "7c23042fffac5a26",
   "outputs": [
    {
     "name": "stdout",
     "output_type": "stream",
     "text": [
      "The autoreload extension is already loaded. To reload it, use:\n",
      "  %reload_ext autoreload\n"
     ]
    }
   ],
   "execution_count": 71
  },
  {
   "cell_type": "code",
   "id": "6f6a3770-52b2-4ed4-bf88-909605a4e307",
   "metadata": {
    "tags": [],
    "ExecuteTime": {
     "end_time": "2025-02-10T10:18:13.219763Z",
     "start_time": "2025-02-10T10:18:13.197677Z"
    }
   },
   "source": [
    "dev = torch.device(\"cuda\" if torch.cuda.is_available() else \"cpu\")"
   ],
   "outputs": [],
   "execution_count": 72
  },
  {
   "cell_type": "markdown",
   "id": "741b5fac-b987-4788-91d2-1918389fbb38",
   "metadata": {},
   "source": [
    "## Carregamento dos dados"
   ]
  },
  {
   "cell_type": "markdown",
   "id": "4f07e182-b0fe-4469-9304-278ec6033d2c",
   "metadata": {},
   "source": [
    "Os dados são carregados a partir de um arquivo `.h5`:"
   ]
  },
  {
   "cell_type": "code",
   "id": "12173e34-cf50-404b-a0dd-39e273810c2e",
   "metadata": {
    "tags": [],
    "ExecuteTime": {
     "end_time": "2025-02-10T10:18:13.588843Z",
     "start_time": "2025-02-10T10:18:13.570661Z"
    }
   },
   "source": [
    "data_path = '../data/LINCS2020/data_example/processed_data_id.h5'"
   ],
   "outputs": [],
   "execution_count": 73
  },
  {
   "cell_type": "code",
   "id": "81de094c-4fff-47de-81bf-f4ca69884ca1",
   "metadata": {
    "tags": [],
    "ExecuteTime": {
     "end_time": "2025-02-10T10:18:13.744130Z",
     "start_time": "2025-02-10T10:18:13.711532Z"
    }
   },
   "source": [
    "data = load_from_HDF(data_path)"
   ],
   "outputs": [],
   "execution_count": 74
  },
  {
   "cell_type": "code",
   "id": "0ec7069c-fe3b-4a52-8785-6e22f1d320d9",
   "metadata": {
    "tags": [],
    "ExecuteTime": {
     "end_time": "2025-02-10T10:18:13.903054Z",
     "start_time": "2025-02-10T10:18:13.883387Z"
    }
   },
   "source": [
    "cell_count = len(set(data['cid']))\n",
    "feat_type = 'KPGT'\n",
    "batch_size = 64\n",
    "learning_rate = 1e-3\n",
    "beta = 0.1\n",
    "dropout = 0.1\n",
    "weight_decay = 1e-5\n",
    "n_folds = 5\n",
    "random_seed = 364039\n",
    "split_type = 'smiles_split'\n",
    "features_dim = 2304\n",
    "features_embed_dim = [400]\n",
    "n_latent = 100\n",
    "# init_mode = 'pretrain_shRNA'\n",
    "init_mode = 'random'\n",
    "n_epochs = 300\n",
    "molecule_path = '../data/LINCS2020/idx2smi.pickle'"
   ],
   "outputs": [],
   "execution_count": 75
  },
  {
   "cell_type": "code",
   "id": "160ef299-49dc-4693-8f1d-4bf77aeccfe2",
   "metadata": {
    "tags": [],
    "ExecuteTime": {
     "end_time": "2025-02-10T10:18:14.204056Z",
     "start_time": "2025-02-10T10:18:14.187175Z"
    }
   },
   "source": "local_out = './results/trained_models_{}_cell_{}/{}/feature_{}_init_{}/'.format(cell_count, split_type, random_seed, feat_type, init_mode)",
   "outputs": [],
   "execution_count": 76
  },
  {
   "cell_type": "code",
   "id": "a694b540-38aa-4493-bb08-313971d2b725",
   "metadata": {
    "tags": [],
    "ExecuteTime": {
     "end_time": "2025-02-10T10:18:14.862392Z",
     "start_time": "2025-02-10T10:18:14.440953Z"
    }
   },
   "source": [
    "with open(molecule_path, 'rb') as f:\n",
    "    idx2smi = pickle.load(f)"
   ],
   "outputs": [],
   "execution_count": 77
  },
  {
   "cell_type": "markdown",
   "id": "b2a1c83e-df27-4e69-8b9e-5102e676e503",
   "metadata": {},
   "source": [
    "## Divisão de treino e teste"
   ]
  },
  {
   "cell_type": "code",
   "id": "8c2d21ad-e3d6-4c29-b8c4-75df8238c404",
   "metadata": {
    "ExecuteTime": {
     "end_time": "2025-02-10T10:18:15.190158Z",
     "start_time": "2025-02-10T10:18:15.170072Z"
    }
   },
   "source": [
    "pair, pairv, pairt = split_data(data, n_folds=n_folds, split_type=split_type, rnds=random_seed)"
   ],
   "outputs": [],
   "execution_count": 78
  },
  {
   "cell_type": "code",
   "id": "5820a600-8842-4546-8847-7b26bb0844d6",
   "metadata": {
    "tags": [],
    "ExecuteTime": {
     "end_time": "2025-02-10T10:18:16.986177Z",
     "start_time": "2025-02-10T10:18:15.571936Z"
    }
   },
   "source": [
    "train = TranSiGenDataset(\n",
    "    LINCS_index=pair['LINCS_index'],\n",
    "    mol_feature_type=feat_type,\n",
    "    mol_id=pair['canonical_smiles'],\n",
    "    cid=pair['cid']\n",
    ")\n",
    "\n",
    "valid = TranSiGenDataset(\n",
    "    LINCS_index=pairv['LINCS_index'],\n",
    "    mol_feature_type=feat_type,\n",
    "    mol_id=pairv['canonical_smiles'],\n",
    "    cid=pairv['cid']\n",
    ")\n",
    "\n",
    "test = TranSiGenDataset(\n",
    "    LINCS_index=pairt['LINCS_index'],\n",
    "    mol_feature_type=feat_type,\n",
    "    mol_id=pairt['canonical_smiles'],\n",
    "    cid=pairt['cid']\n",
    ")\n",
    "\n",
    "train_loader = torch.utils.data.DataLoader(dataset=train, batch_size=batch_size, shuffle=True, drop_last=False, num_workers=4, worker_init_fn=seed_worker)\n",
    "valid_loader = torch.utils.data.DataLoader(dataset=valid, batch_size=batch_size, shuffle=True, drop_last=False, num_workers=4, worker_init_fn=seed_worker)\n",
    "test_loader = torch.utils.data.DataLoader(dataset=test, batch_size=batch_size, shuffle=True, drop_last=False, num_workers=4, worker_init_fn=seed_worker)"
   ],
   "outputs": [],
   "execution_count": 79
  },
  {
   "cell_type": "markdown",
   "id": "c0c6aef5-5300-44e7-a38c-084f914f4f6c",
   "metadata": {
    "tags": []
   },
   "source": [
    "## Criação do Modelo"
   ]
  },
  {
   "cell_type": "code",
   "id": "cd82803d-58fc-4a3b-8086-2a85c1c5c0d1",
   "metadata": {
    "tags": [],
    "ExecuteTime": {
     "end_time": "2025-02-10T10:18:16.991525Z",
     "start_time": "2025-02-10T10:18:16.989484Z"
    }
   },
   "source": "",
   "outputs": [],
   "execution_count": null
  },
  {
   "metadata": {
    "ExecuteTime": {
     "end_time": "2025-02-10T10:24:59.965309Z",
     "start_time": "2025-02-10T10:24:59.945763Z"
    }
   },
   "cell_type": "code",
   "source": [
    "pbounds = {\n",
    "    'n_latent': (10, 600), # dimensão do espaço latente Z1, Z2\n",
    "    'dropout': (0, 0.9),   # fator de dropout aplicado às redes de enc e dec\n",
    "    'beta': (0, 1),        # hiperparâmetro beta que multiplica o termo KL na loss do VAE\n",
    "    'features_embed_dim': (100, 1000) # dimensão do embedding da molécula dentro da rede\n",
    "}"
   ],
   "id": "31e1a39805c01d0a",
   "outputs": [],
   "execution_count": 89
  },
  {
   "metadata": {
    "ExecuteTime": {
     "end_time": "2025-02-10T10:18:51.944816Z",
     "start_time": "2025-02-10T10:18:51.924470Z"
    }
   },
   "cell_type": "code",
   "source": [
    "def train_model(n_latent, dropout, beta, features_embed_dim):\n",
    "    model = TranSiGen(\n",
    "        n_genes=978,\n",
    "        n_latent=round(n_latent),\n",
    "        n_en_hidden=[1200],\n",
    "        n_de_hidden=[800],\n",
    "        features_dim=features_dim,\n",
    "        features_embed_dim=[round(features_embed_dim)],\n",
    "        init_w=True,\n",
    "        beta=beta,\n",
    "        device=dev,\n",
    "        dropout=dropout,\n",
    "        path_model=f'./results/nl={round(n_latent)}-dp={dropout:.4f}-bt={beta:.4f}-fd={round(features_embed_dim)}--',\n",
    "        random_seed=random_seed\n",
    "    ).to(dev)\n",
    "    \n",
    "    epoch_hist, best_epoch = model.train_model(\n",
    "        train_loader=train_loader,\n",
    "        test_loader=valid_loader,\n",
    "        n_epochs=300,\n",
    "        learning_rate=learning_rate,\n",
    "        weight_decay=weight_decay,\n",
    "        save_model=True,\n",
    "        verbose=False\n",
    "    )\n",
    "    \n",
    "    return -epoch_hist['valid_loss'][best_epoch]"
   ],
   "id": "54ec049f225a5790",
   "outputs": [],
   "execution_count": 84
  },
  {
   "metadata": {
    "ExecuteTime": {
     "end_time": "2025-02-10T10:18:52.279689Z",
     "start_time": "2025-02-10T10:18:52.260060Z"
    }
   },
   "cell_type": "code",
   "source": [
    "optimizer = BayesianOptimization(\n",
    "    f=train_model,\n",
    "    pbounds=pbounds,\n",
    "    random_state=random_seed,\n",
    ")"
   ],
   "id": "e0f240991a4021b8",
   "outputs": [],
   "execution_count": 85
  },
  {
   "metadata": {
    "ExecuteTime": {
     "end_time": "2025-02-10T10:22:38.028534Z",
     "start_time": "2025-02-10T10:18:53.506608Z"
    }
   },
   "cell_type": "code",
   "source": "optimizer.maximize(init_points=0, n_iter=20)",
   "id": "54494b94b138498b",
   "outputs": [
    {
     "name": "stdout",
     "output_type": "stream",
     "text": [
      "|   iter    |  target   |   beta    |  dropout  | featur... | n_latent  |\n",
      "-------------------------------------------------------------------------\n",
      "| \u001B[39m1        \u001B[39m | \u001B[39m-2.82e+05\u001B[39m | \u001B[39m0.4762   \u001B[39m | \u001B[39m0.4715   \u001B[39m | \u001B[39m281.3    \u001B[39m | \u001B[39m78.4     \u001B[39m |\n",
      "| \u001B[39m2        \u001B[39m | \u001B[39m-1.074e+0\u001B[39m | \u001B[39m0.3705   \u001B[39m | \u001B[39m0.806    \u001B[39m | \u001B[39m756.9    \u001B[39m | \u001B[39m56.29    \u001B[39m |\n",
      "| \u001B[35m3        \u001B[39m | \u001B[35m-2.29e+05\u001B[39m | \u001B[35m0.1698   \u001B[39m | \u001B[35m0.03348  \u001B[39m | \u001B[35m131.0    \u001B[39m | \u001B[35m35.97    \u001B[39m |\n",
      "| \u001B[35m4        \u001B[39m | \u001B[35m-4.868e+0\u001B[39m | \u001B[35m0.03253  \u001B[39m | \u001B[35m0.07361  \u001B[39m | \u001B[35m870.3    \u001B[39m | \u001B[35m356.4    \u001B[39m |\n",
      "| \u001B[39m5        \u001B[39m | \u001B[39m-8.212e+0\u001B[39m | \u001B[39m0.9509   \u001B[39m | \u001B[39m0.6447   \u001B[39m | \u001B[39m408.1    \u001B[39m | \u001B[39m112.0    \u001B[39m |\n",
      "| \u001B[39m6        \u001B[39m | \u001B[39m-1.736e+0\u001B[39m | \u001B[39m0.9184   \u001B[39m | \u001B[39m0.2846   \u001B[39m | \u001B[39m283.6    \u001B[39m | \u001B[39m76.26    \u001B[39m |\n",
      "| \u001B[39m7        \u001B[39m | \u001B[39m-2.293e+0\u001B[39m | \u001B[39m0.98     \u001B[39m | \u001B[39m0.1777   \u001B[39m | \u001B[39m292.0    \u001B[39m | \u001B[39m59.47    \u001B[39m |\n",
      "| \u001B[39m8        \u001B[39m | \u001B[39m-9.63e+04\u001B[39m | \u001B[39m0.6663   \u001B[39m | \u001B[39m0.1592   \u001B[39m | \u001B[39m856.1    \u001B[39m | \u001B[39m342.7    \u001B[39m |\n",
      "| \u001B[39m9        \u001B[39m | \u001B[39m-6.173e+0\u001B[39m | \u001B[39m0.5744   \u001B[39m | \u001B[39m0.7689   \u001B[39m | \u001B[39m877.1    \u001B[39m | \u001B[39m334.4    \u001B[39m |\n",
      "| \u001B[39m10       \u001B[39m | \u001B[39m-5.285e+0\u001B[39m | \u001B[39m0.8515   \u001B[39m | \u001B[39m0.1548   \u001B[39m | \u001B[39m898.6    \u001B[39m | \u001B[39m352.8    \u001B[39m |\n",
      "| \u001B[39m11       \u001B[39m | \u001B[39m-1.33e+05\u001B[39m | \u001B[39m0.1172   \u001B[39m | \u001B[39m0.4138   \u001B[39m | \u001B[39m309.0    \u001B[39m | \u001B[39m83.9     \u001B[39m |\n",
      "| \u001B[39m12       \u001B[39m | \u001B[39m-6.409e+0\u001B[39m | \u001B[39m0.4997   \u001B[39m | \u001B[39m0.5235   \u001B[39m | \u001B[39m890.6    \u001B[39m | \u001B[39m377.2    \u001B[39m |\n",
      "| \u001B[35m13       \u001B[39m | \u001B[35m-3.287e+0\u001B[39m | \u001B[35m0.8774   \u001B[39m | \u001B[35m0.4758   \u001B[39m | \u001B[35m861.5    \u001B[39m | \u001B[35m389.7    \u001B[39m |\n",
      "| \u001B[39m14       \u001B[39m | \u001B[39m-6.466e+0\u001B[39m | \u001B[39m0.9209   \u001B[39m | \u001B[39m0.8828   \u001B[39m | \u001B[39m291.2    \u001B[39m | \u001B[39m59.69    \u001B[39m |\n",
      "| \u001B[39m15       \u001B[39m | \u001B[39m-1.318e+0\u001B[39m | \u001B[39m0.2744   \u001B[39m | \u001B[39m0.01616  \u001B[39m | \u001B[39m887.2    \u001B[39m | \u001B[39m198.9    \u001B[39m |\n",
      "=========================================================================\n"
     ]
    }
   ],
   "execution_count": 86
  },
  {
   "metadata": {
    "ExecuteTime": {
     "end_time": "2025-02-10T10:23:23.790701Z",
     "start_time": "2025-02-10T10:23:23.770584Z"
    }
   },
   "cell_type": "code",
   "source": "optimizer.max",
   "id": "440e7a194b03993",
   "outputs": [
    {
     "data": {
      "text/plain": [
       "{'target': np.float64(-32867.381944444445),\n",
       " 'params': {'beta': np.float64(0.8774366769532256),\n",
       "  'dropout': np.float64(0.4757933942453553),\n",
       "  'features_embed_dim': np.float64(861.456427889267),\n",
       "  'n_latent': np.float64(389.6829646566845)}}"
      ]
     },
     "execution_count": 88,
     "metadata": {},
     "output_type": "execute_result"
    }
   ],
   "execution_count": 88
  },
  {
   "cell_type": "markdown",
   "id": "7d100118-bf7f-4fa8-a9d3-823361903d81",
   "metadata": {
    "tags": []
   },
   "source": "## Treinamento do Modelo"
  },
  {
   "cell_type": "code",
   "id": "4c501287-52a3-4329-b504-74c1c07aaa2d",
   "metadata": {
    "tags": [],
    "ExecuteTime": {
     "end_time": "2025-02-10T09:42:44.265989Z",
     "start_time": "2025-02-10T09:41:29.421017Z"
    }
   },
   "source": "",
   "outputs": [
    {
     "name": "stdout",
     "output_type": "stream",
     "text": [
      "[Epoch 0] | loss: 9547.062, mse_x1_rec: 1184.497, mse_x2_rec: 6526.022, mse_pert: 1722.831, kld_x1: 540.982, kld_x2: 237.959, kld_pert: 358.173| valid_loss: 19468.241, valid_mse_x1_rec: 2536.467, valid_mse_x2_rec: 10269.840, valid_mse_pert: 6561.126, valid_kld_x1: 554.529, valid_kld_x2: 209.696, valid_kld_pert: 243.858|\n",
      "[Epoch 1] | loss: 6198.265, mse_x1_rec: 727.863, mse_x2_rec: 4107.647, mse_pert: 1228.547, kld_x1: 615.953, kld_x2: 304.590, kld_pert: 421.532| valid_loss: 10890.234, valid_mse_x1_rec: 728.916, valid_mse_x2_rec: 6721.843, valid_mse_pert: 3322.238, valid_kld_x1: 616.975, valid_kld_x2: 241.538, valid_kld_pert: 313.845|\n",
      "[Epoch 2] | loss: 3106.518, mse_x1_rec: 1169.733, mse_x2_rec: 1014.435, mse_pert: 741.277, kld_x1: 661.501, kld_x2: 467.828, kld_pert: 681.399| valid_loss: 4725.832, valid_mse_x1_rec: 2082.221, valid_mse_x2_rec: 1402.398, valid_mse_pert: 1073.426, valid_kld_x1: 729.651, valid_kld_x2: 372.003, valid_kld_pert: 576.216|\n",
      "[Epoch 3] | loss: 6244.928, mse_x1_rec: 2842.116, mse_x2_rec: 1689.657, mse_pert: 1451.865, kld_x1: 725.671, kld_x2: 585.543, kld_pert: 1301.691| valid_loss: 9288.295, valid_mse_x1_rec: 5569.200, valid_mse_x2_rec: 2457.013, valid_mse_pert: 953.741, valid_kld_x1: 829.485, valid_kld_x2: 538.355, valid_kld_pert: 1715.555|\n",
      "[Epoch 4] | loss: 7771.304, mse_x1_rec: 3171.984, mse_x2_rec: 2928.899, mse_pert: 1379.407, kld_x1: 693.100, kld_x2: 595.996, kld_pert: 1621.055| valid_loss: 10149.090, valid_mse_x1_rec: 4458.010, valid_mse_x2_rec: 4269.954, valid_mse_pert: 971.798, valid_kld_x1: 830.448, valid_kld_x2: 604.353, valid_kld_pert: 3058.487|\n",
      "[Epoch 5] | loss: 6082.703, mse_x1_rec: 2296.534, mse_x2_rec: 2601.538, mse_pert: 912.306, kld_x1: 641.148, kld_x2: 559.434, kld_pert: 1522.672| valid_loss: 6790.336, valid_mse_x1_rec: 1700.199, valid_mse_x2_rec: 3523.718, valid_mse_pert: 1081.803, valid_kld_x1: 787.346, valid_kld_x2: 607.916, valid_kld_pert: 3450.892|\n",
      "[Epoch 6] | loss: 4144.355, mse_x1_rec: 1940.999, mse_x2_rec: 1298.223, mse_pert: 677.027, kld_x1: 599.504, kld_x2: 511.992, kld_pert: 1169.557| valid_loss: 4018.592, valid_mse_x1_rec: 663.076, valid_mse_x2_rec: 1421.957, valid_mse_pert: 1565.812, valid_kld_x1: 757.454, valid_kld_x2: 549.912, valid_kld_pert: 2370.107|\n",
      "[Epoch 7] | loss: 3236.642, mse_x1_rec: 1512.320, mse_x2_rec: 770.408, mse_pert: 762.439, kld_x1: 601.382, kld_x2: 464.255, kld_pert: 849.117| valid_loss: 3676.322, valid_mse_x1_rec: 512.539, valid_mse_x2_rec: 884.039, valid_mse_pert: 2023.455, valid_kld_x1: 757.469, valid_kld_x2: 467.134, valid_kld_pert: 1338.281|\n",
      "[Epoch 8] | loss: 3263.716, mse_x1_rec: 1033.062, mse_x2_rec: 926.677, mse_pert: 1131.028, kld_x1: 632.049, kld_x2: 422.562, kld_pert: 674.873| valid_loss: 4950.463, valid_mse_x1_rec: 578.955, valid_mse_x2_rec: 1904.524, valid_mse_pert: 2265.243, valid_kld_x1: 762.525, valid_kld_x2: 392.964, valid_kld_pert: 861.909|\n",
      "[Epoch 9] | loss: 4081.408, mse_x1_rec: 1062.617, mse_x2_rec: 1168.500, mse_pert: 1676.281, kld_x1: 698.830, kld_x2: 402.077, kld_pert: 639.191| valid_loss: 4983.591, valid_mse_x1_rec: 539.839, valid_mse_x2_rec: 2427.894, valid_mse_pert: 1822.007, valid_kld_x1: 796.298, valid_kld_x2: 360.925, valid_kld_pert: 781.286|\n",
      "[Epoch 10] | loss: 4303.970, mse_x1_rec: 1229.962, mse_x2_rec: 1099.010, mse_pert: 1791.964, kld_x1: 738.095, kld_x2: 423.974, kld_pert: 668.268| valid_loss: 4798.825, valid_mse_x1_rec: 566.545, valid_mse_x2_rec: 2444.595, valid_mse_pert: 1586.795, valid_kld_x1: 818.087, valid_kld_x2: 362.262, valid_kld_pert: 828.557|\n",
      "[Epoch 11] | loss: 3996.177, mse_x1_rec: 1334.567, mse_x2_rec: 827.851, mse_pert: 1634.472, kld_x1: 780.133, kld_x2: 462.657, kld_pert: 750.075| valid_loss: 3975.548, valid_mse_x1_rec: 1107.821, valid_mse_x2_rec: 1460.099, valid_mse_pert: 1181.667, valid_kld_x1: 858.681, valid_kld_x2: 403.814, valid_kld_pert: 997.118|\n",
      "[Epoch 12] | loss: 3844.489, mse_x1_rec: 1416.386, mse_x2_rec: 776.557, mse_pert: 1436.237, kld_x1: 792.470, kld_x2: 509.088, kld_pert: 851.527| valid_loss: 4914.230, valid_mse_x1_rec: 2253.161, valid_mse_x2_rec: 1204.937, valid_mse_pert: 1181.575, valid_kld_x1: 897.616, valid_kld_x2: 483.496, valid_kld_pert: 1364.451|\n",
      "[Epoch 13] | loss: 4675.430, mse_x1_rec: 1847.964, mse_x2_rec: 1310.232, mse_pert: 1290.984, kld_x1: 789.107, kld_x2: 541.031, kld_pert: 932.354| valid_loss: 6489.681, valid_mse_x1_rec: 3242.378, valid_mse_x2_rec: 1788.862, valid_mse_pert: 1136.338, valid_kld_x1: 921.162, valid_kld_x2: 555.953, valid_kld_pert: 1743.917|\n",
      "[Epoch 14] | loss: 4981.093, mse_x1_rec: 2028.276, mse_x2_rec: 1561.788, mse_pert: 1167.940, kld_x1: 782.916, kld_x2: 540.322, kld_pert: 907.647| valid_loss: 6862.760, valid_mse_x1_rec: 3390.554, valid_mse_x2_rec: 2125.155, valid_mse_pert: 1024.063, valid_kld_x1: 910.715, valid_kld_x2: 572.896, valid_kld_pert: 1746.262|\n",
      "[Epoch 15] | loss: 4368.017, mse_x1_rec: 1643.131, mse_x2_rec: 1545.101, mse_pert: 968.299, kld_x1: 756.090, kld_x2: 527.611, kld_pert: 831.162| valid_loss: 5687.792, valid_mse_x1_rec: 2319.083, valid_mse_x2_rec: 2155.006, valid_mse_pert: 905.637, valid_kld_x1: 858.785, valid_kld_x2: 573.203, valid_kld_pert: 1648.672|\n",
      "[Epoch 16] | loss: 3228.588, mse_x1_rec: 943.383, mse_x2_rec: 1358.122, mse_pert: 729.872, kld_x1: 720.448, kld_x2: 518.942, kld_pert: 732.710| valid_loss: 4061.207, valid_mse_x1_rec: 989.963, valid_mse_x2_rec: 1649.725, valid_mse_pert: 1140.669, valid_kld_x1: 779.549, valid_kld_x2: 556.727, valid_kld_pert: 1472.227|\n",
      "[Epoch 17] | loss: 2434.298, mse_x1_rec: 550.001, mse_x2_rec: 1024.523, mse_pert: 665.209, kld_x1: 716.735, kld_x2: 526.520, kld_pert: 702.405| valid_loss: 3900.527, valid_mse_x1_rec: 584.412, valid_mse_x2_rec: 1329.079, valid_mse_pert: 1719.808, valid_kld_x1: 725.907, valid_kld_x2: 542.760, valid_kld_pert: 1403.616|\n",
      "[Epoch 18] | loss: 2280.818, mse_x1_rec: 516.045, mse_x2_rec: 865.789, mse_pert: 707.077, kld_x1: 718.386, kld_x2: 534.744, kld_pert: 665.943| valid_loss: 4205.668, valid_mse_x1_rec: 573.332, valid_mse_x2_rec: 1197.295, valid_mse_pert: 2188.865, valid_kld_x1: 702.975, valid_kld_x2: 523.054, valid_kld_pert: 1235.738|\n",
      "[Epoch 19] | loss: 2494.141, mse_x1_rec: 539.596, mse_x2_rec: 1027.363, mse_pert: 734.532, kld_x1: 730.414, kld_x2: 546.909, kld_pert: 649.171| valid_loss: 3806.148, valid_mse_x1_rec: 626.655, valid_mse_x2_rec: 845.258, valid_mse_pert: 2112.810, valid_kld_x1: 717.382, valid_kld_x2: 493.676, valid_kld_pert: 1003.195|\n",
      "[Epoch 20] | loss: 3005.473, mse_x1_rec: 576.175, mse_x2_rec: 1485.017, mse_pert: 741.584, kld_x1: 747.458, kld_x2: 570.705, kld_pert: 708.803| valid_loss: 3635.874, valid_mse_x1_rec: 680.615, valid_mse_x2_rec: 948.920, valid_mse_pert: 1780.910, valid_kld_x1: 765.281, valid_kld_x2: 492.421, valid_kld_pert: 996.581|\n",
      "[Epoch 21] | loss: 3380.054, mse_x1_rec: 698.084, mse_x2_rec: 1727.574, mse_pert: 745.902, kld_x1: 762.921, kld_x2: 580.530, kld_pert: 741.484| valid_loss: 3669.997, valid_mse_x1_rec: 811.036, valid_mse_x2_rec: 1058.642, valid_mse_pert: 1571.898, valid_kld_x1: 804.428, valid_kld_x2: 485.486, valid_kld_pert: 994.292|\n",
      "[Epoch 22] | loss: 3416.514, mse_x1_rec: 875.786, mse_x2_rec: 1571.912, mse_pert: 764.264, kld_x1: 775.940, kld_x2: 574.782, kld_pert: 694.800| valid_loss: 4005.628, valid_mse_x1_rec: 1065.933, valid_mse_x2_rec: 1175.908, valid_mse_pert: 1534.269, valid_kld_x1: 836.559, valid_kld_x2: 479.857, valid_kld_pert: 978.772|\n",
      "[Epoch 23] | loss: 2873.192, mse_x1_rec: 911.807, mse_x2_rec: 1069.727, mse_pert: 703.853, kld_x1: 779.599, kld_x2: 546.948, kld_pert: 551.504| valid_loss: 3958.865, valid_mse_x1_rec: 1131.815, valid_mse_x2_rec: 1202.974, valid_mse_pert: 1403.307, valid_kld_x1: 838.909, valid_kld_x2: 469.567, valid_kld_pert: 899.210|\n",
      "[Epoch 24] | loss: 2521.540, mse_x1_rec: 836.423, mse_x2_rec: 902.925, mse_pert: 609.690, kld_x1: 763.374, kld_x2: 505.410, kld_pert: 456.229| valid_loss: 3683.246, valid_mse_x1_rec: 981.706, valid_mse_x2_rec: 1179.623, valid_mse_pert: 1307.354, valid_kld_x1: 815.616, valid_kld_x2: 466.091, valid_kld_pert: 863.926|\n",
      "[Epoch 25] | loss: 2398.799, mse_x1_rec: 706.384, mse_x2_rec: 1014.112, mse_pert: 514.434, kld_x1: 740.984, kld_x2: 478.806, kld_pert: 418.893| valid_loss: 3502.231, valid_mse_x1_rec: 724.365, valid_mse_x2_rec: 1035.779, valid_mse_pert: 1538.858, valid_kld_x1: 774.812, valid_kld_x2: 451.178, valid_kld_pert: 806.305|\n",
      "[Epoch 26] | loss: 2590.919, mse_x1_rec: 739.341, mse_x2_rec: 1196.405, mse_pert: 495.101, kld_x1: 726.277, kld_x2: 461.985, kld_pert: 412.458| valid_loss: 3061.401, valid_mse_x1_rec: 641.066, valid_mse_x2_rec: 840.628, valid_mse_pert: 1379.861, valid_kld_x1: 764.180, valid_kld_x2: 446.867, valid_kld_pert: 787.420|\n",
      "[Epoch 27] | loss: 2509.356, mse_x1_rec: 752.157, mse_x2_rec: 1118.698, mse_pert: 482.830, kld_x1: 705.313, kld_x2: 454.084, kld_pert: 397.319| valid_loss: 2995.533, valid_mse_x1_rec: 539.022, valid_mse_x2_rec: 707.724, valid_mse_pert: 1556.650, valid_kld_x1: 741.861, valid_kld_x2: 438.398, valid_kld_pert: 741.100|\n",
      "[Epoch 28] | loss: 2864.582, mse_x1_rec: 1100.458, mse_x2_rec: 1072.538, mse_pert: 542.298, kld_x1: 670.429, kld_x2: 445.529, kld_pert: 376.937| valid_loss: 2882.677, valid_mse_x1_rec: 501.769, valid_mse_x2_rec: 630.109, valid_mse_pert: 1567.630, valid_kld_x1: 722.878, valid_kld_x2: 427.216, valid_kld_pert: 681.598|\n",
      "[Epoch 29] | loss: 3225.807, mse_x1_rec: 1468.893, mse_x2_rec: 1012.864, mse_pert: 601.122, kld_x1: 642.915, kld_x2: 432.380, kld_pert: 353.991| valid_loss: 2846.800, valid_mse_x1_rec: 498.713, valid_mse_x2_rec: 537.159, valid_mse_pert: 1638.511, valid_kld_x1: 711.358, valid_kld_x2: 412.801, valid_kld_pert: 600.000|\n",
      "[Epoch 30] | loss: 3504.259, mse_x1_rec: 1681.778, mse_x2_rec: 1028.001, mse_pert: 653.588, kld_x1: 634.445, kld_x2: 431.241, kld_pert: 343.228| valid_loss: 2778.354, valid_mse_x1_rec: 500.263, valid_mse_x2_rec: 594.994, valid_mse_pert: 1520.161, valid_kld_x1: 707.302, valid_kld_x2: 397.303, valid_kld_pert: 524.761|\n",
      "[Epoch 31] | loss: 3662.437, mse_x1_rec: 1888.671, mse_x2_rec: 927.190, mse_pert: 706.996, kld_x1: 633.674, kld_x2: 429.810, kld_pert: 332.318| valid_loss: 2747.689, valid_mse_x1_rec: 538.487, valid_mse_x2_rec: 602.546, valid_mse_pert: 1447.293, valid_kld_x1: 719.009, valid_kld_x2: 390.904, valid_kld_pert: 483.715|\n",
      "[Epoch 32] | loss: 3646.969, mse_x1_rec: 1677.049, mse_x2_rec: 1134.005, mse_pert: 697.217, kld_x1: 645.757, kld_x2: 424.684, kld_pert: 316.542| valid_loss: 2855.022, valid_mse_x1_rec: 559.693, valid_mse_x2_rec: 674.529, valid_mse_pert: 1461.520, valid_kld_x1: 724.959, valid_kld_x2: 391.865, valid_kld_pert: 475.961|\n",
      "[Epoch 33] | loss: 3387.406, mse_x1_rec: 1336.374, mse_x2_rec: 1285.645, mse_pert: 627.747, kld_x1: 652.874, kld_x2: 418.065, kld_pert: 305.455| valid_loss: 2732.349, valid_mse_x1_rec: 484.005, valid_mse_x2_rec: 655.679, valid_mse_pert: 1436.524, valid_kld_x1: 709.952, valid_kld_x2: 389.985, valid_kld_pert: 461.482|\n",
      "[Epoch 34] | loss: 2758.316, mse_x1_rec: 876.375, mse_x2_rec: 1215.230, mse_pert: 527.097, kld_x1: 666.560, kld_x2: 420.013, kld_pert: 309.566| valid_loss: 2911.668, valid_mse_x1_rec: 397.155, valid_mse_x2_rec: 729.368, valid_mse_pert: 1627.217, valid_kld_x1: 693.726, valid_kld_x2: 395.341, valid_kld_pert: 490.206|\n",
      "[Epoch 35] | loss: 2506.505, mse_x1_rec: 650.516, mse_x2_rec: 1230.066, mse_pert: 482.069, kld_x1: 683.119, kld_x2: 430.393, kld_pert: 325.028| valid_loss: 2931.862, valid_mse_x1_rec: 377.370, valid_mse_x2_rec: 711.161, valid_mse_pert: 1679.953, valid_kld_x1: 686.687, valid_kld_x2: 405.573, valid_kld_pert: 541.512|\n",
      "[Epoch 36] | loss: 2318.855, mse_x1_rec: 491.068, mse_x2_rec: 1239.016, mse_pert: 441.928, kld_x1: 696.833, kld_x2: 428.025, kld_pert: 343.571| valid_loss: 2986.245, valid_mse_x1_rec: 382.402, valid_mse_x2_rec: 701.672, valid_mse_pert: 1732.951, valid_kld_x1: 682.639, valid_kld_x2: 414.197, valid_kld_pert: 595.360|\n",
      "[Epoch 37] | loss: 2133.174, mse_x1_rec: 467.692, mse_x2_rec: 1078.053, mse_pert: 440.882, kld_x1: 689.584, kld_x2: 431.786, kld_pert: 344.102| valid_loss: 2968.164, valid_mse_x1_rec: 399.908, valid_mse_x2_rec: 708.766, valid_mse_pert: 1688.634, valid_kld_x1: 671.496, valid_kld_x2: 420.605, valid_kld_pert: 616.451|\n",
      "[Epoch 38] | loss: 1974.949, mse_x1_rec: 503.849, mse_x2_rec: 885.586, mse_pert: 440.325, kld_x1: 684.792, kld_x2: 435.781, kld_pert: 331.315| valid_loss: 2976.806, valid_mse_x1_rec: 423.974, valid_mse_x2_rec: 622.906, valid_mse_pert: 1760.951, valid_kld_x1: 671.422, valid_kld_x2: 417.598, valid_kld_pert: 600.734|\n",
      "[Epoch 39] | loss: 1798.419, mse_x1_rec: 538.940, mse_x2_rec: 674.575, mse_pert: 439.473, kld_x1: 692.394, kld_x2: 445.222, kld_pert: 316.685| valid_loss: 2708.283, valid_mse_x1_rec: 512.543, valid_mse_x2_rec: 517.035, valid_mse_pert: 1512.467, valid_kld_x1: 686.960, valid_kld_x2: 412.690, valid_kld_pert: 562.723|\n",
      "[Epoch 40] | loss: 1743.477, mse_x1_rec: 528.528, mse_x2_rec: 615.129, mse_pert: 455.397, kld_x1: 689.472, kld_x2: 445.051, kld_pert: 309.710| valid_loss: 2812.174, valid_mse_x1_rec: 528.039, valid_mse_x2_rec: 541.165, valid_mse_pert: 1583.216, valid_kld_x1: 681.749, valid_kld_x2: 402.217, valid_kld_pert: 513.569|\n",
      "[Epoch 41] | loss: 1668.340, mse_x1_rec: 527.227, mse_x2_rec: 543.035, mse_pert: 453.786, kld_x1: 684.669, kld_x2: 445.918, kld_pert: 312.336| valid_loss: 2983.659, valid_mse_x1_rec: 544.843, valid_mse_x2_rec: 520.749, valid_mse_pert: 1760.902, valid_kld_x1: 681.168, valid_kld_x2: 395.528, valid_kld_pert: 494.957|\n",
      "[Epoch 42] | loss: 1722.382, mse_x1_rec: 559.513, mse_x2_rec: 573.935, mse_pert: 444.002, kld_x1: 690.293, kld_x2: 439.933, kld_pert: 319.091| valid_loss: 3215.149, valid_mse_x1_rec: 555.043, valid_mse_x2_rec: 644.145, valid_mse_pert: 1861.173, valid_kld_x1: 692.879, valid_kld_x2: 387.067, valid_kld_pert: 467.936|\n",
      "[Epoch 43] | loss: 1969.666, mse_x1_rec: 632.560, mse_x2_rec: 744.896, mse_pert: 447.984, kld_x1: 687.354, kld_x2: 427.355, kld_pert: 327.543| valid_loss: 3079.124, valid_mse_x1_rec: 524.059, valid_mse_x2_rec: 648.718, valid_mse_pert: 1750.480, valid_kld_x1: 698.812, valid_kld_x2: 385.141, valid_kld_pert: 474.715|\n",
      "[Epoch 44] | loss: 2022.894, mse_x1_rec: 656.542, mse_x2_rec: 781.050, mse_pert: 439.240, kld_x1: 692.335, kld_x2: 427.187, kld_pert: 341.094| valid_loss: 2996.916, valid_mse_x1_rec: 507.730, valid_mse_x2_rec: 740.147, valid_mse_pert: 1588.949, valid_kld_x1: 712.732, valid_kld_x2: 385.920, valid_kld_pert: 502.249|\n",
      "[Epoch 45] | loss: 1778.506, mse_x1_rec: 612.593, mse_x2_rec: 571.476, mse_pert: 443.738, kld_x1: 707.226, kld_x2: 442.636, kld_pert: 357.123| valid_loss: 2728.738, valid_mse_x1_rec: 509.680, valid_mse_x2_rec: 611.643, valid_mse_pert: 1441.137, valid_kld_x1: 732.452, valid_kld_x2: 392.141, valid_kld_pert: 538.181|\n",
      "[Epoch 46] | loss: 1645.721, mse_x1_rec: 557.885, mse_x2_rec: 489.026, mse_pert: 443.674, kld_x1: 714.533, kld_x2: 471.154, kld_pert: 365.680| valid_loss: 2607.808, valid_mse_x1_rec: 481.467, valid_mse_x2_rec: 586.104, valid_mse_pert: 1363.886, valid_kld_x1: 735.136, valid_kld_x2: 410.518, valid_kld_pert: 617.862|\n",
      "[Epoch 47] | loss: 1626.664, mse_x1_rec: 574.378, mse_x2_rec: 471.355, mse_pert: 422.796, kld_x1: 712.756, kld_x2: 493.240, kld_pert: 375.348| valid_loss: 2631.140, valid_mse_x1_rec: 453.862, valid_mse_x2_rec: 595.455, valid_mse_pert: 1397.249, valid_kld_x1: 731.673, valid_kld_x2: 422.798, valid_kld_pert: 691.270|\n",
      "[Epoch 48] | loss: 1813.939, mse_x1_rec: 696.990, mse_x2_rec: 521.984, mse_pert: 434.469, kld_x1: 709.550, kld_x2: 505.516, kld_pert: 389.897| valid_loss: 2688.254, valid_mse_x1_rec: 518.525, valid_mse_x2_rec: 617.202, valid_mse_pert: 1367.137, valid_kld_x1: 731.379, valid_kld_x2: 419.755, valid_kld_pert: 702.769|\n",
      "[Epoch 49] | loss: 1800.897, mse_x1_rec: 720.785, mse_x2_rec: 477.719, mse_pert: 441.932, kld_x1: 698.928, kld_x2: 509.783, kld_pert: 395.897| valid_loss: 2880.001, valid_mse_x1_rec: 534.630, valid_mse_x2_rec: 558.724, valid_mse_pert: 1598.558, valid_kld_x1: 716.556, valid_kld_x2: 421.463, valid_kld_pert: 742.874|\n",
      "[Epoch 50] | loss: 1707.307, mse_x1_rec: 652.480, mse_x2_rec: 446.538, mse_pert: 449.741, kld_x1: 688.017, kld_x2: 505.340, kld_pert: 392.115| valid_loss: 3036.455, valid_mse_x1_rec: 533.375, valid_mse_x2_rec: 518.990, valid_mse_pert: 1791.844, valid_kld_x1: 705.105, valid_kld_x2: 423.138, valid_kld_pert: 794.225|\n",
      "[Epoch 51] | loss: 1750.893, mse_x1_rec: 669.113, mse_x2_rec: 437.055, mse_pert: 488.824, kld_x1: 673.314, kld_x2: 494.369, kld_pert: 391.324| valid_loss: 2930.250, valid_mse_x1_rec: 553.221, valid_mse_x2_rec: 603.210, valid_mse_pert: 1575.151, valid_kld_x1: 693.368, valid_kld_x2: 426.662, valid_kld_pert: 866.652|\n",
      "[Epoch 52] | loss: 2026.990, mse_x1_rec: 842.229, mse_x2_rec: 473.622, mse_pert: 558.234, kld_x1: 661.663, kld_x2: 479.105, kld_pert: 388.286| valid_loss: 2840.878, valid_mse_x1_rec: 524.919, valid_mse_x2_rec: 718.695, valid_mse_pert: 1392.107, valid_kld_x1: 701.267, valid_kld_x2: 429.365, valid_kld_pert: 920.936|\n",
      "[Epoch 53] | loss: 2343.627, mse_x1_rec: 1018.194, mse_x2_rec: 542.463, mse_pert: 635.058, kld_x1: 648.921, kld_x2: 457.947, kld_pert: 372.245| valid_loss: 2597.073, valid_mse_x1_rec: 518.001, valid_mse_x2_rec: 685.378, valid_mse_pert: 1190.886, valid_kld_x1: 708.091, valid_kld_x2: 421.113, valid_kld_pert: 898.875|\n",
      "[Epoch 54] | loss: 2615.371, mse_x1_rec: 1241.779, mse_x2_rec: 494.007, mse_pert: 731.666, kld_x1: 644.473, kld_x2: 451.499, kld_pert: 383.221| valid_loss: 2463.771, valid_mse_x1_rec: 548.959, valid_mse_x2_rec: 666.072, valid_mse_pert: 1049.744, valid_kld_x1: 729.231, valid_kld_x2: 408.466, valid_kld_pert: 852.267|\n",
      "[Epoch 55] | loss: 2738.579, mse_x1_rec: 1387.900, mse_x2_rec: 452.274, mse_pert: 752.040, kld_x1: 638.109, kld_x2: 445.681, kld_pert: 379.861| valid_loss: 2497.748, valid_mse_x1_rec: 628.405, valid_mse_x2_rec: 628.906, valid_mse_pert: 1049.883, valid_kld_x1: 732.665, valid_kld_x2: 394.504, valid_kld_pert: 778.373|\n",
      "[Epoch 56] | loss: 2578.588, mse_x1_rec: 1278.728, mse_x2_rec: 442.790, mse_pert: 714.717, kld_x1: 618.220, kld_x2: 445.376, kld_pert: 359.926| valid_loss: 2653.009, valid_mse_x1_rec: 495.447, valid_mse_x2_rec: 682.189, valid_mse_pert: 1297.019, valid_kld_x1: 692.332, valid_kld_x2: 389.104, valid_kld_pert: 702.106|\n",
      "[Epoch 57] | loss: 2481.250, mse_x1_rec: 1145.196, mse_x2_rec: 525.639, mse_pert: 667.572, kld_x1: 614.135, kld_x2: 455.388, kld_pert: 358.907| valid_loss: 2710.938, valid_mse_x1_rec: 468.434, valid_mse_x2_rec: 704.716, valid_mse_pert: 1361.760, valid_kld_x1: 662.695, valid_kld_x2: 399.187, valid_kld_pert: 698.409|\n",
      "[Epoch 58] | loss: 2525.206, mse_x1_rec: 1048.511, mse_x2_rec: 731.365, mse_pert: 599.509, kld_x1: 618.741, kld_x2: 463.886, kld_pert: 375.592| valid_loss: 2926.398, valid_mse_x1_rec: 471.583, valid_mse_x2_rec: 824.971, valid_mse_pert: 1447.272, valid_kld_x1: 651.161, valid_kld_x2: 419.143, valid_kld_pert: 755.403|\n",
      "[Epoch 59] | loss: 2566.042, mse_x1_rec: 978.322, mse_x2_rec: 882.386, mse_pert: 557.706, kld_x1: 628.990, kld_x2: 464.997, kld_pert: 382.290| valid_loss: 2940.540, valid_mse_x1_rec: 521.857, valid_mse_x2_rec: 865.798, valid_mse_pert: 1362.153, valid_kld_x1: 662.125, valid_kld_x2: 437.032, valid_kld_pert: 808.161|\n",
      "[Epoch 60] | loss: 2601.683, mse_x1_rec: 987.944, mse_x2_rec: 914.380, mse_pert: 552.934, kld_x1: 627.920, kld_x2: 456.344, kld_pert: 379.975| valid_loss: 3090.765, valid_mse_x1_rec: 624.448, valid_mse_x2_rec: 855.956, valid_mse_pert: 1418.874, valid_kld_x1: 662.664, valid_kld_x2: 442.185, valid_kld_pert: 810.022|\n",
      "[Epoch 61] | loss: 2697.472, mse_x1_rec: 1028.078, mse_x2_rec: 951.941, mse_pert: 571.966, kld_x1: 623.482, kld_x2: 450.877, kld_pert: 380.518| valid_loss: 3082.091, valid_mse_x1_rec: 553.299, valid_mse_x2_rec: 851.439, valid_mse_pert: 1479.232, valid_kld_x1: 665.155, valid_kld_x2: 450.192, valid_kld_pert: 865.860|\n",
      "[Epoch 62] | loss: 2761.893, mse_x1_rec: 974.683, mse_x2_rec: 1059.737, mse_pert: 585.345, kld_x1: 610.249, kld_x2: 444.196, kld_pert: 366.836| valid_loss: 3190.934, valid_mse_x1_rec: 476.518, valid_mse_x2_rec: 758.769, valid_mse_pert: 1750.817, valid_kld_x1: 653.294, valid_kld_x2: 456.467, valid_kld_pert: 938.538|\n",
      "[Epoch 63] | loss: 2516.528, mse_x1_rec: 782.526, mse_x2_rec: 1030.546, mse_pert: 566.002, kld_x1: 613.574, kld_x2: 427.019, kld_pert: 333.940| valid_loss: 3084.262, valid_mse_x1_rec: 485.793, valid_mse_x2_rec: 641.363, valid_mse_pert: 1765.563, valid_kld_x1: 645.069, valid_kld_x2: 437.450, valid_kld_pert: 832.909|\n",
      "[Epoch 64] | loss: 2053.709, mse_x1_rec: 559.916, mse_x2_rec: 842.612, mse_pert: 516.751, kld_x1: 616.024, kld_x2: 422.460, kld_pert: 305.827| valid_loss: 3446.493, valid_mse_x1_rec: 511.655, valid_mse_x2_rec: 536.813, valid_mse_pert: 2221.682, valid_kld_x1: 616.317, valid_kld_x2: 414.655, valid_kld_pert: 732.455|\n",
      "[Epoch 65] | loss: 1673.955, mse_x1_rec: 397.801, mse_x2_rec: 684.712, mse_pert: 456.828, kld_x1: 624.333, kld_x2: 420.622, kld_pert: 301.187| valid_loss: 4021.350, valid_mse_x1_rec: 667.645, valid_mse_x2_rec: 581.364, valid_mse_pert: 2607.393, valid_kld_x1: 582.480, valid_kld_x2: 396.373, valid_kld_pert: 670.629|\n",
      "[Epoch 66] | loss: 1500.368, mse_x1_rec: 366.713, mse_x2_rec: 568.755, mse_pert: 429.932, kld_x1: 638.863, kld_x2: 419.052, kld_pert: 291.767| valid_loss: 4058.821, valid_mse_x1_rec: 727.649, valid_mse_x2_rec: 718.367, valid_mse_pert: 2458.768, valid_kld_x1: 575.808, valid_kld_x2: 375.013, valid_kld_pert: 589.550|\n",
      "[Epoch 67] | loss: 1415.223, mse_x1_rec: 352.121, mse_x2_rec: 503.741, mse_pert: 423.988, kld_x1: 641.291, kld_x2: 421.573, kld_pert: 290.865| valid_loss: 4181.286, valid_mse_x1_rec: 656.272, valid_mse_x2_rec: 860.740, valid_mse_pert: 2512.984, valid_kld_x1: 574.760, valid_kld_x2: 365.243, valid_kld_pert: 572.887|\n",
      "[Epoch 68] | loss: 1315.018, mse_x1_rec: 322.968, mse_x2_rec: 456.166, mse_pert: 400.555, kld_x1: 645.804, kld_x2: 420.827, kld_pert: 286.657| valid_loss: 3480.739, valid_mse_x1_rec: 538.653, valid_mse_x2_rec: 925.702, valid_mse_pert: 1866.922, valid_kld_x1: 593.162, valid_kld_x2: 357.727, valid_kld_pert: 543.728|\n",
      "[Epoch 69] | loss: 1399.855, mse_x1_rec: 332.270, mse_x2_rec: 511.186, mse_pert: 421.395, kld_x1: 648.208, kld_x2: 416.362, kld_pert: 285.471| valid_loss: 2763.668, valid_mse_x1_rec: 406.172, valid_mse_x2_rec: 815.388, valid_mse_pert: 1390.082, valid_kld_x1: 623.339, valid_kld_x2: 355.736, valid_kld_pert: 541.197|\n",
      "[Epoch 70] | loss: 1681.538, mse_x1_rec: 468.224, mse_x2_rec: 609.143, mse_pert: 467.085, kld_x1: 657.834, kld_x2: 416.828, kld_pert: 296.201| valid_loss: 2612.208, valid_mse_x1_rec: 436.530, valid_mse_x2_rec: 778.069, valid_mse_pert: 1239.213, valid_kld_x1: 653.009, valid_kld_x2: 360.182, valid_kld_pert: 570.762|\n",
      "[Epoch 71] | loss: 1838.995, mse_x1_rec: 584.874, mse_x2_rec: 597.119, mse_pert: 520.199, kld_x1: 648.644, kld_x2: 423.438, kld_pert: 295.953| valid_loss: 2576.154, valid_mse_x1_rec: 484.495, valid_mse_x2_rec: 705.772, valid_mse_pert: 1220.211, valid_kld_x1: 647.914, valid_kld_x2: 376.571, valid_kld_pert: 632.280|\n",
      "[Epoch 72] | loss: 2069.376, mse_x1_rec: 636.904, mse_x2_rec: 712.100, mse_pert: 585.488, kld_x1: 629.864, kld_x2: 425.493, kld_pert: 293.486| valid_loss: 2601.967, valid_mse_x1_rec: 468.846, valid_mse_x2_rec: 628.336, valid_mse_pert: 1332.003, valid_kld_x1: 633.431, valid_kld_x2: 391.834, valid_kld_pert: 702.551|\n",
      "[Epoch 73] | loss: 2117.026, mse_x1_rec: 617.322, mse_x2_rec: 760.949, mse_pert: 604.463, kld_x1: 615.730, kld_x2: 428.899, kld_pert: 298.287| valid_loss: 2741.850, valid_mse_x1_rec: 437.641, valid_mse_x2_rec: 669.457, valid_mse_pert: 1452.465, valid_kld_x1: 621.592, valid_kld_x2: 406.720, valid_kld_pert: 794.571|\n",
      "[Epoch 74] | loss: 2064.644, mse_x1_rec: 557.416, mse_x2_rec: 778.660, mse_pert: 593.614, kld_x1: 612.889, kld_x2: 437.484, kld_pert: 299.168| valid_loss: 2878.277, valid_mse_x1_rec: 419.329, valid_mse_x2_rec: 737.054, valid_mse_pert: 1533.444, valid_kld_x1: 613.874, valid_kld_x2: 413.478, valid_kld_pert: 857.160|\n",
      "[Epoch 75] | loss: 1868.739, mse_x1_rec: 426.753, mse_x2_rec: 816.543, mse_pert: 487.713, kld_x1: 616.902, kld_x2: 445.978, kld_pert: 314.421| valid_loss: 3103.760, valid_mse_x1_rec: 393.184, valid_mse_x2_rec: 780.365, valid_mse_pert: 1730.566, valid_kld_x1: 606.870, valid_kld_x2: 423.244, valid_kld_pert: 966.342|\n",
      "[Epoch 76] | loss: 1530.909, mse_x1_rec: 343.737, mse_x2_rec: 638.040, mse_pert: 410.176, kld_x1: 621.069, kld_x2: 453.026, kld_pert: 315.458| valid_loss: 3121.546, valid_mse_x1_rec: 397.152, valid_mse_x2_rec: 764.557, valid_mse_pert: 1756.493, valid_kld_x1: 595.099, valid_kld_x2: 425.690, valid_kld_pert: 1012.652|\n",
      "[Epoch 77] | loss: 1339.201, mse_x1_rec: 346.029, mse_x2_rec: 452.526, mse_pert: 403.370, kld_x1: 621.444, kld_x2: 448.134, kld_pert: 303.175| valid_loss: 3437.846, valid_mse_x1_rec: 485.003, valid_mse_x2_rec: 625.967, valid_mse_pert: 2132.976, valid_kld_x1: 578.149, valid_kld_x2: 415.094, valid_kld_pert: 945.759|\n",
      "[Epoch 78] | loss: 1202.006, mse_x1_rec: 328.150, mse_x2_rec: 353.725, mse_pert: 384.075, kld_x1: 619.156, kld_x2: 448.558, kld_pert: 292.852| valid_loss: 3349.179, valid_mse_x1_rec: 504.972, valid_mse_x2_rec: 561.919, valid_mse_pert: 2100.905, valid_kld_x1: 565.599, valid_kld_x2: 399.120, valid_kld_pert: 849.111|\n",
      "[Epoch 79] | loss: 1371.253, mse_x1_rec: 387.600, mse_x2_rec: 407.092, mse_pert: 440.668, kld_x1: 612.322, kld_x2: 445.621, kld_pert: 300.985| valid_loss: 3141.282, valid_mse_x1_rec: 543.199, valid_mse_x2_rec: 549.418, valid_mse_pert: 1874.617, valid_kld_x1: 553.708, valid_kld_x2: 387.503, valid_kld_pert: 799.266|\n",
      "[Epoch 80] | loss: 1572.703, mse_x1_rec: 508.711, mse_x2_rec: 410.862, mse_pert: 516.728, kld_x1: 604.647, kld_x2: 445.324, kld_pert: 314.045| valid_loss: 3284.960, valid_mse_x1_rec: 640.342, valid_mse_x2_rec: 593.991, valid_mse_pert: 1876.332, valid_kld_x1: 550.673, valid_kld_x2: 384.788, valid_kld_pert: 807.484|\n",
      "[Epoch 81] | loss: 1676.321, mse_x1_rec: 578.919, mse_x2_rec: 417.508, mse_pert: 542.741, kld_x1: 610.978, kld_x2: 443.264, kld_pert: 317.282| valid_loss: 3185.492, valid_mse_x1_rec: 619.883, valid_mse_x2_rec: 561.632, valid_mse_pert: 1829.421, valid_kld_x1: 564.236, valid_kld_x2: 381.940, valid_kld_pert: 799.387|\n",
      "[Epoch 82] | loss: 1505.299, mse_x1_rec: 517.503, mse_x2_rec: 365.218, mse_pert: 484.392, kld_x1: 623.665, kld_x2: 445.150, kld_pert: 313.042| valid_loss: 3293.672, valid_mse_x1_rec: 573.638, valid_mse_x2_rec: 628.645, valid_mse_pert: 1913.975, valid_kld_x1: 579.228, valid_kld_x2: 386.823, valid_kld_pert: 808.090|\n",
      "[Epoch 83] | loss: 1413.880, mse_x1_rec: 447.403, mse_x2_rec: 382.548, mse_pert: 442.760, kld_x1: 642.485, kld_x2: 450.465, kld_pert: 318.734| valid_loss: 3174.446, valid_mse_x1_rec: 490.831, valid_mse_x2_rec: 605.011, valid_mse_pert: 1888.305, valid_kld_x1: 608.878, valid_kld_x2: 403.685, valid_kld_pert: 890.432|\n",
      "[Epoch 84] | loss: 1382.382, mse_x1_rec: 379.128, mse_x2_rec: 468.849, mse_pert: 387.277, kld_x1: 673.833, kld_x2: 459.843, kld_pert: 337.614| valid_loss: 2824.969, valid_mse_x1_rec: 395.727, valid_mse_x2_rec: 628.746, valid_mse_pert: 1597.775, valid_kld_x1: 650.800, valid_kld_x2: 414.770, valid_kld_pert: 961.648|\n",
      "[Epoch 85] | loss: 1397.813, mse_x1_rec: 394.965, mse_x2_rec: 485.275, mse_pert: 368.885, kld_x1: 685.876, kld_x2: 458.877, kld_pert: 342.124| valid_loss: 2631.688, valid_mse_x1_rec: 376.649, valid_mse_x2_rec: 723.649, valid_mse_pert: 1327.561, valid_kld_x1: 679.002, valid_kld_x2: 416.610, valid_kld_pert: 942.689|\n",
      "[Epoch 86] | loss: 1411.693, mse_x1_rec: 459.024, mse_x2_rec: 444.852, mse_pert: 361.635, kld_x1: 682.470, kld_x2: 455.259, kld_pert: 324.090| valid_loss: 2434.722, valid_mse_x1_rec: 410.775, valid_mse_x2_rec: 626.824, valid_mse_pert: 1200.547, valid_kld_x1: 691.596, valid_kld_x2: 407.750, valid_kld_pert: 866.407|\n",
      "[Epoch 87] | loss: 1513.629, mse_x1_rec: 533.590, mse_x2_rec: 423.384, mse_pert: 413.921, kld_x1: 676.027, kld_x2: 445.013, kld_pert: 306.296| valid_loss: 2303.269, valid_mse_x1_rec: 487.116, valid_mse_x2_rec: 584.976, valid_mse_pert: 1043.139, valid_kld_x1: 691.075, valid_kld_x2: 396.641, valid_kld_pert: 792.663|\n",
      "[Epoch 88] | loss: 1731.642, mse_x1_rec: 667.305, mse_x2_rec: 416.325, mse_pert: 507.418, kld_x1: 668.468, kld_x2: 434.827, kld_pert: 302.655| valid_loss: 2350.186, valid_mse_x1_rec: 665.946, valid_mse_x2_rec: 596.994, valid_mse_pert: 905.337, valid_kld_x1: 695.048, valid_kld_x2: 387.763, valid_kld_pert: 736.272|\n",
      "[Epoch 89] | loss: 1927.518, mse_x1_rec: 769.631, mse_x2_rec: 445.623, mse_pert: 573.350, kld_x1: 658.830, kld_x2: 428.648, kld_pert: 301.659| valid_loss: 2515.207, valid_mse_x1_rec: 768.564, valid_mse_x2_rec: 686.340, valid_mse_pert: 884.778, valid_kld_x1: 687.076, valid_kld_x2: 376.761, valid_kld_pert: 691.419|\n",
      "[Epoch 90] | loss: 1834.842, mse_x1_rec: 717.891, mse_x2_rec: 453.595, mse_pert: 527.961, kld_x1: 642.121, kld_x2: 411.706, kld_pert: 300.118| valid_loss: 2669.658, valid_mse_x1_rec: 679.016, valid_mse_x2_rec: 873.185, valid_mse_pert: 951.410, valid_kld_x1: 679.743, valid_kld_x2: 359.138, valid_kld_pert: 621.582|\n",
      "[Epoch 91] | loss: 1884.550, mse_x1_rec: 686.792, mse_x2_rec: 565.381, mse_pert: 501.697, kld_x1: 629.107, kld_x2: 389.632, kld_pert: 288.065| valid_loss: 2622.666, valid_mse_x1_rec: 533.354, valid_mse_x2_rec: 961.207, valid_mse_pert: 971.773, valid_kld_x1: 669.379, valid_kld_x2: 339.668, valid_kld_pert: 554.278|\n",
      "[Epoch 92] | loss: 2221.388, mse_x1_rec: 796.405, mse_x2_rec: 717.957, mse_pert: 579.799, kld_x1: 614.391, kld_x2: 371.316, kld_pert: 286.556| valid_loss: 3085.087, valid_mse_x1_rec: 447.909, valid_mse_x2_rec: 1237.158, valid_mse_pert: 1255.799, valid_kld_x1: 651.477, valid_kld_x2: 318.672, valid_kld_pert: 472.049|\n",
      "[Epoch 93] | loss: 2613.734, mse_x1_rec: 870.234, mse_x2_rec: 1000.176, mse_pert: 617.258, kld_x1: 616.025, kld_x2: 356.073, kld_pert: 288.560| valid_loss: 3335.893, valid_mse_x1_rec: 447.426, valid_mse_x2_rec: 1590.801, valid_mse_pert: 1163.476, valid_kld_x1: 649.169, valid_kld_x2: 293.760, valid_kld_pert: 398.964|\n",
      "[Epoch 94] | loss: 2503.564, mse_x1_rec: 832.373, mse_x2_rec: 970.985, mse_pert: 571.663, kld_x1: 629.946, kld_x2: 354.944, kld_pert: 300.540| valid_loss: 3658.436, valid_mse_x1_rec: 565.758, valid_mse_x2_rec: 1752.795, valid_mse_pert: 1205.278, valid_kld_x1: 670.441, valid_kld_x2: 284.523, valid_kld_pert: 391.086|\n",
      "[Epoch 95] | loss: 2385.338, mse_x1_rec: 876.231, mse_x2_rec: 830.289, mse_pert: 546.330, kld_x1: 641.418, kld_x2: 368.000, kld_pert: 315.455| valid_loss: 3452.373, valid_mse_x1_rec: 665.898, valid_mse_x2_rec: 1507.014, valid_mse_pert: 1141.369, valid_kld_x1: 688.040, valid_kld_x2: 289.677, valid_kld_pert: 403.193|\n",
      "[Epoch 96] | loss: 1977.386, mse_x1_rec: 768.396, mse_x2_rec: 565.126, mse_pert: 507.336, kld_x1: 654.761, kld_x2: 393.876, kld_pert: 316.641| valid_loss: 3095.894, valid_mse_x1_rec: 752.695, valid_mse_x2_rec: 1196.184, valid_mse_pert: 1003.094, valid_kld_x1: 693.987, valid_kld_x2: 310.242, valid_kld_pert: 434.989|\n",
      "[Epoch 97] | loss: 1382.434, mse_x1_rec: 513.861, mse_x2_rec: 326.398, mse_pert: 403.675, kld_x1: 660.983, kld_x2: 423.508, kld_pert: 300.512| valid_loss: 2702.043, valid_mse_x1_rec: 641.778, valid_mse_x2_rec: 747.549, valid_mse_pert: 1157.713, valid_kld_x1: 683.949, valid_kld_x2: 348.767, valid_kld_pert: 517.320|\n",
      "[Epoch 98] | loss: 1017.527, mse_x1_rec: 271.868, mse_x2_rec: 255.828, mse_pert: 348.644, kld_x1: 651.001, kld_x2: 454.782, kld_pert: 306.089| valid_loss: 2383.053, valid_mse_x1_rec: 435.752, valid_mse_x2_rec: 492.057, valid_mse_pert: 1279.131, valid_kld_x1: 663.008, valid_kld_x2: 388.925, valid_kld_pert: 709.187|\n",
      "[Epoch 99] | loss: 1224.339, mse_x1_rec: 268.854, mse_x2_rec: 410.997, mse_pert: 395.471, kld_x1: 626.884, kld_x2: 486.987, kld_pert: 376.297| valid_loss: 2764.021, valid_mse_x1_rec: 438.692, valid_mse_x2_rec: 483.023, valid_mse_pert: 1629.357, valid_kld_x1: 629.460, valid_kld_x2: 427.531, valid_kld_pert: 1072.505|\n"
     ]
    }
   ],
   "execution_count": 37
  },
  {
   "metadata": {
    "ExecuteTime": {
     "end_time": "2025-02-10T09:42:44.626115Z",
     "start_time": "2025-02-10T09:42:44.336107Z"
    }
   },
   "cell_type": "code",
   "source": [
    "plt.plot(epoch_hist['train_loss'][20:])\n",
    "plt.plot(epoch_hist['valid_loss'][20:])\n",
    "plt.axvline(best_epoch - 20)\n",
    "plt.yscale('log')"
   ],
   "id": "9112efbe06de18c1",
   "outputs": [
    {
     "data": {
      "text/plain": [
       "<Figure size 640x480 with 1 Axes>"
      ],
      "image/png": "[encoded data removed]"
     },
     "metadata": {},
     "output_type": "display_data"
    }
   ],
   "execution_count": 38
  },
  {
   "metadata": {
    "ExecuteTime": {
     "end_time": "2025-02-10T09:41:07.725003Z",
     "start_time": "2025-02-10T09:41:07.666829Z"
    }
   },
   "cell_type": "code",
   "source": "best_epoch",
   "id": "53ff537811d56e87",
   "outputs": [
    {
     "data": {
      "text/plain": [
       "299"
      ]
     },
     "execution_count": 36,
     "metadata": {},
     "output_type": "execute_result"
    }
   ],
   "execution_count": 36
  },
  {
   "cell_type": "markdown",
   "id": "ca090944-eb92-449f-bee3-2f83da6e49d7",
   "metadata": {},
   "source": [
    "## Avaliação do Modelo no Conjunto Teste"
   ]
  },
  {
   "cell_type": "code",
   "id": "efcb6c6c-036b-416f-ad18-161ea87060ac",
   "metadata": {
    "tags": [],
    "ExecuteTime": {
     "end_time": "2025-02-10T09:44:37.330747Z",
     "start_time": "2025-02-10T09:44:37.020264Z"
    }
   },
   "source": [
    "_, _, test_metrics_dict_ls = model.test_model(loader=test_loader, metrics_func=['pearson'])\n",
    "\n",
    "for name, rec_dict_value in zip(['test'], [test_metrics_dict_ls]):\n",
    "    df_rec = pd.DataFrame.from_dict(rec_dict_value)\n",
    "    smi_ls = []\n",
    "    for smi_id in df_rec['cp_id']:\n",
    "        smi_ls.append(idx2smi[smi_id])\n",
    "    df_rec['canonical_smiles'] = smi_ls"
   ],
   "outputs": [],
   "execution_count": 39
  },
  {
   "cell_type": "code",
   "id": "e3d14d32-fa41-4218-966b-beafb48d4781",
   "metadata": {
    "tags": [],
    "ExecuteTime": {
     "end_time": "2025-02-10T09:44:38.128831Z",
     "start_time": "2025-02-10T09:44:38.072918Z"
    }
   },
   "source": "df_rec",
   "outputs": [
    {
     "data": {
      "text/plain": [
       "    x1_rec_pearson  x2_rec_pearson  x2_pred_pearson  DEG_rec_pearson  \\\n",
       "0         0.953311        0.943421         0.934272         0.530868   \n",
       "1         0.979038        0.961746         0.939355         0.600370   \n",
       "2         0.946736        0.937977         0.928489         0.192155   \n",
       "3         0.972693        0.953963         0.937324         0.441195   \n",
       "4         0.857311        0.845146         0.833361         0.193010   \n",
       "5         0.960250        0.951256         0.928602         0.392760   \n",
       "6         0.945833        0.922042         0.895480         0.292409   \n",
       "7         0.944911        0.942919         0.926531         0.228123   \n",
       "8         0.960405        0.953985         0.935398         0.350421   \n",
       "9         0.971232        0.967821         0.948738         0.278653   \n",
       "10        0.974664        0.970759         0.969910         0.541432   \n",
       "11        0.988880        0.975169         0.965476         0.512390   \n",
       "12        0.912542        0.951181         0.935547         0.670897   \n",
       "13        0.946600        0.963332         0.959411         0.563807   \n",
       "14        0.860017        0.853358         0.855421         0.188951   \n",
       "15        0.946034        0.969703         0.960929         0.591690   \n",
       "16        0.944037        0.927206         0.916762         0.287433   \n",
       "\n",
       "    DEG_pred_pearson  cp_id   cid      sig  \\\n",
       "0           0.384587      9  MCF7   MCF7_9   \n",
       "1           0.516244     13   ASC   ASC_13   \n",
       "2           0.128870      6  A549   A549_6   \n",
       "3           0.269208      9   PC3    PC3_9   \n",
       "4           0.181491      9  HT29   HT29_9   \n",
       "5           0.281274      9  HA1E   HA1E_9   \n",
       "6           0.254139      9  A549   A549_9   \n",
       "7           0.164221      6  A375   A375_6   \n",
       "8           0.255856      6  HA1E   HA1E_6   \n",
       "9           0.029422      6   PC3    PC3_6   \n",
       "10          0.361403      6  MCF7   MCF7_6   \n",
       "11          0.399993     13  HA1E  HA1E_13   \n",
       "12          0.574972      9  VCAP   VCAP_9   \n",
       "13          0.488799     13  A549  A549_13   \n",
       "14          0.165015      6  HT29   HT29_6   \n",
       "15          0.496783      6  VCAP   VCAP_6   \n",
       "16          0.223077      9  A375   A375_9   \n",
       "\n",
       "                                     canonical_smiles  \n",
       "0             Brc1ccc(CSc2nnc(c3ccccn3)n2Cc4ccco4)cc1  \n",
       "1   Brc1ccc(NC(=O)N2NC(=O)[C@H]([C@@H]2c2ccccc2)c2...  \n",
       "2                   Brc1c[nH]c2nc(SCc3ccccc3C#N)nc2c1  \n",
       "3             Brc1ccc(CSc2nnc(c3ccccn3)n2Cc4ccco4)cc1  \n",
       "4             Brc1ccc(CSc2nnc(c3ccccn3)n2Cc4ccco4)cc1  \n",
       "5             Brc1ccc(CSc2nnc(c3ccccn3)n2Cc4ccco4)cc1  \n",
       "6             Brc1ccc(CSc2nnc(c3ccccn3)n2Cc4ccco4)cc1  \n",
       "7                   Brc1c[nH]c2nc(SCc3ccccc3C#N)nc2c1  \n",
       "8                   Brc1c[nH]c2nc(SCc3ccccc3C#N)nc2c1  \n",
       "9                   Brc1c[nH]c2nc(SCc3ccccc3C#N)nc2c1  \n",
       "10                  Brc1c[nH]c2nc(SCc3ccccc3C#N)nc2c1  \n",
       "11  Brc1ccc(NC(=O)N2NC(=O)[C@H]([C@@H]2c2ccccc2)c2...  \n",
       "12            Brc1ccc(CSc2nnc(c3ccccn3)n2Cc4ccco4)cc1  \n",
       "13  Brc1ccc(NC(=O)N2NC(=O)[C@H]([C@@H]2c2ccccc2)c2...  \n",
       "14                  Brc1c[nH]c2nc(SCc3ccccc3C#N)nc2c1  \n",
       "15                  Brc1c[nH]c2nc(SCc3ccccc3C#N)nc2c1  \n",
       "16            Brc1ccc(CSc2nnc(c3ccccn3)n2Cc4ccco4)cc1  "
      ],
      "text/html": [
       "<div>\n",
       "<style scoped>\n",
       "    .dataframe tbody tr th:only-of-type {\n",
       "        vertical-align: middle;\n",
       "    }\n",
       "\n",
       "    .dataframe tbody tr th {\n",
       "        vertical-align: top;\n",
       "    }\n",
       "\n",
       "    .dataframe thead th {\n",
       "        text-align: right;\n",
       "    }\n",
       "</style>\n",
       "<table border=\"1\" class=\"dataframe\">\n",
       "  <thead>\n",
       "    <tr style=\"text-align: right;\">\n",
       "      <th></th>\n",
       "      <th>x1_rec_pearson</th>\n",
       "      <th>x2_rec_pearson</th>\n",
       "      <th>x2_pred_pearson</th>\n",
       "      <th>DEG_rec_pearson</th>\n",
       "      <th>DEG_pred_pearson</th>\n",
       "      <th>cp_id</th>\n",
       "      <th>cid</th>\n",
       "      <th>sig</th>\n",
       "      <th>canonical_smiles</th>\n",
       "    </tr>\n",
       "  </thead>\n",
       "  <tbody>\n",
       "    <tr>\n",
       "      <th>0</th>\n",
       "      <td>0.953311</td>\n",
       "      <td>0.943421</td>\n",
       "      <td>0.934272</td>\n",
       "      <td>0.530868</td>\n",
       "      <td>0.384587</td>\n",
       "      <td>9</td>\n",
       "      <td>MCF7</td>\n",
       "      <td>MCF7_9</td>\n",
       "      <td>Brc1ccc(CSc2nnc(c3ccccn3)n2Cc4ccco4)cc1</td>\n",
       "    </tr>\n",
       "    <tr>\n",
       "      <th>1</th>\n",
       "      <td>0.979038</td>\n",
       "      <td>0.961746</td>\n",
       "      <td>0.939355</td>\n",
       "      <td>0.600370</td>\n",
       "      <td>0.516244</td>\n",
       "      <td>13</td>\n",
       "      <td>ASC</td>\n",
       "      <td>ASC_13</td>\n",
       "      <td>Brc1ccc(NC(=O)N2NC(=O)[C@H]([C@@H]2c2ccccc2)c2...</td>\n",
       "    </tr>\n",
       "    <tr>\n",
       "      <th>2</th>\n",
       "      <td>0.946736</td>\n",
       "      <td>0.937977</td>\n",
       "      <td>0.928489</td>\n",
       "      <td>0.192155</td>\n",
       "      <td>0.128870</td>\n",
       "      <td>6</td>\n",
       "      <td>A549</td>\n",
       "      <td>A549_6</td>\n",
       "      <td>Brc1c[nH]c2nc(SCc3ccccc3C#N)nc2c1</td>\n",
       "    </tr>\n",
       "    <tr>\n",
       "      <th>3</th>\n",
       "      <td>0.972693</td>\n",
       "      <td>0.953963</td>\n",
       "      <td>0.937324</td>\n",
       "      <td>0.441195</td>\n",
       "      <td>0.269208</td>\n",
       "      <td>9</td>\n",
       "      <td>PC3</td>\n",
       "      <td>PC3_9</td>\n",
       "      <td>Brc1ccc(CSc2nnc(c3ccccn3)n2Cc4ccco4)cc1</td>\n",
       "    </tr>\n",
       "    <tr>\n",
       "      <th>4</th>\n",
       "      <td>0.857311</td>\n",
       "      <td>0.845146</td>\n",
       "      <td>0.833361</td>\n",
       "      <td>0.193010</td>\n",
       "      <td>0.181491</td>\n",
       "      <td>9</td>\n",
       "      <td>HT29</td>\n",
       "      <td>HT29_9</td>\n",
       "      <td>Brc1ccc(CSc2nnc(c3ccccn3)n2Cc4ccco4)cc1</td>\n",
       "    </tr>\n",
       "    <tr>\n",
       "      <th>5</th>\n",
       "      <td>0.960250</td>\n",
       "      <td>0.951256</td>\n",
       "      <td>0.928602</td>\n",
       "      <td>0.392760</td>\n",
       "      <td>0.281274</td>\n",
       "      <td>9</td>\n",
       "      <td>HA1E</td>\n",
       "      <td>HA1E_9</td>\n",
       "      <td>Brc1ccc(CSc2nnc(c3ccccn3)n2Cc4ccco4)cc1</td>\n",
       "    </tr>\n",
       "    <tr>\n",
       "      <th>6</th>\n",
       "      <td>0.945833</td>\n",
       "      <td>0.922042</td>\n",
       "      <td>0.895480</td>\n",
       "      <td>0.292409</td>\n",
       "      <td>0.254139</td>\n",
       "      <td>9</td>\n",
       "      <td>A549</td>\n",
       "      <td>A549_9</td>\n",
       "      <td>Brc1ccc(CSc2nnc(c3ccccn3)n2Cc4ccco4)cc1</td>\n",
       "    </tr>\n",
       "    <tr>\n",
       "      <th>7</th>\n",
       "      <td>0.944911</td>\n",
       "      <td>0.942919</td>\n",
       "      <td>0.926531</td>\n",
       "      <td>0.228123</td>\n",
       "      <td>0.164221</td>\n",
       "      <td>6</td>\n",
       "      <td>A375</td>\n",
       "      <td>A375_6</td>\n",
       "      <td>Brc1c[nH]c2nc(SCc3ccccc3C#N)nc2c1</td>\n",
       "    </tr>\n",
       "    <tr>\n",
       "      <th>8</th>\n",
       "      <td>0.960405</td>\n",
       "      <td>0.953985</td>\n",
       "      <td>0.935398</td>\n",
       "      <td>0.350421</td>\n",
       "      <td>0.255856</td>\n",
       "      <td>6</td>\n",
       "      <td>HA1E</td>\n",
       "      <td>HA1E_6</td>\n",
       "      <td>Brc1c[nH]c2nc(SCc3ccccc3C#N)nc2c1</td>\n",
       "    </tr>\n",
       "    <tr>\n",
       "      <th>9</th>\n",
       "      <td>0.971232</td>\n",
       "      <td>0.967821</td>\n",
       "      <td>0.948738</td>\n",
       "      <td>0.278653</td>\n",
       "      <td>0.029422</td>\n",
       "      <td>6</td>\n",
       "      <td>PC3</td>\n",
       "      <td>PC3_6</td>\n",
       "      <td>Brc1c[nH]c2nc(SCc3ccccc3C#N)nc2c1</td>\n",
       "    </tr>\n",
       "    <tr>\n",
       "      <th>10</th>\n",
       "      <td>0.974664</td>\n",
       "      <td>0.970759</td>\n",
       "      <td>0.969910</td>\n",
       "      <td>0.541432</td>\n",
       "      <td>0.361403</td>\n",
       "      <td>6</td>\n",
       "      <td>MCF7</td>\n",
       "      <td>MCF7_6</td>\n",
       "      <td>Brc1c[nH]c2nc(SCc3ccccc3C#N)nc2c1</td>\n",
       "    </tr>\n",
       "    <tr>\n",
       "      <th>11</th>\n",
       "      <td>0.988880</td>\n",
       "      <td>0.975169</td>\n",
       "      <td>0.965476</td>\n",
       "      <td>0.512390</td>\n",
       "      <td>0.399993</td>\n",
       "      <td>13</td>\n",
       "      <td>HA1E</td>\n",
       "      <td>HA1E_13</td>\n",
       "      <td>Brc1ccc(NC(=O)N2NC(=O)[C@H]([C@@H]2c2ccccc2)c2...</td>\n",
       "    </tr>\n",
       "    <tr>\n",
       "      <th>12</th>\n",
       "      <td>0.912542</td>\n",
       "      <td>0.951181</td>\n",
       "      <td>0.935547</td>\n",
       "      <td>0.670897</td>\n",
       "      <td>0.574972</td>\n",
       "      <td>9</td>\n",
       "      <td>VCAP</td>\n",
       "      <td>VCAP_9</td>\n",
       "      <td>Brc1ccc(CSc2nnc(c3ccccn3)n2Cc4ccco4)cc1</td>\n",
       "    </tr>\n",
       "    <tr>\n",
       "      <th>13</th>\n",
       "      <td>0.946600</td>\n",
       "      <td>0.963332</td>\n",
       "      <td>0.959411</td>\n",
       "      <td>0.563807</td>\n",
       "      <td>0.488799</td>\n",
       "      <td>13</td>\n",
       "      <td>A549</td>\n",
       "      <td>A549_13</td>\n",
       "      <td>Brc1ccc(NC(=O)N2NC(=O)[C@H]([C@@H]2c2ccccc2)c2...</td>\n",
       "    </tr>\n",
       "    <tr>\n",
       "      <th>14</th>\n",
       "      <td>0.860017</td>\n",
       "      <td>0.853358</td>\n",
       "      <td>0.855421</td>\n",
       "      <td>0.188951</td>\n",
       "      <td>0.165015</td>\n",
       "      <td>6</td>\n",
       "      <td>HT29</td>\n",
       "      <td>HT29_6</td>\n",
       "      <td>Brc1c[nH]c2nc(SCc3ccccc3C#N)nc2c1</td>\n",
       "    </tr>\n",
       "    <tr>\n",
       "      <th>15</th>\n",
       "      <td>0.946034</td>\n",
       "      <td>0.969703</td>\n",
       "      <td>0.960929</td>\n",
       "      <td>0.591690</td>\n",
       "      <td>0.496783</td>\n",
       "      <td>6</td>\n",
       "      <td>VCAP</td>\n",
       "      <td>VCAP_6</td>\n",
       "      <td>Brc1c[nH]c2nc(SCc3ccccc3C#N)nc2c1</td>\n",
       "    </tr>\n",
       "    <tr>\n",
       "      <th>16</th>\n",
       "      <td>0.944037</td>\n",
       "      <td>0.927206</td>\n",
       "      <td>0.916762</td>\n",
       "      <td>0.287433</td>\n",
       "      <td>0.223077</td>\n",
       "      <td>9</td>\n",
       "      <td>A375</td>\n",
       "      <td>A375_9</td>\n",
       "      <td>Brc1ccc(CSc2nnc(c3ccccn3)n2Cc4ccco4)cc1</td>\n",
       "    </tr>\n",
       "  </tbody>\n",
       "</table>\n",
       "</div>"
      ]
     },
     "execution_count": 40,
     "metadata": {},
     "output_type": "execute_result"
    }
   ],
   "execution_count": 40
  },
  {
   "metadata": {
    "ExecuteTime": {
     "end_time": "2025-02-10T09:46:13.629550Z",
     "start_time": "2025-02-10T09:46:13.570901Z"
    }
   },
   "cell_type": "code",
   "source": "len(test_metrics_dict_ls['x1_rec_pearson'])",
   "id": "6e3bf9a8244555a8",
   "outputs": [
    {
     "data": {
      "text/plain": [
       "17"
      ]
     },
     "execution_count": 47,
     "metadata": {},
     "output_type": "execute_result"
    }
   ],
   "execution_count": 47
  },
  {
   "metadata": {},
   "cell_type": "code",
   "outputs": [],
   "execution_count": null,
   "source": "}",
   "id": "8a36f727309fd93f"
  }
 ],
 "metadata": {
  "kernelspec": {
   "display_name": "Python 3 (ipykernel)",
   "language": "python",
   "name": "python3"
  },
  "language_info": {
   "codemirror_mode": {
    "name": "ipython",
    "version": 3
   },
   "file_extension": ".py",
   "mimetype": "text/x-python",
   "name": "python",
   "nbconvert_exporter": "python",
   "pygments_lexer": "ipython3",
   "version": "3.11.7"
  }
 },
 "nbformat": 4,
 "nbformat_minor": 5
}

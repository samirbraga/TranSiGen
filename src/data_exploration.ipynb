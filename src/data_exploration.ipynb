{
 "cells": [
  {
   "metadata": {
    "tags": [],
    "ExecuteTime": {
     "end_time": "2025-01-29T15:47:34.552290Z",
     "start_time": "2025-01-29T15:47:32.275845Z"
    }
   },
   "cell_type": "code",
   "source": [
    "from dataset import TranSiGenDataset\n",
    "from model import TranSiGen\n",
    "from utils import *\n",
    "import pickle\n",
    "import argparse\n",
    "import warnings\n",
    "import torch\n",
    "warnings.filterwarnings('ignore')"
   ],
   "id": "43e6d4c7-99f9-451d-89ea-d8b6792787f2",
   "outputs": [],
   "execution_count": 1
  },
  {
   "metadata": {
    "ExecuteTime": {
     "end_time": "2025-01-29T15:47:34.582444Z",
     "start_time": "2025-01-29T15:47:34.561706Z"
    }
   },
   "cell_type": "code",
   "source": [
    "%load_ext autoreload\n",
    "%autoreload 2"
   ],
   "id": "7c23042fffac5a26",
   "outputs": [],
   "execution_count": 2
  },
  {
   "cell_type": "code",
   "id": "6f6a3770-52b2-4ed4-bf88-909605a4e307",
   "metadata": {
    "tags": [],
    "ExecuteTime": {
     "end_time": "2025-01-29T15:47:34.973229Z",
     "start_time": "2025-01-29T15:47:34.820331Z"
    }
   },
   "source": [
    "dev = torch.device(\"cuda\" if torch.cuda.is_available() else \"cpu\")"
   ],
   "outputs": [],
   "execution_count": 3
  },
  {
   "cell_type": "markdown",
   "id": "741b5fac-b987-4788-91d2-1918389fbb38",
   "metadata": {},
   "source": [
    "## Carregamento dos dados"
   ]
  },
  {
   "cell_type": "markdown",
   "id": "4f07e182-b0fe-4469-9304-278ec6033d2c",
   "metadata": {},
   "source": [
    "Os dados são carregados a partir de um arquivo `.h5`:"
   ]
  },
  {
   "cell_type": "code",
   "id": "12173e34-cf50-404b-a0dd-39e273810c2e",
   "metadata": {
    "tags": [],
    "ExecuteTime": {
     "end_time": "2025-01-29T15:47:35.040911Z",
     "start_time": "2025-01-29T15:47:35.027449Z"
    }
   },
   "source": [
    "data_path = '../data/LINCS2020/data_example/processed_data_id.h5'"
   ],
   "outputs": [],
   "execution_count": 4
  },
  {
   "cell_type": "code",
   "id": "81de094c-4fff-47de-81bf-f4ca69884ca1",
   "metadata": {
    "tags": [],
    "ExecuteTime": {
     "end_time": "2025-01-29T15:47:35.104586Z",
     "start_time": "2025-01-29T15:47:35.078973Z"
    }
   },
   "source": [
    "data = load_from_HDF(data_path)"
   ],
   "outputs": [],
   "execution_count": 5
  },
  {
   "cell_type": "markdown",
   "id": "617fe057-26e0-4a6d-a11e-cf1482a19735",
   "metadata": {},
   "source": [
    "O conteúdo do arquivo é um dicionário contendo as seguintes informações:"
   ]
  },
  {
   "cell_type": "code",
   "id": "58a050cb-6f03-41c7-8196-e9baa1d37ab9",
   "metadata": {
    "tags": [],
    "ExecuteTime": {
     "end_time": "2025-01-29T15:47:35.148601Z",
     "start_time": "2025-01-29T15:47:35.133152Z"
    }
   },
   "source": [
    "print(\", \".join(data.keys()))"
   ],
   "outputs": [
    {
     "name": "stdout",
     "output_type": "stream",
     "text": [
      "LINCS_index, canonical_smiles, cid, sig\n"
     ]
    }
   ],
   "execution_count": 6
  },
  {
   "cell_type": "markdown",
   "id": "46dc0c3d-6e66-45be-b6d3-d80b0bd3c969",
   "metadata": {},
   "source": [
    "- **LINCS_index**: \n",
    "- **canonical_smiles**: ids das moléculas dos compostos químicos. Esse id é convertido para o padrão Smiles usando o vetor `idx2smi` definido posteriormente.\n",
    "- **cid**: cell line identifier\n",
    "- **sig**: signature\n",
    "\n",
    "Esse conjunto é, em resumo, um ponteiro para os dados. Os dados em si serão carregados mais à frente pela classe `TranSiGenDataset`."
   ]
  },
  {
   "cell_type": "markdown",
   "id": "6967a1b4-595c-4c78-bc99-ddd8ce91a279",
   "metadata": {},
   "source": [
    "## Definição das configurações gerais\n",
    "Observações:\n",
    "- `cell_count`: número de linhagens celulares. Usado apenas para identificar o modelo salvo.\n",
    "- `feat_type`: tipo de representação das moléculas. Para o uso no modelo, o código Smiles é convertido para uma outra representação da molécula. Essa conversão pode ser feita tanto para um embedding pelo modelo pré-treinado KPGT, ou pela impressão digital molecular (*molecular fingerprint*) ECFP4.\n",
    "- `split_type`: define como os dados serão dividos em treino, validação e teste. Os possíveis valores são\n",
    "    - `random_split`: essa divisão é feita de forma aleatória.\n",
    "    - `cell_split`: os conjuntos são dividos considerando uma mesma linhagem celular, para que não haja o risco de todos os dados de uma célula (ou boa parte deles) fiquem apenas em um dos conjuntos.\n",
    "- `features_dim`: tamanho do vetor que representa a molécula. No caso do KPGT, esse valor é 2304. No caso do ECFP4, o valor é 2048."
   ]
  },
  {
   "cell_type": "code",
   "id": "0ec7069c-fe3b-4a52-8785-6e22f1d320d9",
   "metadata": {
    "tags": [],
    "ExecuteTime": {
     "end_time": "2025-01-29T15:47:35.221138Z",
     "start_time": "2025-01-29T15:47:35.203463Z"
    }
   },
   "source": [
    "cell_count = len(set(data['cid']))\n",
    "feat_type = 'KPGT'\n",
    "batch_size = 64\n",
    "learning_rate = 1e-3\n",
    "beta = 0.1\n",
    "dropout = 0.1\n",
    "weight_decay = 1e-5\n",
    "n_folds = 5\n",
    "random_seed = 364039\n",
    "split_type = 'smiles_split'\n",
    "features_dim = 2304\n",
    "features_embed_dim = [400]\n",
    "n_latent = 100\n",
    "init_mode = 'pretrain_shRNA'\n",
    "n_epochs = 300\n",
    "molecule_path = '../data/LINCS2020/idx2smi.pickle'"
   ],
   "outputs": [],
   "execution_count": 7
  },
  {
   "cell_type": "code",
   "id": "160ef299-49dc-4693-8f1d-4bf77aeccfe2",
   "metadata": {
    "tags": [],
    "ExecuteTime": {
     "end_time": "2025-01-29T15:47:35.274066Z",
     "start_time": "2025-01-29T15:47:35.257441Z"
    }
   },
   "source": [
    "local_out = '../results/trained_models_{}_cell_{}/{}/feature_{}_init_{}/'.format(cell_count, split_type, random_seed, feat_type, init_mode)"
   ],
   "outputs": [],
   "execution_count": 8
  },
  {
   "cell_type": "markdown",
   "id": "62ed0efd-6159-4f5e-a069-4281a2da83a3",
   "metadata": {},
   "source": [
    "Abaixo é carregador o vetor `idx2smi`, responsável por converter os índices das moléculas carregadas acima nos respectivos códigos Smiles."
   ]
  },
  {
   "cell_type": "code",
   "id": "a694b540-38aa-4493-bb08-313971d2b725",
   "metadata": {
    "tags": [],
    "ExecuteTime": {
     "end_time": "2025-01-29T15:47:36.266627Z",
     "start_time": "2025-01-29T15:47:35.778644Z"
    }
   },
   "source": [
    "with open(molecule_path, 'rb') as f:\n",
    "    idx2smi = pickle.load(f)"
   ],
   "outputs": [],
   "execution_count": 9
  },
  {
   "cell_type": "markdown",
   "id": "ec66385d-f435-43c8-b517-af6dd5dd98f4",
   "metadata": {},
   "source": [
    "Exemplo:"
   ]
  },
  {
   "cell_type": "code",
   "id": "93cbc822-0c44-4248-80ba-3e43fc3b9c8d",
   "metadata": {
    "tags": [],
    "ExecuteTime": {
     "end_time": "2025-01-29T15:47:36.398831Z",
     "start_time": "2025-01-29T15:47:36.381506Z"
    }
   },
   "source": [
    "idx2smi[2]"
   ],
   "outputs": [
    {
     "data": {
      "text/plain": [
       "np.str_('BrCC(=O)NCCc1ccc2ccccc2c1')"
      ]
     },
     "execution_count": 10,
     "metadata": {},
     "output_type": "execute_result"
    }
   ],
   "execution_count": 10
  },
  {
   "cell_type": "markdown",
   "id": "b2a1c83e-df27-4e69-8b9e-5102e676e503",
   "metadata": {},
   "source": [
    "## Divisão de treino e teste"
   ]
  },
  {
   "cell_type": "code",
   "id": "8c2d21ad-e3d6-4c29-b8c4-75df8238c404",
   "metadata": {
    "ExecuteTime": {
     "end_time": "2025-01-29T15:47:36.935401Z",
     "start_time": "2025-01-29T15:47:36.915318Z"
    }
   },
   "source": [
    "pair, pairv, pairt = split_data(data, n_folds=n_folds, split_type=split_type, rnds=random_seed)"
   ],
   "outputs": [],
   "execution_count": 11
  },
  {
   "cell_type": "code",
   "id": "5820a600-8842-4546-8847-7b26bb0844d6",
   "metadata": {
    "tags": [],
    "ExecuteTime": {
     "end_time": "2025-01-29T15:47:39.168005Z",
     "start_time": "2025-01-29T15:47:37.836069Z"
    }
   },
   "source": [
    "train = TranSiGenDataset(\n",
    "    LINCS_index=pair['LINCS_index'],\n",
    "    mol_feature_type=feat_type,\n",
    "    mol_id=pair['canonical_smiles'],\n",
    "    cid=pair['cid']\n",
    ")\n",
    "\n",
    "valid = TranSiGenDataset(\n",
    "    LINCS_index=pairv['LINCS_index'],\n",
    "    mol_feature_type=feat_type,\n",
    "    mol_id=pairv['canonical_smiles'],\n",
    "    cid=pairv['cid']\n",
    ")\n",
    "\n",
    "test = TranSiGenDataset(\n",
    "    LINCS_index=pairt['LINCS_index'],\n",
    "    mol_feature_type=feat_type,\n",
    "    mol_id=pairt['canonical_smiles'],\n",
    "    cid=pairt['cid']\n",
    ")\n",
    "\n",
    "train_loader = torch.utils.data.DataLoader(dataset=train, batch_size=batch_size, shuffle=True, drop_last=False, num_workers=4, worker_init_fn=seed_worker)\n",
    "valid_loader = torch.utils.data.DataLoader(dataset=valid, batch_size=batch_size, shuffle=True, drop_last=False, num_workers=4, worker_init_fn=seed_worker)\n",
    "test_loader = torch.utils.data.DataLoader(dataset=test, batch_size=batch_size, shuffle=True, drop_last=False, num_workers=4, worker_init_fn=seed_worker)"
   ],
   "outputs": [],
   "execution_count": 12
  },
  {
   "cell_type": "markdown",
   "id": "c0c6aef5-5300-44e7-a38c-084f914f4f6c",
   "metadata": {
    "tags": []
   },
   "source": [
    "## Criação do Modelo"
   ]
  },
  {
   "cell_type": "code",
   "id": "cd82803d-58fc-4a3b-8086-2a85c1c5c0d1",
   "metadata": {
    "tags": [],
    "ExecuteTime": {
     "end_time": "2025-01-29T15:47:40.200525Z",
     "start_time": "2025-01-29T15:47:40.094391Z"
    }
   },
   "source": [
    "model = TranSiGen(\n",
    "    n_genes=978,\n",
    "    n_latent=n_latent,\n",
    "    n_en_hidden=[1200],\n",
    "    n_de_hidden=[800],\n",
    "    features_dim=features_dim,\n",
    "    features_embed_dim=features_embed_dim,\n",
    "    init_w=True,\n",
    "    beta=beta,\n",
    "    device=dev,\n",
    "    dropout=dropout,\n",
    "    path_model=local_out,\n",
    "    random_seed=random_seed\n",
    ")"
   ],
   "outputs": [],
   "execution_count": 13
  },
  {
   "metadata": {
    "ExecuteTime": {
     "end_time": "2025-01-29T15:47:41.123680Z",
     "start_time": "2025-01-29T15:47:40.763315Z"
    }
   },
   "cell_type": "code",
   "source": "_ = model.to(dev)",
   "id": "d3129d16242c29f",
   "outputs": [],
   "execution_count": 14
  },
  {
   "cell_type": "markdown",
   "id": "0857502d-25ef-4116-95c5-78bd82ba17b8",
   "metadata": {},
   "source": [
    "### Arquitetura do Modelo\n",
    "Arquitetura dos codificadores do $X_1$ e do $X_2$ (são iguais):"
   ]
  },
  {
   "cell_type": "code",
   "id": "a2429602-2790-4490-b42b-577cee434d80",
   "metadata": {
    "tags": [],
    "ExecuteTime": {
     "end_time": "2025-01-29T15:47:42.231565Z",
     "start_time": "2025-01-29T15:47:42.213985Z"
    }
   },
   "source": [
    "model.encoder_x1"
   ],
   "outputs": [
    {
     "data": {
      "text/plain": [
       "Sequential(\n",
       "  (0): Linear(in_features=978, out_features=1200, bias=True)\n",
       "  (1): BatchNorm1d(1200, eps=1e-05, momentum=0.1, affine=True, track_running_stats=True)\n",
       "  (2): ReLU()\n",
       "  (3): Dropout(p=0.1, inplace=False)\n",
       ")"
      ]
     },
     "execution_count": 15,
     "metadata": {},
     "output_type": "execute_result"
    }
   ],
   "execution_count": 15
  },
  {
   "cell_type": "markdown",
   "id": "1434303f-071e-470a-9c3c-f41e94070f2f",
   "metadata": {},
   "source": [
    "Arquitetura dos decodificadores do $X_1$ e do $X_2$ (também são iguais):"
   ]
  },
  {
   "cell_type": "code",
   "id": "c6482e22-f46f-4d5e-8a1e-230fcc99e184",
   "metadata": {
    "tags": [],
    "ExecuteTime": {
     "end_time": "2025-01-29T15:47:42.853667Z",
     "start_time": "2025-01-29T15:47:42.837851Z"
    }
   },
   "source": [
    "model.decoder_x2"
   ],
   "outputs": [
    {
     "data": {
      "text/plain": [
       "Sequential(\n",
       "  (0): Linear(in_features=100, out_features=800, bias=True)\n",
       "  (1): BatchNorm1d(800, eps=1e-05, momentum=0.1, affine=True, track_running_stats=True)\n",
       "  (2): ReLU()\n",
       "  (3): Dropout(p=0.1, inplace=False)\n",
       "  (4): Linear(in_features=800, out_features=978, bias=True)\n",
       "  (5): ReLU()\n",
       ")"
      ]
     },
     "execution_count": 16,
     "metadata": {},
     "output_type": "execute_result"
    }
   ],
   "execution_count": 16
  },
  {
   "cell_type": "markdown",
   "id": "0bb7dbe8-68b6-4104-aa0f-0e0e7c3514bd",
   "metadata": {},
   "source": [
    "Arquitetura do embedder da molécula:"
   ]
  },
  {
   "cell_type": "code",
   "id": "4682f557-fa5a-49d3-b69e-5ff064c0cf72",
   "metadata": {
    "tags": [],
    "ExecuteTime": {
     "end_time": "2025-01-29T15:47:43.441195Z",
     "start_time": "2025-01-29T15:47:43.425041Z"
    }
   },
   "source": [
    "model.feat_embeddings"
   ],
   "outputs": [
    {
     "data": {
      "text/plain": [
       "Sequential(\n",
       "  (0): Linear(in_features=2304, out_features=400, bias=True)\n",
       "  (1): BatchNorm1d(400, eps=1e-05, momentum=0.1, affine=True, track_running_stats=True)\n",
       "  (2): ReLU()\n",
       "  (3): Dropout(p=0.1, inplace=False)\n",
       ")"
      ]
     },
     "execution_count": 17,
     "metadata": {},
     "output_type": "execute_result"
    }
   ],
   "execution_count": 17
  },
  {
   "cell_type": "markdown",
   "id": "7d100118-bf7f-4fa8-a9d3-823361903d81",
   "metadata": {
    "tags": []
   },
   "source": [
    "## Treinamento/Carregamento do Modelo"
   ]
  },
  {
   "cell_type": "code",
   "id": "4c501287-52a3-4329-b504-74c1c07aaa2d",
   "metadata": {
    "tags": [],
    "ExecuteTime": {
     "end_time": "2025-01-29T15:47:44.451422Z",
     "start_time": "2025-01-29T15:47:44.218688Z"
    }
   },
   "source": [
    "if init_mode == 'pretrain_shRNA':\n",
    "    # Carregando modelo pré-treinado\n",
    "    print('=====load vae for x1 and x2=======')\n",
    "    model_dict = model.state_dict()\n",
    "    filename = '../results/trained_model_shRNA_vae_x1/best_model.pt'\n",
    "    model_base_x1 = torch.load(filename, map_location='cpu')\n",
    "    model_base_x1_dict = model_base_x1.state_dict()\n",
    "    for k in model_dict.keys():\n",
    "        if k in model_base_x1_dict.keys():\n",
    "            model_dict[k] = model_base_x1_dict[k]\n",
    "    filename = '../results/trained_model_shRNA_vae_x2/best_model.pt'\n",
    "    model_base_x2 = torch.load(filename, map_location='cpu')\n",
    "    model_base_x2_dict = model_base_x2.state_dict()\n",
    "    for k in model_dict.keys():\n",
    "        if k in model_base_x2_dict.keys():\n",
    "            model_dict[k] = model_base_x2_dict[k]\n",
    "    model.load_state_dict(model_dict)\n",
    "    del model_base_x1, model_base_x2\n",
    "else:\n",
    "    epoch_hist, best_epoch = model.train_model(\n",
    "        train_loader=train_loader,\n",
    "        test_loader=valid_loader,\n",
    "        n_epochs=n_epochs,\n",
    "        learning_rate=learning_rate,\n",
    "        weight_decay=weight_decay,\n",
    "        save_model=False\n",
    "    )"
   ],
   "outputs": [
    {
     "name": "stdout",
     "output_type": "stream",
     "text": [
      "=====load vae for x1 and x2=======\n"
     ]
    }
   ],
   "execution_count": 18
  },
  {
   "cell_type": "markdown",
   "id": "ca090944-eb92-449f-bee3-2f83da6e49d7",
   "metadata": {},
   "source": [
    "## Avaliação do Modelo no Conjunto Teste"
   ]
  },
  {
   "cell_type": "code",
   "id": "efcb6c6c-036b-416f-ad18-161ea87060ac",
   "metadata": {
    "tags": [],
    "ExecuteTime": {
     "end_time": "2025-01-29T15:47:45.879566Z",
     "start_time": "2025-01-29T15:47:45.317209Z"
    }
   },
   "source": [
    "_, _, test_metrics_dict_ls = model.test_model(loader=test_loader, metrics_func=['pearson', 'rmse', 'precision100'])\n",
    "\n",
    "for name, rec_dict_value in zip(['test'], [test_metrics_dict_ls]):\n",
    "    df_rec = pd.DataFrame.from_dict(rec_dict_value)\n",
    "    smi_ls = []\n",
    "    for smi_id in df_rec['cp_id']:\n",
    "        smi_ls.append(idx2smi[smi_id])\n",
    "    df_rec['canonical_smiles'] = smi_ls"
   ],
   "outputs": [],
   "execution_count": 19
  },
  {
   "metadata": {
    "ExecuteTime": {
     "end_time": "2025-01-29T15:47:47.534453Z",
     "start_time": "2025-01-29T15:47:47.306183Z"
    }
   },
   "cell_type": "code",
   "source": "_, _, test_metrics_dict_ls = model.test_model(loader=test_loader, metrics_func=['pearson', 'rmse', 'precision100'])\n",
   "id": "4e29cf7317c87429",
   "outputs": [],
   "execution_count": 21
  },
  {
   "cell_type": "code",
   "id": "e3d14d32-fa41-4218-966b-beafb48d4781",
   "metadata": {
    "tags": [],
    "ExecuteTime": {
     "end_time": "2025-01-29T15:48:23.338003Z",
     "start_time": "2025-01-29T15:48:23.302728Z"
    }
   },
   "source": "df_rec",
   "outputs": [
    {
     "data": {
      "text/plain": [
       "    x1_rec_pearson  x1_rec_rmse  x1_rec_neg_precision100  \\\n",
       "0         0.975636     0.490170                     0.84   \n",
       "1         0.977697     0.476492                     0.88   \n",
       "2         0.919622     0.905333                     0.69   \n",
       "3         0.970973     0.542568                     0.81   \n",
       "4         0.973194     0.520198                     0.83   \n",
       "5         0.955418     0.676788                     0.80   \n",
       "6         0.947543     0.738483                     0.77   \n",
       "7         0.952254     0.683658                     0.79   \n",
       "8         0.965418     0.599021                     0.81   \n",
       "9         0.951248     0.772943                     0.79   \n",
       "10        0.962846     0.603456                     0.78   \n",
       "11        0.975717     0.488853                     0.85   \n",
       "12        0.974037     0.511507                     0.82   \n",
       "13        0.976462     0.488746                     0.87   \n",
       "14        0.959555     0.680193                     0.81   \n",
       "15        0.959088     0.627306                     0.80   \n",
       "16        0.907004     0.978314                     0.71   \n",
       "\n",
       "    x1_rec_pos_precision100  x2_rec_pearson  x2_rec_rmse  \\\n",
       "0                      0.83        0.981251     0.429405   \n",
       "1                      0.86        0.965035     0.581619   \n",
       "2                      0.74        0.954440     0.696276   \n",
       "3                      0.83        0.981312     0.444086   \n",
       "4                      0.91        0.979150     0.465066   \n",
       "5                      0.82        0.966689     0.603037   \n",
       "6                      0.80        0.966840     0.575661   \n",
       "7                      0.82        0.976102     0.491905   \n",
       "8                      0.78        0.967296     0.588074   \n",
       "9                      0.80        0.967425     0.619789   \n",
       "10                     0.83        0.975669     0.492799   \n",
       "11                     0.84        0.966949     0.573188   \n",
       "12                     0.87        0.974833     0.513025   \n",
       "13                     0.86        0.981477     0.444513   \n",
       "14                     0.80        0.982235     0.425285   \n",
       "15                     0.82        0.972968     0.515201   \n",
       "16                     0.72        0.946231     0.771645   \n",
       "\n",
       "    x2_rec_neg_precision100  x2_rec_pos_precision100  x2_pred_pearson  \\\n",
       "0                      0.83                     0.90         0.902980   \n",
       "1                      0.84                     0.83         0.755016   \n",
       "2                      0.78                     0.79         0.736971   \n",
       "3                      0.84                     0.86         0.870635   \n",
       "4                      0.88                     0.90         0.903241   \n",
       "5                      0.85                     0.85         0.787254   \n",
       "6                      0.84                     0.87         0.677817   \n",
       "7                      0.84                     0.86         0.598849   \n",
       "8                      0.84                     0.84         0.856472   \n",
       "9                      0.86                     0.87         0.825511   \n",
       "10                     0.85                     0.89         0.791868   \n",
       "11                     0.83                     0.87         0.671189   \n",
       "12                     0.85                     0.88         0.802006   \n",
       "13                     0.88                     0.90         0.882518   \n",
       "14                     0.88                     0.87         0.807337   \n",
       "15                     0.85                     0.90         0.825387   \n",
       "16                     0.78                     0.79         0.761212   \n",
       "\n",
       "    x2_pred_rmse  ...  DEG_rec_neg_precision100  DEG_rec_pos_precision100  \\\n",
       "0       0.965810  ...                      0.33                      0.32   \n",
       "1       1.581928  ...                      0.49                      0.36   \n",
       "2       1.688478  ...                      0.30                      0.42   \n",
       "3       1.168393  ...                      0.43                      0.48   \n",
       "4       0.966815  ...                      0.34                      0.35   \n",
       "5       1.678631  ...                      0.55                      0.36   \n",
       "6       1.760884  ...                      0.33                      0.43   \n",
       "7       2.130585  ...                      0.49                      0.40   \n",
       "8       1.275750  ...                      0.44                      0.51   \n",
       "9       1.389391  ...                      0.42                      0.43   \n",
       "10      1.508076  ...                      0.43                      0.40   \n",
       "11      1.812073  ...                      0.27                      0.38   \n",
       "12      1.427442  ...                      0.49                      0.56   \n",
       "13      1.265723  ...                      0.36                      0.34   \n",
       "14      1.378203  ...                      0.35                      0.51   \n",
       "15      1.273605  ...                      0.29                      0.40   \n",
       "16      1.658991  ...                      0.35                      0.56   \n",
       "\n",
       "    DEG_pred_pearson  DEG_pred_rmse  DEG_pred_neg_precision100  \\\n",
       "0           0.115140       0.965810                       0.11   \n",
       "1           0.151905       1.581928                       0.16   \n",
       "2           0.231879       1.688478                       0.14   \n",
       "3           0.249201       1.168393                       0.25   \n",
       "4           0.155124       0.966815                       0.17   \n",
       "5           0.242159       1.678631                       0.25   \n",
       "6           0.257360       1.760884                       0.19   \n",
       "7           0.141994       2.130585                       0.15   \n",
       "8           0.191890       1.275750                       0.18   \n",
       "9           0.238073       1.389391                       0.18   \n",
       "10          0.294210       1.508076                       0.19   \n",
       "11          0.192124       1.812073                       0.29   \n",
       "12          0.354791       1.427442                       0.32   \n",
       "13          0.187415       1.265723                       0.14   \n",
       "14          0.164688       1.378203                       0.15   \n",
       "15          0.122437       1.273605                       0.11   \n",
       "16          0.284954       1.658991                       0.19   \n",
       "\n",
       "    DEG_pred_pos_precision100  cp_id   cid      sig  \\\n",
       "0                        0.16      6  HT29   HT29_6   \n",
       "1                        0.17      9  A549   A549_9   \n",
       "2                        0.20      6  VCAP   VCAP_6   \n",
       "3                        0.12      6  MCF7   MCF7_6   \n",
       "4                        0.15      6  A375   A375_6   \n",
       "5                        0.14      9  MCF7   MCF7_9   \n",
       "6                        0.16     13   ASC   ASC_13   \n",
       "7                        0.18     13  HA1E  HA1E_13   \n",
       "8                        0.13      9   PC3    PC3_9   \n",
       "9                        0.23     13  A549  A549_13   \n",
       "10                       0.28      9  HA1E   HA1E_9   \n",
       "11                       0.17      9  HT29   HT29_9   \n",
       "12                       0.35      9  A375   A375_9   \n",
       "13                       0.14      6  A549   A549_6   \n",
       "14                       0.12      6   PC3    PC3_6   \n",
       "15                       0.19      6  HA1E   HA1E_6   \n",
       "16                       0.23      9  VCAP   VCAP_9   \n",
       "\n",
       "                                     canonical_smiles  \n",
       "0                   Brc1c[nH]c2nc(SCc3ccccc3C#N)nc2c1  \n",
       "1             Brc1ccc(CSc2nnc(c3ccccn3)n2Cc4ccco4)cc1  \n",
       "2                   Brc1c[nH]c2nc(SCc3ccccc3C#N)nc2c1  \n",
       "3                   Brc1c[nH]c2nc(SCc3ccccc3C#N)nc2c1  \n",
       "4                   Brc1c[nH]c2nc(SCc3ccccc3C#N)nc2c1  \n",
       "5             Brc1ccc(CSc2nnc(c3ccccn3)n2Cc4ccco4)cc1  \n",
       "6   Brc1ccc(NC(=O)N2NC(=O)[C@H]([C@@H]2c2ccccc2)c2...  \n",
       "7   Brc1ccc(NC(=O)N2NC(=O)[C@H]([C@@H]2c2ccccc2)c2...  \n",
       "8             Brc1ccc(CSc2nnc(c3ccccn3)n2Cc4ccco4)cc1  \n",
       "9   Brc1ccc(NC(=O)N2NC(=O)[C@H]([C@@H]2c2ccccc2)c2...  \n",
       "10            Brc1ccc(CSc2nnc(c3ccccn3)n2Cc4ccco4)cc1  \n",
       "11            Brc1ccc(CSc2nnc(c3ccccn3)n2Cc4ccco4)cc1  \n",
       "12            Brc1ccc(CSc2nnc(c3ccccn3)n2Cc4ccco4)cc1  \n",
       "13                  Brc1c[nH]c2nc(SCc3ccccc3C#N)nc2c1  \n",
       "14                  Brc1c[nH]c2nc(SCc3ccccc3C#N)nc2c1  \n",
       "15                  Brc1c[nH]c2nc(SCc3ccccc3C#N)nc2c1  \n",
       "16            Brc1ccc(CSc2nnc(c3ccccn3)n2Cc4ccco4)cc1  \n",
       "\n",
       "[17 rows x 24 columns]"
      ],
      "text/html": [
       "<div>\n",
       "<style scoped>\n",
       "    .dataframe tbody tr th:only-of-type {\n",
       "        vertical-align: middle;\n",
       "    }\n",
       "\n",
       "    .dataframe tbody tr th {\n",
       "        vertical-align: top;\n",
       "    }\n",
       "\n",
       "    .dataframe thead th {\n",
       "        text-align: right;\n",
       "    }\n",
       "</style>\n",
       "<table border=\"1\" class=\"dataframe\">\n",
       "  <thead>\n",
       "    <tr style=\"text-align: right;\">\n",
       "      <th></th>\n",
       "      <th>x1_rec_pearson</th>\n",
       "      <th>x1_rec_rmse</th>\n",
       "      <th>x1_rec_neg_precision100</th>\n",
       "      <th>x1_rec_pos_precision100</th>\n",
       "      <th>x2_rec_pearson</th>\n",
       "      <th>x2_rec_rmse</th>\n",
       "      <th>x2_rec_neg_precision100</th>\n",
       "      <th>x2_rec_pos_precision100</th>\n",
       "      <th>x2_pred_pearson</th>\n",
       "      <th>x2_pred_rmse</th>\n",
       "      <th>...</th>\n",
       "      <th>DEG_rec_neg_precision100</th>\n",
       "      <th>DEG_rec_pos_precision100</th>\n",
       "      <th>DEG_pred_pearson</th>\n",
       "      <th>DEG_pred_rmse</th>\n",
       "      <th>DEG_pred_neg_precision100</th>\n",
       "      <th>DEG_pred_pos_precision100</th>\n",
       "      <th>cp_id</th>\n",
       "      <th>cid</th>\n",
       "      <th>sig</th>\n",
       "      <th>canonical_smiles</th>\n",
       "    </tr>\n",
       "  </thead>\n",
       "  <tbody>\n",
       "    <tr>\n",
       "      <th>0</th>\n",
       "      <td>0.975636</td>\n",
       "      <td>0.490170</td>\n",
       "      <td>0.84</td>\n",
       "      <td>0.83</td>\n",
       "      <td>0.981251</td>\n",
       "      <td>0.429405</td>\n",
       "      <td>0.83</td>\n",
       "      <td>0.90</td>\n",
       "      <td>0.902980</td>\n",
       "      <td>0.965810</td>\n",
       "      <td>...</td>\n",
       "      <td>0.33</td>\n",
       "      <td>0.32</td>\n",
       "      <td>0.115140</td>\n",
       "      <td>0.965810</td>\n",
       "      <td>0.11</td>\n",
       "      <td>0.16</td>\n",
       "      <td>6</td>\n",
       "      <td>HT29</td>\n",
       "      <td>HT29_6</td>\n",
       "      <td>Brc1c[nH]c2nc(SCc3ccccc3C#N)nc2c1</td>\n",
       "    </tr>\n",
       "    <tr>\n",
       "      <th>1</th>\n",
       "      <td>0.977697</td>\n",
       "      <td>0.476492</td>\n",
       "      <td>0.88</td>\n",
       "      <td>0.86</td>\n",
       "      <td>0.965035</td>\n",
       "      <td>0.581619</td>\n",
       "      <td>0.84</td>\n",
       "      <td>0.83</td>\n",
       "      <td>0.755016</td>\n",
       "      <td>1.581928</td>\n",
       "      <td>...</td>\n",
       "      <td>0.49</td>\n",
       "      <td>0.36</td>\n",
       "      <td>0.151905</td>\n",
       "      <td>1.581928</td>\n",
       "      <td>0.16</td>\n",
       "      <td>0.17</td>\n",
       "      <td>9</td>\n",
       "      <td>A549</td>\n",
       "      <td>A549_9</td>\n",
       "      <td>Brc1ccc(CSc2nnc(c3ccccn3)n2Cc4ccco4)cc1</td>\n",
       "    </tr>\n",
       "    <tr>\n",
       "      <th>2</th>\n",
       "      <td>0.919622</td>\n",
       "      <td>0.905333</td>\n",
       "      <td>0.69</td>\n",
       "      <td>0.74</td>\n",
       "      <td>0.954440</td>\n",
       "      <td>0.696276</td>\n",
       "      <td>0.78</td>\n",
       "      <td>0.79</td>\n",
       "      <td>0.736971</td>\n",
       "      <td>1.688478</td>\n",
       "      <td>...</td>\n",
       "      <td>0.30</td>\n",
       "      <td>0.42</td>\n",
       "      <td>0.231879</td>\n",
       "      <td>1.688478</td>\n",
       "      <td>0.14</td>\n",
       "      <td>0.20</td>\n",
       "      <td>6</td>\n",
       "      <td>VCAP</td>\n",
       "      <td>VCAP_6</td>\n",
       "      <td>Brc1c[nH]c2nc(SCc3ccccc3C#N)nc2c1</td>\n",
       "    </tr>\n",
       "    <tr>\n",
       "      <th>3</th>\n",
       "      <td>0.970973</td>\n",
       "      <td>0.542568</td>\n",
       "      <td>0.81</td>\n",
       "      <td>0.83</td>\n",
       "      <td>0.981312</td>\n",
       "      <td>0.444086</td>\n",
       "      <td>0.84</td>\n",
       "      <td>0.86</td>\n",
       "      <td>0.870635</td>\n",
       "      <td>1.168393</td>\n",
       "      <td>...</td>\n",
       "      <td>0.43</td>\n",
       "      <td>0.48</td>\n",
       "      <td>0.249201</td>\n",
       "      <td>1.168393</td>\n",
       "      <td>0.25</td>\n",
       "      <td>0.12</td>\n",
       "      <td>6</td>\n",
       "      <td>MCF7</td>\n",
       "      <td>MCF7_6</td>\n",
       "      <td>Brc1c[nH]c2nc(SCc3ccccc3C#N)nc2c1</td>\n",
       "    </tr>\n",
       "    <tr>\n",
       "      <th>4</th>\n",
       "      <td>0.973194</td>\n",
       "      <td>0.520198</td>\n",
       "      <td>0.83</td>\n",
       "      <td>0.91</td>\n",
       "      <td>0.979150</td>\n",
       "      <td>0.465066</td>\n",
       "      <td>0.88</td>\n",
       "      <td>0.90</td>\n",
       "      <td>0.903241</td>\n",
       "      <td>0.966815</td>\n",
       "      <td>...</td>\n",
       "      <td>0.34</td>\n",
       "      <td>0.35</td>\n",
       "      <td>0.155124</td>\n",
       "      <td>0.966815</td>\n",
       "      <td>0.17</td>\n",
       "      <td>0.15</td>\n",
       "      <td>6</td>\n",
       "      <td>A375</td>\n",
       "      <td>A375_6</td>\n",
       "      <td>Brc1c[nH]c2nc(SCc3ccccc3C#N)nc2c1</td>\n",
       "    </tr>\n",
       "    <tr>\n",
       "      <th>5</th>\n",
       "      <td>0.955418</td>\n",
       "      <td>0.676788</td>\n",
       "      <td>0.80</td>\n",
       "      <td>0.82</td>\n",
       "      <td>0.966689</td>\n",
       "      <td>0.603037</td>\n",
       "      <td>0.85</td>\n",
       "      <td>0.85</td>\n",
       "      <td>0.787254</td>\n",
       "      <td>1.678631</td>\n",
       "      <td>...</td>\n",
       "      <td>0.55</td>\n",
       "      <td>0.36</td>\n",
       "      <td>0.242159</td>\n",
       "      <td>1.678631</td>\n",
       "      <td>0.25</td>\n",
       "      <td>0.14</td>\n",
       "      <td>9</td>\n",
       "      <td>MCF7</td>\n",
       "      <td>MCF7_9</td>\n",
       "      <td>Brc1ccc(CSc2nnc(c3ccccn3)n2Cc4ccco4)cc1</td>\n",
       "    </tr>\n",
       "    <tr>\n",
       "      <th>6</th>\n",
       "      <td>0.947543</td>\n",
       "      <td>0.738483</td>\n",
       "      <td>0.77</td>\n",
       "      <td>0.80</td>\n",
       "      <td>0.966840</td>\n",
       "      <td>0.575661</td>\n",
       "      <td>0.84</td>\n",
       "      <td>0.87</td>\n",
       "      <td>0.677817</td>\n",
       "      <td>1.760884</td>\n",
       "      <td>...</td>\n",
       "      <td>0.33</td>\n",
       "      <td>0.43</td>\n",
       "      <td>0.257360</td>\n",
       "      <td>1.760884</td>\n",
       "      <td>0.19</td>\n",
       "      <td>0.16</td>\n",
       "      <td>13</td>\n",
       "      <td>ASC</td>\n",
       "      <td>ASC_13</td>\n",
       "      <td>Brc1ccc(NC(=O)N2NC(=O)[C@H]([C@@H]2c2ccccc2)c2...</td>\n",
       "    </tr>\n",
       "    <tr>\n",
       "      <th>7</th>\n",
       "      <td>0.952254</td>\n",
       "      <td>0.683658</td>\n",
       "      <td>0.79</td>\n",
       "      <td>0.82</td>\n",
       "      <td>0.976102</td>\n",
       "      <td>0.491905</td>\n",
       "      <td>0.84</td>\n",
       "      <td>0.86</td>\n",
       "      <td>0.598849</td>\n",
       "      <td>2.130585</td>\n",
       "      <td>...</td>\n",
       "      <td>0.49</td>\n",
       "      <td>0.40</td>\n",
       "      <td>0.141994</td>\n",
       "      <td>2.130585</td>\n",
       "      <td>0.15</td>\n",
       "      <td>0.18</td>\n",
       "      <td>13</td>\n",
       "      <td>HA1E</td>\n",
       "      <td>HA1E_13</td>\n",
       "      <td>Brc1ccc(NC(=O)N2NC(=O)[C@H]([C@@H]2c2ccccc2)c2...</td>\n",
       "    </tr>\n",
       "    <tr>\n",
       "      <th>8</th>\n",
       "      <td>0.965418</td>\n",
       "      <td>0.599021</td>\n",
       "      <td>0.81</td>\n",
       "      <td>0.78</td>\n",
       "      <td>0.967296</td>\n",
       "      <td>0.588074</td>\n",
       "      <td>0.84</td>\n",
       "      <td>0.84</td>\n",
       "      <td>0.856472</td>\n",
       "      <td>1.275750</td>\n",
       "      <td>...</td>\n",
       "      <td>0.44</td>\n",
       "      <td>0.51</td>\n",
       "      <td>0.191890</td>\n",
       "      <td>1.275750</td>\n",
       "      <td>0.18</td>\n",
       "      <td>0.13</td>\n",
       "      <td>9</td>\n",
       "      <td>PC3</td>\n",
       "      <td>PC3_9</td>\n",
       "      <td>Brc1ccc(CSc2nnc(c3ccccn3)n2Cc4ccco4)cc1</td>\n",
       "    </tr>\n",
       "    <tr>\n",
       "      <th>9</th>\n",
       "      <td>0.951248</td>\n",
       "      <td>0.772943</td>\n",
       "      <td>0.79</td>\n",
       "      <td>0.80</td>\n",
       "      <td>0.967425</td>\n",
       "      <td>0.619789</td>\n",
       "      <td>0.86</td>\n",
       "      <td>0.87</td>\n",
       "      <td>0.825511</td>\n",
       "      <td>1.389391</td>\n",
       "      <td>...</td>\n",
       "      <td>0.42</td>\n",
       "      <td>0.43</td>\n",
       "      <td>0.238073</td>\n",
       "      <td>1.389391</td>\n",
       "      <td>0.18</td>\n",
       "      <td>0.23</td>\n",
       "      <td>13</td>\n",
       "      <td>A549</td>\n",
       "      <td>A549_13</td>\n",
       "      <td>Brc1ccc(NC(=O)N2NC(=O)[C@H]([C@@H]2c2ccccc2)c2...</td>\n",
       "    </tr>\n",
       "    <tr>\n",
       "      <th>10</th>\n",
       "      <td>0.962846</td>\n",
       "      <td>0.603456</td>\n",
       "      <td>0.78</td>\n",
       "      <td>0.83</td>\n",
       "      <td>0.975669</td>\n",
       "      <td>0.492799</td>\n",
       "      <td>0.85</td>\n",
       "      <td>0.89</td>\n",
       "      <td>0.791868</td>\n",
       "      <td>1.508076</td>\n",
       "      <td>...</td>\n",
       "      <td>0.43</td>\n",
       "      <td>0.40</td>\n",
       "      <td>0.294210</td>\n",
       "      <td>1.508076</td>\n",
       "      <td>0.19</td>\n",
       "      <td>0.28</td>\n",
       "      <td>9</td>\n",
       "      <td>HA1E</td>\n",
       "      <td>HA1E_9</td>\n",
       "      <td>Brc1ccc(CSc2nnc(c3ccccn3)n2Cc4ccco4)cc1</td>\n",
       "    </tr>\n",
       "    <tr>\n",
       "      <th>11</th>\n",
       "      <td>0.975717</td>\n",
       "      <td>0.488853</td>\n",
       "      <td>0.85</td>\n",
       "      <td>0.84</td>\n",
       "      <td>0.966949</td>\n",
       "      <td>0.573188</td>\n",
       "      <td>0.83</td>\n",
       "      <td>0.87</td>\n",
       "      <td>0.671189</td>\n",
       "      <td>1.812073</td>\n",
       "      <td>...</td>\n",
       "      <td>0.27</td>\n",
       "      <td>0.38</td>\n",
       "      <td>0.192124</td>\n",
       "      <td>1.812073</td>\n",
       "      <td>0.29</td>\n",
       "      <td>0.17</td>\n",
       "      <td>9</td>\n",
       "      <td>HT29</td>\n",
       "      <td>HT29_9</td>\n",
       "      <td>Brc1ccc(CSc2nnc(c3ccccn3)n2Cc4ccco4)cc1</td>\n",
       "    </tr>\n",
       "    <tr>\n",
       "      <th>12</th>\n",
       "      <td>0.974037</td>\n",
       "      <td>0.511507</td>\n",
       "      <td>0.82</td>\n",
       "      <td>0.87</td>\n",
       "      <td>0.974833</td>\n",
       "      <td>0.513025</td>\n",
       "      <td>0.85</td>\n",
       "      <td>0.88</td>\n",
       "      <td>0.802006</td>\n",
       "      <td>1.427442</td>\n",
       "      <td>...</td>\n",
       "      <td>0.49</td>\n",
       "      <td>0.56</td>\n",
       "      <td>0.354791</td>\n",
       "      <td>1.427442</td>\n",
       "      <td>0.32</td>\n",
       "      <td>0.35</td>\n",
       "      <td>9</td>\n",
       "      <td>A375</td>\n",
       "      <td>A375_9</td>\n",
       "      <td>Brc1ccc(CSc2nnc(c3ccccn3)n2Cc4ccco4)cc1</td>\n",
       "    </tr>\n",
       "    <tr>\n",
       "      <th>13</th>\n",
       "      <td>0.976462</td>\n",
       "      <td>0.488746</td>\n",
       "      <td>0.87</td>\n",
       "      <td>0.86</td>\n",
       "      <td>0.981477</td>\n",
       "      <td>0.444513</td>\n",
       "      <td>0.88</td>\n",
       "      <td>0.90</td>\n",
       "      <td>0.882518</td>\n",
       "      <td>1.265723</td>\n",
       "      <td>...</td>\n",
       "      <td>0.36</td>\n",
       "      <td>0.34</td>\n",
       "      <td>0.187415</td>\n",
       "      <td>1.265723</td>\n",
       "      <td>0.14</td>\n",
       "      <td>0.14</td>\n",
       "      <td>6</td>\n",
       "      <td>A549</td>\n",
       "      <td>A549_6</td>\n",
       "      <td>Brc1c[nH]c2nc(SCc3ccccc3C#N)nc2c1</td>\n",
       "    </tr>\n",
       "    <tr>\n",
       "      <th>14</th>\n",
       "      <td>0.959555</td>\n",
       "      <td>0.680193</td>\n",
       "      <td>0.81</td>\n",
       "      <td>0.80</td>\n",
       "      <td>0.982235</td>\n",
       "      <td>0.425285</td>\n",
       "      <td>0.88</td>\n",
       "      <td>0.87</td>\n",
       "      <td>0.807337</td>\n",
       "      <td>1.378203</td>\n",
       "      <td>...</td>\n",
       "      <td>0.35</td>\n",
       "      <td>0.51</td>\n",
       "      <td>0.164688</td>\n",
       "      <td>1.378203</td>\n",
       "      <td>0.15</td>\n",
       "      <td>0.12</td>\n",
       "      <td>6</td>\n",
       "      <td>PC3</td>\n",
       "      <td>PC3_6</td>\n",
       "      <td>Brc1c[nH]c2nc(SCc3ccccc3C#N)nc2c1</td>\n",
       "    </tr>\n",
       "    <tr>\n",
       "      <th>15</th>\n",
       "      <td>0.959088</td>\n",
       "      <td>0.627306</td>\n",
       "      <td>0.80</td>\n",
       "      <td>0.82</td>\n",
       "      <td>0.972968</td>\n",
       "      <td>0.515201</td>\n",
       "      <td>0.85</td>\n",
       "      <td>0.90</td>\n",
       "      <td>0.825387</td>\n",
       "      <td>1.273605</td>\n",
       "      <td>...</td>\n",
       "      <td>0.29</td>\n",
       "      <td>0.40</td>\n",
       "      <td>0.122437</td>\n",
       "      <td>1.273605</td>\n",
       "      <td>0.11</td>\n",
       "      <td>0.19</td>\n",
       "      <td>6</td>\n",
       "      <td>HA1E</td>\n",
       "      <td>HA1E_6</td>\n",
       "      <td>Brc1c[nH]c2nc(SCc3ccccc3C#N)nc2c1</td>\n",
       "    </tr>\n",
       "    <tr>\n",
       "      <th>16</th>\n",
       "      <td>0.907004</td>\n",
       "      <td>0.978314</td>\n",
       "      <td>0.71</td>\n",
       "      <td>0.72</td>\n",
       "      <td>0.946231</td>\n",
       "      <td>0.771645</td>\n",
       "      <td>0.78</td>\n",
       "      <td>0.79</td>\n",
       "      <td>0.761212</td>\n",
       "      <td>1.658991</td>\n",
       "      <td>...</td>\n",
       "      <td>0.35</td>\n",
       "      <td>0.56</td>\n",
       "      <td>0.284954</td>\n",
       "      <td>1.658991</td>\n",
       "      <td>0.19</td>\n",
       "      <td>0.23</td>\n",
       "      <td>9</td>\n",
       "      <td>VCAP</td>\n",
       "      <td>VCAP_9</td>\n",
       "      <td>Brc1ccc(CSc2nnc(c3ccccn3)n2Cc4ccco4)cc1</td>\n",
       "    </tr>\n",
       "  </tbody>\n",
       "</table>\n",
       "<p>17 rows × 24 columns</p>\n",
       "</div>"
      ]
     },
     "execution_count": 24,
     "metadata": {},
     "output_type": "execute_result"
    }
   ],
   "execution_count": 24
  },
  {
   "cell_type": "code",
   "execution_count": null,
   "id": "fe449323-0342-4c90-a1f1-eb1ddec50059",
   "metadata": {},
   "outputs": [],
   "source": []
  }
 ],
 "metadata": {
  "kernelspec": {
   "display_name": "Python 3 (ipykernel)",
   "language": "python",
   "name": "python3"
  },
  "language_info": {
   "codemirror_mode": {
    "name": "ipython",
    "version": 3
   },
   "file_extension": ".py",
   "mimetype": "text/x-python",
   "name": "python",
   "nbconvert_exporter": "python",
   "pygments_lexer": "ipython3",
   "version": "3.11.7"
  }
 },
 "nbformat": 4,
 "nbformat_minor": 5
}
